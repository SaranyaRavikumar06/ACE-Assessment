{
  "nbformat": 4,
  "nbformat_minor": 0,
  "metadata": {
    "colab": {
      "name": "AceAssessment3.ipynb",
      "provenance": [],
      "collapsed_sections": [],
      "authorship_tag": "ABX9TyNAyn3ZYFQWIKEPG1sJg5fU",
      "include_colab_link": true
    },
    "kernelspec": {
      "name": "python3",
      "display_name": "Python 3"
    },
    "language_info": {
      "name": "python"
    }
  },
  "cells": [
    {
      "cell_type": "markdown",
      "metadata": {
        "id": "view-in-github",
        "colab_type": "text"
      },
      "source": [
        "<a href=\"https://colab.research.google.com/github/SaranyaRavikumar06/ACE-Assessment/blob/main/AceAssessment3.ipynb\" target=\"_parent\"><img src=\"https://colab.research.google.com/assets/colab-badge.svg\" alt=\"Open In Colab\"/></a>"
      ]
    },
    {
      "cell_type": "markdown",
      "source": [
        "# **Import Libraries**"
      ],
      "metadata": {
        "id": "O15kIYt9o3uP"
      }
    },
    {
      "cell_type": "code",
      "execution_count": null,
      "metadata": {
        "colab": {
          "base_uri": "https://localhost:8080/"
        },
        "id": "vjTDZevNyy8u",
        "outputId": "5b002003-032a-462d-87ac-f0d5f5f017df"
      },
      "outputs": [
        {
          "output_type": "stream",
          "name": "stdout",
          "text": [
            "As a term, data analytics predominantly refers to an assortment of applications, from basic \n",
            "business intelligence (BI), reporting and online analytical processing (OLAP) to various forms of \n",
            "advanced analytics. In that sense, it's similar in nature to business analytics, another umbrella \n",
            "term for approaches to analyzing data -- with the difference that the latter is oriented to \n",
            "business uses, while data analytics has a broader focus. The expansive view of the term isn't \n",
            "universal, though: In some cases, people use data analytics specifically to mean advanced \n",
            "analytics, treating BI as a separate category. Data analytics initiatives can help businesses \n",
            "increase revenues, improve operational efficiency, optimize marketing campaigns and customer \n",
            "service efforts, respond more quickly to emerging market trends and gain a competitive edge \n",
            "over rivals -- all with the ultimate goal of boosting business performance. Depending on the \n",
            "particular application, the data that's analyzed can consist of either historical records or new \n",
            "information that has been processed for real-time analytics uses. In addition, it can come from a \n",
            "mix of internal systems and external data sources. At a high level, data analytics methodologies \n",
            "include exploratory data analysis (EDA), which aims to find patterns and relationships in data, \n",
            "and confirmatory data analysis (CDA), which applies statistical techniques to determine whether \n",
            "hypotheses about a data set are true or false. EDA is often compared to detective work, while \n",
            "CDA is akin to the work of a judge or jury during a court trial -- a distinction first drawn by \n",
            "statistician John W. Tukey in his 1977 book Exploratory Data Analysis. Data analytics can also \n",
            "be separated into quantitative data analysis and qualitative data analysis. The former involves \n",
            "analysis of numerical data with quantifiable variables that can be compared or measured \n",
            "statistically. The qualitative approach is more interpretive -- it focuses on understanding the \n",
            "content of non-numerical data like text, images, audio and video, including common phrases, \n",
            "themes and points of view.\n"
          ]
        }
      ],
      "source": [
        "import re\n",
        "from collections import Counter\n",
        "import pandas as pd\n",
        "import nltk \n",
        "from sklearn.feature_extraction.text import CountVectorizer, TfidfVectorizer \n",
        "from nltk.corpus import stopwords \n",
        "from nltk.tokenize import word_tokenize \n",
        "sample = \"\"\"As a term, data analytics predominantly refers to an assortment of applications, from basic \\nbusiness intelligence (BI), reporting and online analytical processing (OLAP) to various forms of \\nadvanced analytics. In that sense, it's similar in nature to business analytics, another umbrella \\nterm for approaches to analyzing data -- with the difference that the latter is oriented to \\nbusiness uses, while data analytics has a broader focus. The expansive view of the term isn't \\nuniversal, though: In some cases, people use data analytics specifically to mean advanced \\nanalytics, treating BI as a separate category. Data analytics initiatives can help businesses \\nincrease revenues, improve operational efficiency, optimize marketing campaigns and customer \\nservice efforts, respond more quickly to emerging market trends and gain a competitive edge \\nover rivals -- all with the ultimate goal of boosting business performance. Depending on the \\nparticular application, the data that's analyzed can consist of either historical records or new \\ninformation that has been processed for real-time analytics uses. In addition, it can come from a \\nmix of internal systems and external data sources. At a high level, data analytics methodologies \\ninclude exploratory data analysis (EDA), which aims to find patterns and relationships in data, \\nand confirmatory data analysis (CDA), which applies statistical techniques to determine whether \\nhypotheses about a data set are true or false. EDA is often compared to detective work, while \\nCDA is akin to the work of a judge or jury during a court trial -- a distinction first drawn by \\nstatistician John W. Tukey in his 1977 book Exploratory Data Analysis. Data analytics can also \\nbe separated into quantitative data analysis and qualitative data analysis. The former involves \\nanalysis of numerical data with quantifiable variables that can be compared or measured \\nstatistically. The qualitative approach is more interpretive -- it focuses on understanding the \\ncontent of non-numerical data like text, images, audio and video, including common phrases, \\nthemes and points of view.\"\"\"\n",
        "print(sample)"
      ]
    },
    {
      "cell_type": "code",
      "source": [
        "#Find the number of lines in the text data by converting it into lowercase\n",
        "sample = sample.lower()\n",
        "line_list = sample.splitlines()\n",
        "nlines = len(line_list)\n",
        "nlines"
      ],
      "metadata": {
        "colab": {
          "base_uri": "https://localhost:8080/"
        },
        "id": "YqnY9AvnzBIg",
        "outputId": "c65e14d0-efba-446d-d078-dcfeeb4ccd09"
      },
      "execution_count": null,
      "outputs": [
        {
          "output_type": "execute_result",
          "data": {
            "text/plain": [
              "23"
            ]
          },
          "metadata": {},
          "execution_count": 113
        }
      ]
    },
    {
      "cell_type": "markdown",
      "source": [
        "**Data Exploration**"
      ],
      "metadata": {
        "id": "qs5i1iRlpQLL"
      }
    },
    {
      "cell_type": "code",
      "source": [
        "def tokenize(string):\n",
        "    return re.compile('\\w+').findall(string)\n",
        "\n",
        "def word_freq(string): \n",
        "    text = tokenize(string.lower())\n",
        "    c = Counter(text)           # count the words\n",
        "    d = Counter(''.join(text))  # count all letters\n",
        "    return (dict(c))    # return a tuple of counted words and letters\n",
        "\n",
        "def return_word_freq(string): \n",
        "    text = tokenize(string.lower())\n",
        "    c = Counter(text)           # count the words\n",
        "    d = Counter(''.join(text))  # count all letters\n",
        "    return (dict(c), dict(d))    # return a tuple of counted words and letters\n",
        "\n",
        "words = word_freq(sample) # count and get dicts with counts\n",
        "words_, letters = return_word_freq(sample)\n",
        "\n",
        "sumWords = sum(words.values())       # sum total words\n",
        "sumLetters = sum(letters.values())   # sum total letters"
      ],
      "metadata": {
        "id": "D21elav21evW"
      },
      "execution_count": null,
      "outputs": []
    },
    {
      "cell_type": "code",
      "source": [
        "words_"
      ],
      "metadata": {
        "colab": {
          "base_uri": "https://localhost:8080/"
        },
        "id": "0wjMAzGFfxZO",
        "outputId": "8cd64da2-b013-47f1-9232-4cbcbd6fa702"
      },
      "execution_count": 123,
      "outputs": [
        {
          "output_type": "execute_result",
          "data": {
            "text/plain": [
              "{'1977': 1,\n",
              " 'a': 10,\n",
              " 'about': 1,\n",
              " 'addition': 1,\n",
              " 'advanced': 2,\n",
              " 'aims': 1,\n",
              " 'akin': 1,\n",
              " 'all': 1,\n",
              " 'also': 1,\n",
              " 'an': 1,\n",
              " 'analysis': 6,\n",
              " 'analytical': 1,\n",
              " 'analytics': 10,\n",
              " 'analyzed': 1,\n",
              " 'analyzing': 1,\n",
              " 'and': 9,\n",
              " 'another': 1,\n",
              " 'application': 1,\n",
              " 'applications': 1,\n",
              " 'applies': 1,\n",
              " 'approach': 1,\n",
              " 'approaches': 1,\n",
              " 'are': 1,\n",
              " 'as': 2,\n",
              " 'assortment': 1,\n",
              " 'at': 1,\n",
              " 'audio': 1,\n",
              " 'basic': 1,\n",
              " 'be': 2,\n",
              " 'been': 1,\n",
              " 'bi': 2,\n",
              " 'book': 1,\n",
              " 'boosting': 1,\n",
              " 'broader': 1,\n",
              " 'business': 4,\n",
              " 'businesses': 1,\n",
              " 'by': 1,\n",
              " 'campaigns': 1,\n",
              " 'can': 5,\n",
              " 'cases': 1,\n",
              " 'category': 1,\n",
              " 'cda': 2,\n",
              " 'come': 1,\n",
              " 'common': 1,\n",
              " 'compared': 2,\n",
              " 'competitive': 1,\n",
              " 'confirmatory': 1,\n",
              " 'consist': 1,\n",
              " 'content': 1,\n",
              " 'court': 1,\n",
              " 'customer': 1,\n",
              " 'data': 18,\n",
              " 'depending': 1,\n",
              " 'detective': 1,\n",
              " 'determine': 1,\n",
              " 'difference': 1,\n",
              " 'distinction': 1,\n",
              " 'drawn': 1,\n",
              " 'during': 1,\n",
              " 'eda': 2,\n",
              " 'edge': 1,\n",
              " 'efficiency': 1,\n",
              " 'efforts': 1,\n",
              " 'either': 1,\n",
              " 'emerging': 1,\n",
              " 'expansive': 1,\n",
              " 'exploratory': 2,\n",
              " 'external': 1,\n",
              " 'false': 1,\n",
              " 'find': 1,\n",
              " 'first': 1,\n",
              " 'focus': 1,\n",
              " 'focuses': 1,\n",
              " 'for': 2,\n",
              " 'former': 1,\n",
              " 'forms': 1,\n",
              " 'from': 2,\n",
              " 'gain': 1,\n",
              " 'goal': 1,\n",
              " 'has': 2,\n",
              " 'help': 1,\n",
              " 'high': 1,\n",
              " 'his': 1,\n",
              " 'historical': 1,\n",
              " 'hypotheses': 1,\n",
              " 'images': 1,\n",
              " 'improve': 1,\n",
              " 'in': 6,\n",
              " 'include': 1,\n",
              " 'including': 1,\n",
              " 'increase': 1,\n",
              " 'information': 1,\n",
              " 'initiatives': 1,\n",
              " 'intelligence': 1,\n",
              " 'internal': 1,\n",
              " 'interpretive': 1,\n",
              " 'into': 1,\n",
              " 'involves': 1,\n",
              " 'is': 4,\n",
              " 'isn': 1,\n",
              " 'it': 3,\n",
              " 'john': 1,\n",
              " 'judge': 1,\n",
              " 'jury': 1,\n",
              " 'latter': 1,\n",
              " 'level': 1,\n",
              " 'like': 1,\n",
              " 'market': 1,\n",
              " 'marketing': 1,\n",
              " 'mean': 1,\n",
              " 'measured': 1,\n",
              " 'methodologies': 1,\n",
              " 'mix': 1,\n",
              " 'more': 2,\n",
              " 'nature': 1,\n",
              " 'new': 1,\n",
              " 'non': 1,\n",
              " 'numerical': 2,\n",
              " 'of': 10,\n",
              " 'often': 1,\n",
              " 'olap': 1,\n",
              " 'on': 2,\n",
              " 'online': 1,\n",
              " 'operational': 1,\n",
              " 'optimize': 1,\n",
              " 'or': 4,\n",
              " 'oriented': 1,\n",
              " 'over': 1,\n",
              " 'particular': 1,\n",
              " 'patterns': 1,\n",
              " 'people': 1,\n",
              " 'performance': 1,\n",
              " 'phrases': 1,\n",
              " 'points': 1,\n",
              " 'predominantly': 1,\n",
              " 'processed': 1,\n",
              " 'processing': 1,\n",
              " 'qualitative': 2,\n",
              " 'quantifiable': 1,\n",
              " 'quantitative': 1,\n",
              " 'quickly': 1,\n",
              " 'real': 1,\n",
              " 'records': 1,\n",
              " 'refers': 1,\n",
              " 'relationships': 1,\n",
              " 'reporting': 1,\n",
              " 'respond': 1,\n",
              " 'revenues': 1,\n",
              " 'rivals': 1,\n",
              " 's': 2,\n",
              " 'sense': 1,\n",
              " 'separate': 1,\n",
              " 'separated': 1,\n",
              " 'service': 1,\n",
              " 'set': 1,\n",
              " 'similar': 1,\n",
              " 'some': 1,\n",
              " 'sources': 1,\n",
              " 'specifically': 1,\n",
              " 'statistical': 1,\n",
              " 'statistically': 1,\n",
              " 'statistician': 1,\n",
              " 'systems': 1,\n",
              " 't': 1,\n",
              " 'techniques': 1,\n",
              " 'term': 3,\n",
              " 'text': 1,\n",
              " 'that': 5,\n",
              " 'the': 11,\n",
              " 'themes': 1,\n",
              " 'though': 1,\n",
              " 'time': 1,\n",
              " 'to': 11,\n",
              " 'treating': 1,\n",
              " 'trends': 1,\n",
              " 'trial': 1,\n",
              " 'true': 1,\n",
              " 'tukey': 1,\n",
              " 'ultimate': 1,\n",
              " 'umbrella': 1,\n",
              " 'understanding': 1,\n",
              " 'universal': 1,\n",
              " 'use': 1,\n",
              " 'uses': 2,\n",
              " 'variables': 1,\n",
              " 'various': 1,\n",
              " 'video': 1,\n",
              " 'view': 2,\n",
              " 'w': 1,\n",
              " 'whether': 1,\n",
              " 'which': 2,\n",
              " 'while': 2,\n",
              " 'with': 3,\n",
              " 'work': 2}"
            ]
          },
          "metadata": {},
          "execution_count": 123
        }
      ]
    },
    {
      "cell_type": "code",
      "source": [
        "sumWords"
      ],
      "metadata": {
        "colab": {
          "base_uri": "https://localhost:8080/"
        },
        "id": "XMiXToy91php",
        "outputId": "ed4258c6-73fd-4563-9751-a4a73de8bf03"
      },
      "execution_count": null,
      "outputs": [
        {
          "output_type": "execute_result",
          "data": {
            "text/plain": [
              "320"
            ]
          },
          "metadata": {},
          "execution_count": 116
        }
      ]
    },
    {
      "cell_type": "code",
      "source": [
        "sumLetters"
      ],
      "metadata": {
        "colab": {
          "base_uri": "https://localhost:8080/"
        },
        "id": "ZuhHmLmV1sIU",
        "outputId": "28d01c5f-d96f-4fe5-a48b-05fab450bff7"
      },
      "execution_count": null,
      "outputs": [
        {
          "output_type": "execute_result",
          "data": {
            "text/plain": [
              "1728"
            ]
          },
          "metadata": {},
          "execution_count": 117
        }
      ]
    },
    {
      "cell_type": "code",
      "source": [
        "len(words)"
      ],
      "metadata": {
        "colab": {
          "base_uri": "https://localhost:8080/"
        },
        "id": "c5LhduA81obQ",
        "outputId": "4d0da80d-3f33-4d00-84b1-8d3a552ec517"
      },
      "execution_count": null,
      "outputs": [
        {
          "output_type": "execute_result",
          "data": {
            "text/plain": [
              "194"
            ]
          },
          "metadata": {},
          "execution_count": 118
        }
      ]
    },
    {
      "cell_type": "code",
      "source": [
        "#Display the words having frequency greater than value count as 8\n",
        "{k:v for (k,v) in words.items() if v>8 }"
      ],
      "metadata": {
        "colab": {
          "base_uri": "https://localhost:8080/"
        },
        "id": "bq2HLGUV10Cw",
        "outputId": "7d7c34f8-a706-40a1-bdbb-156b8c13feee"
      },
      "execution_count": null,
      "outputs": [
        {
          "output_type": "execute_result",
          "data": {
            "text/plain": [
              "{'a': 10, 'analytics': 10, 'and': 9, 'data': 18, 'of': 10, 'the': 11, 'to': 11}"
            ]
          },
          "metadata": {},
          "execution_count": 119
        }
      ]
    },
    {
      "cell_type": "code",
      "source": [
        "# The probability of an event A is the number of ways event A can occur divided by the total number of possible outcomes.\n",
        "data_count = words['data']\n",
        "print(data_count)\n"
      ],
      "metadata": {
        "colab": {
          "base_uri": "https://localhost:8080/"
        },
        "id": "K3qXcjl514og",
        "outputId": "8b9b984a-2dfb-4585-b94f-dc19bc32bd63"
      },
      "execution_count": null,
      "outputs": [
        {
          "output_type": "stream",
          "name": "stdout",
          "text": [
            "18\n"
          ]
        }
      ]
    },
    {
      "cell_type": "code",
      "source": [
        "#Display the probablity_of_data_appearing_in_every_line\n",
        "probablity_of_data_appearing_in_every_line = data_count/nlines\n",
        "print(probablity_of_data_appearing_in_every_line)"
      ],
      "metadata": {
        "colab": {
          "base_uri": "https://localhost:8080/"
        },
        "id": "-dbb5dvm2Bl8",
        "outputId": "cb1fad0b-b9ee-434a-cbd1-e4f8e17a3615"
      },
      "execution_count": null,
      "outputs": [
        {
          "output_type": "stream",
          "name": "stdout",
          "text": [
            "0.782608695652174\n"
          ]
        }
      ]
    },
    {
      "cell_type": "code",
      "source": [
        "#Display the probablity_of_data_appearing_in_full_text\n",
        "probablity_of_data_appearing_in_full_text = data_count/sumWords\n",
        "print(probablity_of_data_appearing_in_full_text)"
      ],
      "metadata": {
        "colab": {
          "base_uri": "https://localhost:8080/"
        },
        "id": "WPH0vvd32MdN",
        "outputId": "5f1b3ece-d954-4c98-9bd4-27612a9bbb89"
      },
      "execution_count": null,
      "outputs": [
        {
          "output_type": "stream",
          "name": "stdout",
          "text": [
            "0.05625\n"
          ]
        }
      ]
    },
    {
      "cell_type": "markdown",
      "source": [
        "# **Question 2**"
      ],
      "metadata": {
        "id": "8YrNhtwy2Qss"
      }
    },
    {
      "cell_type": "code",
      "source": [
        "import re # Regular Expression\n",
        "import nltk\n",
        "nltk.download('punkt')\n",
        "from nltk import sent_tokenize, word_tokenize\n",
        "sentences = sent_tokenize(sample)"
      ],
      "metadata": {
        "colab": {
          "base_uri": "https://localhost:8080/"
        },
        "id": "oC0OlH3H_sjf",
        "outputId": "542c312f-5b91-455e-a30c-2bb04e079c0b"
      },
      "execution_count": null,
      "outputs": [
        {
          "output_type": "stream",
          "name": "stdout",
          "text": [
            "[nltk_data] Downloading package punkt to /root/nltk_data...\n",
            "[nltk_data]   Unzipping tokenizers/punkt.zip.\n"
          ]
        }
      ]
    },
    {
      "cell_type": "markdown",
      "source": [
        "# **Find the UNique Words in the text**"
      ],
      "metadata": {
        "id": "pwJ__BQSrIGO"
      }
    },
    {
      "cell_type": "code",
      "source": [
        "sample = \"\"\"As a term, data analytics predominantly refers to an assortment of applications, from basic \\nbusiness intelligence (BI), reporting and online analytical processing (OLAP) to various forms of \\nadvanced analytics. In that sense, it's similar in nature to business analytics, another umbrella \\nterm for approaches to analyzing data -- with the difference that the latter is oriented to \\nbusiness uses, while data analytics has a broader focus. The expansive view of the term isn't \\nuniversal, though: In some cases, people use data analytics specifically to mean advanced \\nanalytics, treating BI as a separate category. Data analytics initiatives can help businesses \\nincrease revenues, improve operational efficiency, optimize marketing campaigns and customer \\nservice efforts, respond more quickly to emerging market trends and gain a competitive edge \\nover rivals -- all with the ultimate goal of boosting business performance. Depending on the \\nparticular application, the data that's analyzed can consist of either historical records or new \\ninformation that has been processed for real-time analytics uses. In addition, it can come from a \\nmix of internal systems and external data sources. At a high level, data analytics methodologies \\ninclude exploratory data analysis (EDA), which aims to find patterns and relationships in data, \\nand confirmatory data analysis (CDA), which applies statistical techniques to determine whether \\nhypotheses about a data set are true or false. EDA is often compared to detective work, while \\nCDA is akin to the work of a judge or jury during a court trial -- a distinction first drawn by \\nstatistician John W. Tukey in his 1977 book Exploratory Data Analysis. Data analytics can also \\nbe separated into quantitative data analysis and qualitative data analysis. The former involves \\nanalysis of numerical data with quantifiable variables that can be compared or measured \\nstatistically. The qualitative approach is more interpretive -- it focuses on understanding the \\ncontent of non-numerical data like text, images, audio and video, including common phrases, \\nthemes and points of view.\"\"\"\n",
        "print(sample)"
      ],
      "metadata": {
        "id": "CKsuIhyHjOGJ",
        "colab": {
          "base_uri": "https://localhost:8080/"
        },
        "outputId": "d2897b65-ee45-4d22-9bac-81700da30fba"
      },
      "execution_count": null,
      "outputs": [
        {
          "output_type": "stream",
          "name": "stdout",
          "text": [
            "As a term, data analytics predominantly refers to an assortment of applications, from basic \n",
            "business intelligence (BI), reporting and online analytical processing (OLAP) to various forms of \n",
            "advanced analytics. In that sense, it's similar in nature to business analytics, another umbrella \n",
            "term for approaches to analyzing data -- with the difference that the latter is oriented to \n",
            "business uses, while data analytics has a broader focus. The expansive view of the term isn't \n",
            "universal, though: In some cases, people use data analytics specifically to mean advanced \n",
            "analytics, treating BI as a separate category. Data analytics initiatives can help businesses \n",
            "increase revenues, improve operational efficiency, optimize marketing campaigns and customer \n",
            "service efforts, respond more quickly to emerging market trends and gain a competitive edge \n",
            "over rivals -- all with the ultimate goal of boosting business performance. Depending on the \n",
            "particular application, the data that's analyzed can consist of either historical records or new \n",
            "information that has been processed for real-time analytics uses. In addition, it can come from a \n",
            "mix of internal systems and external data sources. At a high level, data analytics methodologies \n",
            "include exploratory data analysis (EDA), which aims to find patterns and relationships in data, \n",
            "and confirmatory data analysis (CDA), which applies statistical techniques to determine whether \n",
            "hypotheses about a data set are true or false. EDA is often compared to detective work, while \n",
            "CDA is akin to the work of a judge or jury during a court trial -- a distinction first drawn by \n",
            "statistician John W. Tukey in his 1977 book Exploratory Data Analysis. Data analytics can also \n",
            "be separated into quantitative data analysis and qualitative data analysis. The former involves \n",
            "analysis of numerical data with quantifiable variables that can be compared or measured \n",
            "statistically. The qualitative approach is more interpretive -- it focuses on understanding the \n",
            "content of non-numerical data like text, images, audio and video, including common phrases, \n",
            "themes and points of view.\n"
          ]
        }
      ]
    },
    {
      "cell_type": "code",
      "source": [
        "processed_sentences = list(map(lambda s: re.sub(r'[^\\w\\s]','', s.lower()), sentences))\n",
        "print(\"Cleaned Sentences:\")\n",
        "print(processed_sentences)"
      ],
      "metadata": {
        "id": "C66h5koGAdr2",
        "colab": {
          "base_uri": "https://localhost:8080/"
        },
        "outputId": "2c1caa3e-ad60-436e-ec41-c1c4cef0174f"
      },
      "execution_count": null,
      "outputs": [
        {
          "output_type": "stream",
          "name": "stdout",
          "text": [
            "Cleaned Sentences:\n",
            "['as a term data analytics predominantly refers to an assortment of applications from basic \\nbusiness intelligence bi reporting and online analytical processing olap to various forms of \\nadvanced analytics', 'in that sense its similar in nature to business analytics another umbrella \\nterm for approaches to analyzing data  with the difference that the latter is oriented to \\nbusiness uses while data analytics has a broader focus', 'the expansive view of the term isnt \\nuniversal though in some cases people use data analytics specifically to mean advanced \\nanalytics treating bi as a separate category', 'data analytics initiatives can help businesses \\nincrease revenues improve operational efficiency optimize marketing campaigns and customer \\nservice efforts respond more quickly to emerging market trends and gain a competitive edge \\nover rivals  all with the ultimate goal of boosting business performance', 'depending on the \\nparticular application the data thats analyzed can consist of either historical records or new \\ninformation that has been processed for realtime analytics uses', 'in addition it can come from a \\nmix of internal systems and external data sources', 'at a high level data analytics methodologies \\ninclude exploratory data analysis eda which aims to find patterns and relationships in data \\nand confirmatory data analysis cda which applies statistical techniques to determine whether \\nhypotheses about a data set are true or false', 'eda is often compared to detective work while \\ncda is akin to the work of a judge or jury during a court trial  a distinction first drawn by \\nstatistician john w tukey in his 1977 book exploratory data analysis', 'data analytics can also \\nbe separated into quantitative data analysis and qualitative data analysis', 'the former involves \\nanalysis of numerical data with quantifiable variables that can be compared or measured \\nstatistically', 'the qualitative approach is more interpretive  it focuses on understanding the \\ncontent of nonnumerical data like text images audio and video including common phrases \\nthemes and points of view']\n"
          ]
        }
      ]
    },
    {
      "cell_type": "code",
      "source": [
        "words = []\n",
        "for s in processed_sentences:\n",
        "    words += word_tokenize(s)\n",
        "print(\"Word List:\")\n",
        "print(words)\n",
        "print(len(words))"
      ],
      "metadata": {
        "colab": {
          "base_uri": "https://localhost:8080/"
        },
        "id": "Dx0IZRsOAkJy",
        "outputId": "61bb9cf7-b681-4d3b-fbf1-4a6354180d8d"
      },
      "execution_count": null,
      "outputs": [
        {
          "output_type": "stream",
          "name": "stdout",
          "text": [
            "Word List:\n",
            "['as', 'a', 'term', 'data', 'analytics', 'predominantly', 'refers', 'to', 'an', 'assortment', 'of', 'applications', 'from', 'basic', 'business', 'intelligence', 'bi', 'reporting', 'and', 'online', 'analytical', 'processing', 'olap', 'to', 'various', 'forms', 'of', 'advanced', 'analytics', 'in', 'that', 'sense', 'its', 'similar', 'in', 'nature', 'to', 'business', 'analytics', 'another', 'umbrella', 'term', 'for', 'approaches', 'to', 'analyzing', 'data', 'with', 'the', 'difference', 'that', 'the', 'latter', 'is', 'oriented', 'to', 'business', 'uses', 'while', 'data', 'analytics', 'has', 'a', 'broader', 'focus', 'the', 'expansive', 'view', 'of', 'the', 'term', 'isnt', 'universal', 'though', 'in', 'some', 'cases', 'people', 'use', 'data', 'analytics', 'specifically', 'to', 'mean', 'advanced', 'analytics', 'treating', 'bi', 'as', 'a', 'separate', 'category', 'data', 'analytics', 'initiatives', 'can', 'help', 'businesses', 'increase', 'revenues', 'improve', 'operational', 'efficiency', 'optimize', 'marketing', 'campaigns', 'and', 'customer', 'service', 'efforts', 'respond', 'more', 'quickly', 'to', 'emerging', 'market', 'trends', 'and', 'gain', 'a', 'competitive', 'edge', 'over', 'rivals', 'all', 'with', 'the', 'ultimate', 'goal', 'of', 'boosting', 'business', 'performance', 'depending', 'on', 'the', 'particular', 'application', 'the', 'data', 'thats', 'analyzed', 'can', 'consist', 'of', 'either', 'historical', 'records', 'or', 'new', 'information', 'that', 'has', 'been', 'processed', 'for', 'realtime', 'analytics', 'uses', 'in', 'addition', 'it', 'can', 'come', 'from', 'a', 'mix', 'of', 'internal', 'systems', 'and', 'external', 'data', 'sources', 'at', 'a', 'high', 'level', 'data', 'analytics', 'methodologies', 'include', 'exploratory', 'data', 'analysis', 'eda', 'which', 'aims', 'to', 'find', 'patterns', 'and', 'relationships', 'in', 'data', 'and', 'confirmatory', 'data', 'analysis', 'cda', 'which', 'applies', 'statistical', 'techniques', 'to', 'determine', 'whether', 'hypotheses', 'about', 'a', 'data', 'set', 'are', 'true', 'or', 'false', 'eda', 'is', 'often', 'compared', 'to', 'detective', 'work', 'while', 'cda', 'is', 'akin', 'to', 'the', 'work', 'of', 'a', 'judge', 'or', 'jury', 'during', 'a', 'court', 'trial', 'a', 'distinction', 'first', 'drawn', 'by', 'statistician', 'john', 'w', 'tukey', 'in', 'his', '1977', 'book', 'exploratory', 'data', 'analysis', 'data', 'analytics', 'can', 'also', 'be', 'separated', 'into', 'quantitative', 'data', 'analysis', 'and', 'qualitative', 'data', 'analysis', 'the', 'former', 'involves', 'analysis', 'of', 'numerical', 'data', 'with', 'quantifiable', 'variables', 'that', 'can', 'be', 'compared', 'or', 'measured', 'statistically', 'the', 'qualitative', 'approach', 'is', 'more', 'interpretive', 'it', 'focuses', 'on', 'understanding', 'the', 'content', 'of', 'nonnumerical', 'data', 'like', 'text', 'images', 'audio', 'and', 'video', 'including', 'common', 'phrases', 'themes', 'and', 'points', 'of', 'view']\n",
            "315\n"
          ]
        }
      ]
    },
    {
      "cell_type": "code",
      "source": [
        "def word_freq(string): \n",
        "    c = Counter(string)           # count the words\n",
        "    return (dict(c))    # return a tuple of counted words and letters\n",
        "\n",
        "wordfrequency = word_freq(words) # count and get dicts with counts\n",
        "wordfrequency"
      ],
      "metadata": {
        "colab": {
          "base_uri": "https://localhost:8080/"
        },
        "id": "3_nblgQzipFh",
        "outputId": "c0e2c005-91a8-4a9b-e6a7-4a728e3342eb"
      },
      "execution_count": null,
      "outputs": [
        {
          "output_type": "execute_result",
          "data": {
            "text/plain": [
              "{'1977': 1,\n",
              " 'a': 10,\n",
              " 'about': 1,\n",
              " 'addition': 1,\n",
              " 'advanced': 2,\n",
              " 'aims': 1,\n",
              " 'akin': 1,\n",
              " 'all': 1,\n",
              " 'also': 1,\n",
              " 'an': 1,\n",
              " 'analysis': 6,\n",
              " 'analytical': 1,\n",
              " 'analytics': 10,\n",
              " 'analyzed': 1,\n",
              " 'analyzing': 1,\n",
              " 'and': 9,\n",
              " 'another': 1,\n",
              " 'application': 1,\n",
              " 'applications': 1,\n",
              " 'applies': 1,\n",
              " 'approach': 1,\n",
              " 'approaches': 1,\n",
              " 'are': 1,\n",
              " 'as': 2,\n",
              " 'assortment': 1,\n",
              " 'at': 1,\n",
              " 'audio': 1,\n",
              " 'basic': 1,\n",
              " 'be': 2,\n",
              " 'been': 1,\n",
              " 'bi': 2,\n",
              " 'book': 1,\n",
              " 'boosting': 1,\n",
              " 'broader': 1,\n",
              " 'business': 4,\n",
              " 'businesses': 1,\n",
              " 'by': 1,\n",
              " 'campaigns': 1,\n",
              " 'can': 5,\n",
              " 'cases': 1,\n",
              " 'category': 1,\n",
              " 'cda': 2,\n",
              " 'come': 1,\n",
              " 'common': 1,\n",
              " 'compared': 2,\n",
              " 'competitive': 1,\n",
              " 'confirmatory': 1,\n",
              " 'consist': 1,\n",
              " 'content': 1,\n",
              " 'court': 1,\n",
              " 'customer': 1,\n",
              " 'data': 18,\n",
              " 'depending': 1,\n",
              " 'detective': 1,\n",
              " 'determine': 1,\n",
              " 'difference': 1,\n",
              " 'distinction': 1,\n",
              " 'drawn': 1,\n",
              " 'during': 1,\n",
              " 'eda': 2,\n",
              " 'edge': 1,\n",
              " 'efficiency': 1,\n",
              " 'efforts': 1,\n",
              " 'either': 1,\n",
              " 'emerging': 1,\n",
              " 'expansive': 1,\n",
              " 'exploratory': 2,\n",
              " 'external': 1,\n",
              " 'false': 1,\n",
              " 'find': 1,\n",
              " 'first': 1,\n",
              " 'focus': 1,\n",
              " 'focuses': 1,\n",
              " 'for': 2,\n",
              " 'former': 1,\n",
              " 'forms': 1,\n",
              " 'from': 2,\n",
              " 'gain': 1,\n",
              " 'goal': 1,\n",
              " 'has': 2,\n",
              " 'help': 1,\n",
              " 'high': 1,\n",
              " 'his': 1,\n",
              " 'historical': 1,\n",
              " 'hypotheses': 1,\n",
              " 'images': 1,\n",
              " 'improve': 1,\n",
              " 'in': 6,\n",
              " 'include': 1,\n",
              " 'including': 1,\n",
              " 'increase': 1,\n",
              " 'information': 1,\n",
              " 'initiatives': 1,\n",
              " 'intelligence': 1,\n",
              " 'internal': 1,\n",
              " 'interpretive': 1,\n",
              " 'into': 1,\n",
              " 'involves': 1,\n",
              " 'is': 4,\n",
              " 'isnt': 1,\n",
              " 'it': 2,\n",
              " 'its': 1,\n",
              " 'john': 1,\n",
              " 'judge': 1,\n",
              " 'jury': 1,\n",
              " 'latter': 1,\n",
              " 'level': 1,\n",
              " 'like': 1,\n",
              " 'market': 1,\n",
              " 'marketing': 1,\n",
              " 'mean': 1,\n",
              " 'measured': 1,\n",
              " 'methodologies': 1,\n",
              " 'mix': 1,\n",
              " 'more': 2,\n",
              " 'nature': 1,\n",
              " 'new': 1,\n",
              " 'nonnumerical': 1,\n",
              " 'numerical': 1,\n",
              " 'of': 10,\n",
              " 'often': 1,\n",
              " 'olap': 1,\n",
              " 'on': 2,\n",
              " 'online': 1,\n",
              " 'operational': 1,\n",
              " 'optimize': 1,\n",
              " 'or': 4,\n",
              " 'oriented': 1,\n",
              " 'over': 1,\n",
              " 'particular': 1,\n",
              " 'patterns': 1,\n",
              " 'people': 1,\n",
              " 'performance': 1,\n",
              " 'phrases': 1,\n",
              " 'points': 1,\n",
              " 'predominantly': 1,\n",
              " 'processed': 1,\n",
              " 'processing': 1,\n",
              " 'qualitative': 2,\n",
              " 'quantifiable': 1,\n",
              " 'quantitative': 1,\n",
              " 'quickly': 1,\n",
              " 'realtime': 1,\n",
              " 'records': 1,\n",
              " 'refers': 1,\n",
              " 'relationships': 1,\n",
              " 'reporting': 1,\n",
              " 'respond': 1,\n",
              " 'revenues': 1,\n",
              " 'rivals': 1,\n",
              " 'sense': 1,\n",
              " 'separate': 1,\n",
              " 'separated': 1,\n",
              " 'service': 1,\n",
              " 'set': 1,\n",
              " 'similar': 1,\n",
              " 'some': 1,\n",
              " 'sources': 1,\n",
              " 'specifically': 1,\n",
              " 'statistical': 1,\n",
              " 'statistically': 1,\n",
              " 'statistician': 1,\n",
              " 'systems': 1,\n",
              " 'techniques': 1,\n",
              " 'term': 3,\n",
              " 'text': 1,\n",
              " 'that': 4,\n",
              " 'thats': 1,\n",
              " 'the': 11,\n",
              " 'themes': 1,\n",
              " 'though': 1,\n",
              " 'to': 11,\n",
              " 'treating': 1,\n",
              " 'trends': 1,\n",
              " 'trial': 1,\n",
              " 'true': 1,\n",
              " 'tukey': 1,\n",
              " 'ultimate': 1,\n",
              " 'umbrella': 1,\n",
              " 'understanding': 1,\n",
              " 'universal': 1,\n",
              " 'use': 1,\n",
              " 'uses': 2,\n",
              " 'variables': 1,\n",
              " 'various': 1,\n",
              " 'video': 1,\n",
              " 'view': 2,\n",
              " 'w': 1,\n",
              " 'whether': 1,\n",
              " 'which': 2,\n",
              " 'while': 2,\n",
              " 'with': 3,\n",
              " 'work': 2}"
            ]
          },
          "metadata": {},
          "execution_count": 16
        }
      ]
    },
    {
      "cell_type": "code",
      "source": [
        "type(wordfrequency)"
      ],
      "metadata": {
        "colab": {
          "base_uri": "https://localhost:8080/"
        },
        "id": "y3_UaVU-k_Qe",
        "outputId": "e5451aa3-44ee-4a5e-c6b2-9b6988e788bf"
      },
      "execution_count": null,
      "outputs": [
        {
          "output_type": "execute_result",
          "data": {
            "text/plain": [
              "dict"
            ]
          },
          "metadata": {},
          "execution_count": 17
        }
      ]
    },
    {
      "cell_type": "code",
      "source": [
        "uniquewords=[]\n",
        "uniquewords=[k for k,v in wordfrequency.items() if v == 1]\n",
        "uniquewords"
      ],
      "metadata": {
        "id": "T2WIzvybrmJ5",
        "colab": {
          "base_uri": "https://localhost:8080/"
        },
        "outputId": "4fc319cf-7990-4b17-c52a-409456f41771"
      },
      "execution_count": null,
      "outputs": [
        {
          "output_type": "execute_result",
          "data": {
            "text/plain": [
              "['predominantly',\n",
              " 'refers',\n",
              " 'an',\n",
              " 'assortment',\n",
              " 'applications',\n",
              " 'basic',\n",
              " 'intelligence',\n",
              " 'reporting',\n",
              " 'online',\n",
              " 'analytical',\n",
              " 'processing',\n",
              " 'olap',\n",
              " 'various',\n",
              " 'forms',\n",
              " 'sense',\n",
              " 'its',\n",
              " 'similar',\n",
              " 'nature',\n",
              " 'another',\n",
              " 'umbrella',\n",
              " 'approaches',\n",
              " 'analyzing',\n",
              " 'difference',\n",
              " 'latter',\n",
              " 'oriented',\n",
              " 'broader',\n",
              " 'focus',\n",
              " 'expansive',\n",
              " 'isnt',\n",
              " 'universal',\n",
              " 'though',\n",
              " 'some',\n",
              " 'cases',\n",
              " 'people',\n",
              " 'use',\n",
              " 'specifically',\n",
              " 'mean',\n",
              " 'treating',\n",
              " 'separate',\n",
              " 'category',\n",
              " 'initiatives',\n",
              " 'help',\n",
              " 'businesses',\n",
              " 'increase',\n",
              " 'revenues',\n",
              " 'improve',\n",
              " 'operational',\n",
              " 'efficiency',\n",
              " 'optimize',\n",
              " 'marketing',\n",
              " 'campaigns',\n",
              " 'customer',\n",
              " 'service',\n",
              " 'efforts',\n",
              " 'respond',\n",
              " 'quickly',\n",
              " 'emerging',\n",
              " 'market',\n",
              " 'trends',\n",
              " 'gain',\n",
              " 'competitive',\n",
              " 'edge',\n",
              " 'over',\n",
              " 'rivals',\n",
              " 'all',\n",
              " 'ultimate',\n",
              " 'goal',\n",
              " 'boosting',\n",
              " 'performance',\n",
              " 'depending',\n",
              " 'particular',\n",
              " 'application',\n",
              " 'thats',\n",
              " 'analyzed',\n",
              " 'consist',\n",
              " 'either',\n",
              " 'historical',\n",
              " 'records',\n",
              " 'new',\n",
              " 'information',\n",
              " 'been',\n",
              " 'processed',\n",
              " 'realtime',\n",
              " 'addition',\n",
              " 'come',\n",
              " 'mix',\n",
              " 'internal',\n",
              " 'systems',\n",
              " 'external',\n",
              " 'sources',\n",
              " 'at',\n",
              " 'high',\n",
              " 'level',\n",
              " 'methodologies',\n",
              " 'include',\n",
              " 'aims',\n",
              " 'find',\n",
              " 'patterns',\n",
              " 'relationships',\n",
              " 'confirmatory',\n",
              " 'applies',\n",
              " 'statistical',\n",
              " 'techniques',\n",
              " 'determine',\n",
              " 'whether',\n",
              " 'hypotheses',\n",
              " 'about',\n",
              " 'set',\n",
              " 'are',\n",
              " 'true',\n",
              " 'false',\n",
              " 'often',\n",
              " 'detective',\n",
              " 'akin',\n",
              " 'judge',\n",
              " 'jury',\n",
              " 'during',\n",
              " 'court',\n",
              " 'trial',\n",
              " 'distinction',\n",
              " 'first',\n",
              " 'drawn',\n",
              " 'by',\n",
              " 'statistician',\n",
              " 'john',\n",
              " 'w',\n",
              " 'tukey',\n",
              " 'his',\n",
              " '1977',\n",
              " 'book',\n",
              " 'also',\n",
              " 'separated',\n",
              " 'into',\n",
              " 'quantitative',\n",
              " 'former',\n",
              " 'involves',\n",
              " 'numerical',\n",
              " 'quantifiable',\n",
              " 'variables',\n",
              " 'measured',\n",
              " 'statistically',\n",
              " 'approach',\n",
              " 'interpretive',\n",
              " 'focuses',\n",
              " 'understanding',\n",
              " 'content',\n",
              " 'nonnumerical',\n",
              " 'like',\n",
              " 'text',\n",
              " 'images',\n",
              " 'audio',\n",
              " 'video',\n",
              " 'including',\n",
              " 'common',\n",
              " 'phrases',\n",
              " 'themes',\n",
              " 'points']"
            ]
          },
          "metadata": {},
          "execution_count": 18
        }
      ]
    },
    {
      "cell_type": "code",
      "source": [
        "line_list = sample.splitlines()"
      ],
      "metadata": {
        "id": "VYRierNytYIB"
      },
      "execution_count": null,
      "outputs": []
    },
    {
      "cell_type": "code",
      "source": [
        "line_list"
      ],
      "metadata": {
        "id": "ZgviYtAAsLEt",
        "colab": {
          "base_uri": "https://localhost:8080/"
        },
        "outputId": "23541160-7f6b-42f8-c6cc-cd8387c8910e"
      },
      "execution_count": null,
      "outputs": [
        {
          "output_type": "execute_result",
          "data": {
            "text/plain": [
              "['As a term, data analytics predominantly refers to an assortment of applications, from basic ',\n",
              " 'business intelligence (BI), reporting and online analytical processing (OLAP) to various forms of ',\n",
              " \"advanced analytics. In that sense, it's similar in nature to business analytics, another umbrella \",\n",
              " 'term for approaches to analyzing data -- with the difference that the latter is oriented to ',\n",
              " \"business uses, while data analytics has a broader focus. The expansive view of the term isn't \",\n",
              " 'universal, though: In some cases, people use data analytics specifically to mean advanced ',\n",
              " 'analytics, treating BI as a separate category. Data analytics initiatives can help businesses ',\n",
              " 'increase revenues, improve operational efficiency, optimize marketing campaigns and customer ',\n",
              " 'service efforts, respond more quickly to emerging market trends and gain a competitive edge ',\n",
              " 'over rivals -- all with the ultimate goal of boosting business performance. Depending on the ',\n",
              " \"particular application, the data that's analyzed can consist of either historical records or new \",\n",
              " 'information that has been processed for real-time analytics uses. In addition, it can come from a ',\n",
              " 'mix of internal systems and external data sources. At a high level, data analytics methodologies ',\n",
              " 'include exploratory data analysis (EDA), which aims to find patterns and relationships in data, ',\n",
              " 'and confirmatory data analysis (CDA), which applies statistical techniques to determine whether ',\n",
              " 'hypotheses about a data set are true or false. EDA is often compared to detective work, while ',\n",
              " 'CDA is akin to the work of a judge or jury during a court trial -- a distinction first drawn by ',\n",
              " 'statistician John W. Tukey in his 1977 book Exploratory Data Analysis. Data analytics can also ',\n",
              " 'be separated into quantitative data analysis and qualitative data analysis. The former involves ',\n",
              " 'analysis of numerical data with quantifiable variables that can be compared or measured ',\n",
              " 'statistically. The qualitative approach is more interpretive -- it focuses on understanding the ',\n",
              " 'content of non-numerical data like text, images, audio and video, including common phrases, ',\n",
              " 'themes and points of view.']"
            ]
          },
          "metadata": {},
          "execution_count": 20
        }
      ]
    },
    {
      "cell_type": "code",
      "source": [
        "len(uniquewords)"
      ],
      "metadata": {
        "colab": {
          "base_uri": "https://localhost:8080/"
        },
        "id": "Evh7tHdeyCtH",
        "outputId": "906df6ca-d812-4424-b820-6f8aea855143"
      },
      "execution_count": null,
      "outputs": [
        {
          "output_type": "execute_result",
          "data": {
            "text/plain": [
              "157"
            ]
          },
          "metadata": {},
          "execution_count": 21
        }
      ]
    },
    {
      "cell_type": "code",
      "source": [
        "# Given a list of words, remove any that are\n",
        "# in a list of stop words.\n",
        "\n",
        "def retainwords(words, uniquewords):\n",
        "    return [w for w in words if w in uniquewords]"
      ],
      "metadata": {
        "id": "1wGQyCPS0HRr"
      },
      "execution_count": null,
      "outputs": []
    },
    {
      "cell_type": "code",
      "source": [
        "x=retainwords(words,uniquewords)\n",
        "print(len(x))"
      ],
      "metadata": {
        "id": "GM7I4uQt1RF_",
        "colab": {
          "base_uri": "https://localhost:8080/"
        },
        "outputId": "6a2fc12c-07df-41bc-fb23-2e4fc879800c"
      },
      "execution_count": null,
      "outputs": [
        {
          "output_type": "stream",
          "name": "stdout",
          "text": [
            "157\n"
          ]
        }
      ]
    },
    {
      "cell_type": "markdown",
      "source": [
        "# **Distribution of distinct word counts across all the lines**"
      ],
      "metadata": {
        "id": "-4RjJlssqqNx"
      }
    },
    {
      "cell_type": "code",
      "source": [
        "x1=sample.split(\",\")\n",
        "x1"
      ],
      "metadata": {
        "id": "9NSTZ1Fp8LQA",
        "colab": {
          "base_uri": "https://localhost:8080/"
        },
        "outputId": "1a34fa7f-c0bb-438a-a3b4-f046748c4fac"
      },
      "execution_count": null,
      "outputs": [
        {
          "output_type": "execute_result",
          "data": {
            "text/plain": [
              "['As a term',\n",
              " ' data analytics predominantly refers to an assortment of applications',\n",
              " ' from basic \\nbusiness intelligence (BI)',\n",
              " ' reporting and online analytical processing (OLAP) to various forms of \\nadvanced analytics. In that sense',\n",
              " \" it's similar in nature to business analytics\",\n",
              " ' another umbrella \\nterm for approaches to analyzing data -- with the difference that the latter is oriented to \\nbusiness uses',\n",
              " \" while data analytics has a broader focus. The expansive view of the term isn't \\nuniversal\",\n",
              " ' though: In some cases',\n",
              " ' people use data analytics specifically to mean advanced \\nanalytics',\n",
              " ' treating BI as a separate category. Data analytics initiatives can help businesses \\nincrease revenues',\n",
              " ' improve operational efficiency',\n",
              " ' optimize marketing campaigns and customer \\nservice efforts',\n",
              " ' respond more quickly to emerging market trends and gain a competitive edge \\nover rivals -- all with the ultimate goal of boosting business performance. Depending on the \\nparticular application',\n",
              " \" the data that's analyzed can consist of either historical records or new \\ninformation that has been processed for real-time analytics uses. In addition\",\n",
              " ' it can come from a \\nmix of internal systems and external data sources. At a high level',\n",
              " ' data analytics methodologies \\ninclude exploratory data analysis (EDA)',\n",
              " ' which aims to find patterns and relationships in data',\n",
              " ' \\nand confirmatory data analysis (CDA)',\n",
              " ' which applies statistical techniques to determine whether \\nhypotheses about a data set are true or false. EDA is often compared to detective work',\n",
              " ' while \\nCDA is akin to the work of a judge or jury during a court trial -- a distinction first drawn by \\nstatistician John W. Tukey in his 1977 book Exploratory Data Analysis. Data analytics can also \\nbe separated into quantitative data analysis and qualitative data analysis. The former involves \\nanalysis of numerical data with quantifiable variables that can be compared or measured \\nstatistically. The qualitative approach is more interpretive -- it focuses on understanding the \\ncontent of non-numerical data like text',\n",
              " ' images',\n",
              " ' audio and video',\n",
              " ' including common phrases',\n",
              " ' \\nthemes and points of view.']"
            ]
          },
          "metadata": {},
          "execution_count": 84
        }
      ]
    },
    {
      "cell_type": "code",
      "source": [
        "# remove punctuation from each word\n",
        "import string\n",
        "table = str.maketrans('', '', string.punctuation)\n",
        "stripped = [w.translate(table) for w in x1]\n",
        "words_in_sample = [w.lower().split() for w in stripped]\n"
      ],
      "metadata": {
        "id": "Te4I9j8beDUK"
      },
      "execution_count": null,
      "outputs": []
    },
    {
      "cell_type": "code",
      "source": [
        "words_in_sample"
      ],
      "metadata": {
        "colab": {
          "base_uri": "https://localhost:8080/"
        },
        "id": "hI6NNArvheqc",
        "outputId": "2ddd9e08-d4a3-466c-d5b0-05f5ce0416ae"
      },
      "execution_count": null,
      "outputs": [
        {
          "output_type": "execute_result",
          "data": {
            "text/plain": [
              "[['as', 'a', 'term'],\n",
              " ['data',\n",
              "  'analytics',\n",
              "  'predominantly',\n",
              "  'refers',\n",
              "  'to',\n",
              "  'an',\n",
              "  'assortment',\n",
              "  'of',\n",
              "  'applications'],\n",
              " ['from', 'basic', 'business', 'intelligence', 'bi'],\n",
              " ['reporting',\n",
              "  'and',\n",
              "  'online',\n",
              "  'analytical',\n",
              "  'processing',\n",
              "  'olap',\n",
              "  'to',\n",
              "  'various',\n",
              "  'forms',\n",
              "  'of',\n",
              "  'advanced',\n",
              "  'analytics',\n",
              "  'in',\n",
              "  'that',\n",
              "  'sense'],\n",
              " ['its', 'similar', 'in', 'nature', 'to', 'business', 'analytics'],\n",
              " ['another',\n",
              "  'umbrella',\n",
              "  'term',\n",
              "  'for',\n",
              "  'approaches',\n",
              "  'to',\n",
              "  'analyzing',\n",
              "  'data',\n",
              "  'with',\n",
              "  'the',\n",
              "  'difference',\n",
              "  'that',\n",
              "  'the',\n",
              "  'latter',\n",
              "  'is',\n",
              "  'oriented',\n",
              "  'to',\n",
              "  'business',\n",
              "  'uses'],\n",
              " ['while',\n",
              "  'data',\n",
              "  'analytics',\n",
              "  'has',\n",
              "  'a',\n",
              "  'broader',\n",
              "  'focus',\n",
              "  'the',\n",
              "  'expansive',\n",
              "  'view',\n",
              "  'of',\n",
              "  'the',\n",
              "  'term',\n",
              "  'isnt',\n",
              "  'universal'],\n",
              " ['though', 'in', 'some', 'cases'],\n",
              " ['people',\n",
              "  'use',\n",
              "  'data',\n",
              "  'analytics',\n",
              "  'specifically',\n",
              "  'to',\n",
              "  'mean',\n",
              "  'advanced',\n",
              "  'analytics'],\n",
              " ['treating',\n",
              "  'bi',\n",
              "  'as',\n",
              "  'a',\n",
              "  'separate',\n",
              "  'category',\n",
              "  'data',\n",
              "  'analytics',\n",
              "  'initiatives',\n",
              "  'can',\n",
              "  'help',\n",
              "  'businesses',\n",
              "  'increase',\n",
              "  'revenues'],\n",
              " ['improve', 'operational', 'efficiency'],\n",
              " ['optimize',\n",
              "  'marketing',\n",
              "  'campaigns',\n",
              "  'and',\n",
              "  'customer',\n",
              "  'service',\n",
              "  'efforts'],\n",
              " ['respond',\n",
              "  'more',\n",
              "  'quickly',\n",
              "  'to',\n",
              "  'emerging',\n",
              "  'market',\n",
              "  'trends',\n",
              "  'and',\n",
              "  'gain',\n",
              "  'a',\n",
              "  'competitive',\n",
              "  'edge',\n",
              "  'over',\n",
              "  'rivals',\n",
              "  'all',\n",
              "  'with',\n",
              "  'the',\n",
              "  'ultimate',\n",
              "  'goal',\n",
              "  'of',\n",
              "  'boosting',\n",
              "  'business',\n",
              "  'performance',\n",
              "  'depending',\n",
              "  'on',\n",
              "  'the',\n",
              "  'particular',\n",
              "  'application'],\n",
              " ['the',\n",
              "  'data',\n",
              "  'thats',\n",
              "  'analyzed',\n",
              "  'can',\n",
              "  'consist',\n",
              "  'of',\n",
              "  'either',\n",
              "  'historical',\n",
              "  'records',\n",
              "  'or',\n",
              "  'new',\n",
              "  'information',\n",
              "  'that',\n",
              "  'has',\n",
              "  'been',\n",
              "  'processed',\n",
              "  'for',\n",
              "  'realtime',\n",
              "  'analytics',\n",
              "  'uses',\n",
              "  'in',\n",
              "  'addition'],\n",
              " ['it',\n",
              "  'can',\n",
              "  'come',\n",
              "  'from',\n",
              "  'a',\n",
              "  'mix',\n",
              "  'of',\n",
              "  'internal',\n",
              "  'systems',\n",
              "  'and',\n",
              "  'external',\n",
              "  'data',\n",
              "  'sources',\n",
              "  'at',\n",
              "  'a',\n",
              "  'high',\n",
              "  'level'],\n",
              " ['data',\n",
              "  'analytics',\n",
              "  'methodologies',\n",
              "  'include',\n",
              "  'exploratory',\n",
              "  'data',\n",
              "  'analysis',\n",
              "  'eda'],\n",
              " ['which',\n",
              "  'aims',\n",
              "  'to',\n",
              "  'find',\n",
              "  'patterns',\n",
              "  'and',\n",
              "  'relationships',\n",
              "  'in',\n",
              "  'data'],\n",
              " ['and', 'confirmatory', 'data', 'analysis', 'cda'],\n",
              " ['which',\n",
              "  'applies',\n",
              "  'statistical',\n",
              "  'techniques',\n",
              "  'to',\n",
              "  'determine',\n",
              "  'whether',\n",
              "  'hypotheses',\n",
              "  'about',\n",
              "  'a',\n",
              "  'data',\n",
              "  'set',\n",
              "  'are',\n",
              "  'true',\n",
              "  'or',\n",
              "  'false',\n",
              "  'eda',\n",
              "  'is',\n",
              "  'often',\n",
              "  'compared',\n",
              "  'to',\n",
              "  'detective',\n",
              "  'work'],\n",
              " ['while',\n",
              "  'cda',\n",
              "  'is',\n",
              "  'akin',\n",
              "  'to',\n",
              "  'the',\n",
              "  'work',\n",
              "  'of',\n",
              "  'a',\n",
              "  'judge',\n",
              "  'or',\n",
              "  'jury',\n",
              "  'during',\n",
              "  'a',\n",
              "  'court',\n",
              "  'trial',\n",
              "  'a',\n",
              "  'distinction',\n",
              "  'first',\n",
              "  'drawn',\n",
              "  'by',\n",
              "  'statistician',\n",
              "  'john',\n",
              "  'w',\n",
              "  'tukey',\n",
              "  'in',\n",
              "  'his',\n",
              "  '1977',\n",
              "  'book',\n",
              "  'exploratory',\n",
              "  'data',\n",
              "  'analysis',\n",
              "  'data',\n",
              "  'analytics',\n",
              "  'can',\n",
              "  'also',\n",
              "  'be',\n",
              "  'separated',\n",
              "  'into',\n",
              "  'quantitative',\n",
              "  'data',\n",
              "  'analysis',\n",
              "  'and',\n",
              "  'qualitative',\n",
              "  'data',\n",
              "  'analysis',\n",
              "  'the',\n",
              "  'former',\n",
              "  'involves',\n",
              "  'analysis',\n",
              "  'of',\n",
              "  'numerical',\n",
              "  'data',\n",
              "  'with',\n",
              "  'quantifiable',\n",
              "  'variables',\n",
              "  'that',\n",
              "  'can',\n",
              "  'be',\n",
              "  'compared',\n",
              "  'or',\n",
              "  'measured',\n",
              "  'statistically',\n",
              "  'the',\n",
              "  'qualitative',\n",
              "  'approach',\n",
              "  'is',\n",
              "  'more',\n",
              "  'interpretive',\n",
              "  'it',\n",
              "  'focuses',\n",
              "  'on',\n",
              "  'understanding',\n",
              "  'the',\n",
              "  'content',\n",
              "  'of',\n",
              "  'nonnumerical',\n",
              "  'data',\n",
              "  'like',\n",
              "  'text'],\n",
              " ['images'],\n",
              " ['audio', 'and', 'video'],\n",
              " ['including', 'common', 'phrases'],\n",
              " ['themes', 'and', 'points', 'of', 'view']]"
            ]
          },
          "metadata": {},
          "execution_count": 86
        }
      ]
    },
    {
      "cell_type": "code",
      "source": [
        "mylist = []\n",
        "for line in stripped:\n",
        "    mylist.append(line.strip().split('\\n'))"
      ],
      "metadata": {
        "id": "3r-_JNFceZPP"
      },
      "execution_count": null,
      "outputs": []
    },
    {
      "cell_type": "code",
      "source": [
        "import itertools\n",
        "import collections\n",
        "\n",
        "# List of all words across tweets\n",
        "all_words_sample = list(itertools.chain(*words_in_sample))\n",
        "\n",
        "# Create counter\n",
        "counts_no_unique = collections.Counter(all_words_sample)\n",
        "\n",
        "top15=counts_no_unique.most_common(15)"
      ],
      "metadata": {
        "id": "Fb0PrV_RaV-N"
      },
      "execution_count": null,
      "outputs": []
    },
    {
      "cell_type": "code",
      "source": [
        "top15_words=dict(top15)"
      ],
      "metadata": {
        "id": "sKjjBU_k0Fmg"
      },
      "execution_count": null,
      "outputs": []
    },
    {
      "cell_type": "code",
      "source": [
        "top15_words"
      ],
      "metadata": {
        "colab": {
          "base_uri": "https://localhost:8080/"
        },
        "id": "1xE29qah0Wc_",
        "outputId": "42142307-b3ab-424c-d43b-3f3a6a583636"
      },
      "execution_count": null,
      "outputs": [
        {
          "output_type": "execute_result",
          "data": {
            "text/plain": [
              "{'a': 10,\n",
              " 'analysis': 6,\n",
              " 'analytics': 10,\n",
              " 'and': 9,\n",
              " 'business': 4,\n",
              " 'can': 5,\n",
              " 'data': 18,\n",
              " 'in': 6,\n",
              " 'is': 4,\n",
              " 'of': 10,\n",
              " 'or': 4,\n",
              " 'term': 3,\n",
              " 'that': 4,\n",
              " 'the': 11,\n",
              " 'to': 11}"
            ]
          },
          "metadata": {},
          "execution_count": 102
        }
      ]
    },
    {
      "cell_type": "code",
      "source": [
        "key_list=list(top15_words.keys())\n",
        "val_list=list(top15_words.values())"
      ],
      "metadata": {
        "id": "ihGkOzalz5yV"
      },
      "execution_count": null,
      "outputs": []
    },
    {
      "cell_type": "code",
      "source": [
        "import matplotlib.pyplot as plt\n",
        "fig = plt.figure(figsize = (20, 10))\n",
        " \n",
        "# creating the bar plot\n",
        "plt.bar(key_list, val_list, color ='maroon',width = 0.4)\n",
        " \n",
        "plt.xlabel(\" Top 15 Unique words \")\n",
        "plt.ylabel(\"Count of words\")\n",
        "plt.title(\"Distribution of distinct word counts across all the lines\")\n",
        "plt.show()"
      ],
      "metadata": {
        "colab": {
          "base_uri": "https://localhost:8080/",
          "height": 621
        },
        "id": "bYVYfuutz_vw",
        "outputId": "c2374fdd-c882-44f6-e226-943c539e9779"
      },
      "execution_count": null,
      "outputs": [
        {
          "output_type": "display_data",
          "data": {
            "image/png": "[encoded data removed]",
            "text/plain": [
              "<Figure size 1440x720 with 1 Axes>"
            ]
          },
          "metadata": {
            "needs_background": "light"
          }
        }
      ]
    },
    {
      "cell_type": "markdown",
      "source": [
        "# **Question 3:probability of the word “analytics” occurring after the word data**"
      ],
      "metadata": {
        "id": "VCOVZ-yT1ZEj"
      }
    },
    {
      "cell_type": "code",
      "source": [
        "# Getting bigrams  \n",
        "vectorizer = CountVectorizer(ngram_range =(2, 2)) \n",
        "X1 = vectorizer.fit_transform(line_list)  \n",
        "features = (vectorizer.get_feature_names()) \n",
        "\n",
        "  \n",
        "# Applying TFIDF \n",
        "# You can still get n-grams here \n",
        "vectorizer = TfidfVectorizer(ngram_range = (2, 2)) \n",
        "X2 = vectorizer.fit_transform(line_list) \n",
        "scores = (X2.toarray()) \n",
        "  \n",
        "# Getting top ranking features \n",
        "sums = X2.sum(axis = 0) \n",
        "data1 = [] \n",
        "for col, term in enumerate(features): \n",
        "    data1.append( (term, sums[0, col] )) \n",
        "ranking = pd.DataFrame(data1, columns = ['term', 'rank']) \n",
        "words = (ranking.sort_values('rank', ascending = False)) \n",
        "print (\"\\n\\nWords : \\n\", words.head(7)) "
      ],
      "metadata": {
        "colab": {
          "base_uri": "https://localhost:8080/"
        },
        "id": "ma_PpugL1iu3",
        "outputId": "7e20c30d-f776-4fb3-d297-ac53cc7f02a5"
      },
      "execution_count": null,
      "outputs": [
        {
          "output_type": "stream",
          "name": "stdout",
          "text": [
            "\n",
            "\n",
            "Words : \n",
            "                  term      rank\n",
            "80     data analytics  1.121468\n",
            "79      data analysis  1.074633\n",
            "100  exploratory data  0.509671\n",
            "159    numerical data  0.507052\n",
            "235        themes and  0.500000\n",
            "32         and points  0.500000\n",
            "186         points of  0.500000\n"
          ]
        },
        {
          "output_type": "stream",
          "name": "stderr",
          "text": [
            "/usr/local/lib/python3.7/dist-packages/sklearn/utils/deprecation.py:87: FutureWarning: Function get_feature_names is deprecated; get_feature_names is deprecated in 1.0 and will be removed in 1.2. Please use get_feature_names_out instead.\n",
            "  warnings.warn(msg, category=FutureWarning)\n"
          ]
        }
      ]
    },
    {
      "cell_type": "code",
      "source": [
        "#The probability of an event A is the number of ways event A can occur divided by the total number of possible outcomes.\n",
        "import re\n",
        "from collections import Counter\n",
        "bigramwords = re.findall('\\w+', sample)\n",
        "bigram_counts = Counter(zip(bigramwords,bigramwords[1:]))\n",
        "data_analytics_count = bigram_counts[(\"data\", \"analytics\")]\n",
        "analytics_count = words['analytics']\n",
        "print(f\"Number of times data analytics appear together: {data_analytics_count}\")\n",
        "print(f\"Number of times only analytics appear in complete text: {analytics_count}\")"
      ],
      "metadata": {
        "colab": {
          "base_uri": "https://localhost:8080/"
        },
        "id": "YbXKUXJF1qHp",
        "outputId": "c6115a5c-6ee7-48d6-8512-64ac0a3d64dc"
      },
      "execution_count": null,
      "outputs": [
        {
          "output_type": "stream",
          "name": "stdout",
          "text": [
            "Number of times data analytics appear together: 6\n",
            "Number of times only analytics appear in complete text: 10\n"
          ]
        }
      ]
    },
    {
      "cell_type": "code",
      "source": [
        "print(f\"Probablity of analytics appearing after data: {data_analytics_count/analytics_count}\")"
      ],
      "metadata": {
        "colab": {
          "base_uri": "https://localhost:8080/"
        },
        "id": "ZgHHQXsG1uH1",
        "outputId": "42d5e8e7-5700-49fc-d6f7-e97a1ee462d6"
      },
      "execution_count": null,
      "outputs": [
        {
          "output_type": "stream",
          "name": "stdout",
          "text": [
            "Probablity of analytics appearing after data: 0.6\n"
          ]
        }
      ]
    }
  ]
}