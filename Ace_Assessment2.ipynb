{
  "nbformat": 4,
  "nbformat_minor": 0,
  "metadata": {
    "colab": {
      "name": "Ace Assessment2.ipynb",
      "provenance": [],
      "collapsed_sections": [],
      "authorship_tag": "ABX9TyOFBfvciJDhcHChopWZQqE0",
      "include_colab_link": true
    },
    "kernelspec": {
      "name": "python3",
      "display_name": "Python 3"
    },
    "language_info": {
      "name": "python"
    }
  },
  "cells": [
    {
      "cell_type": "markdown",
      "metadata": {
        "id": "view-in-github",
        "colab_type": "text"
      },
      "source": [
        "<a href=\"https://colab.research.google.com/github/SaranyaRavikumar06/ACE-Assessment/blob/main/Ace_Assessment2.ipynb\" target=\"_parent\"><img src=\"https://colab.research.google.com/assets/colab-badge.svg\" alt=\"Open In Colab\"/></a>"
      ]
    },
    {
      "cell_type": "markdown",
      "source": [
        "# **Import the necessary Libraries**"
      ],
      "metadata": {
        "id": "I2JqaAUvStNQ"
      }
    },
    {
      "cell_type": "code",
      "source": [
        "import numpy as np\n",
        "import pandas as pd  # Basic library for all of our dataset operations\n",
        "import statsmodels as sm\n",
        "import tensorflow as tf\n",
        "from matplotlib import pyplot as plt\n",
        "from sklearn.linear_model import LinearRegression\n"
      ],
      "metadata": {
        "id": "HmocMWX0phdk"
      },
      "execution_count": null,
      "outputs": []
    },
    {
      "cell_type": "code",
      "source": [
        "from statsmodels.graphics.tsaplots import plot_acf, plot_pacf\n",
        "from statsmodels.tsa import api as smt\n",
        "from statsmodels.tsa.seasonal import seasonal_decompose\n",
        "from statsmodels.tsa.stattools import adfuller"
      ],
      "metadata": {
        "colab": {
          "base_uri": "https://localhost:8080/"
        },
        "id": "23oLif5FSocT",
        "outputId": "47b72d50-924b-43c3-f671-e6dd465eac9b"
      },
      "execution_count": null,
      "outputs": [
        {
          "output_type": "stream",
          "name": "stderr",
          "text": [
            "/usr/local/lib/python3.7/dist-packages/statsmodels/tools/_testing.py:19: FutureWarning: pandas.util.testing is deprecated. Use the functions in the public API at pandas.testing instead.\n",
            "  import pandas.util.testing as tm\n"
          ]
        }
      ]
    },
    {
      "cell_type": "markdown",
      "source": [
        "**Step 1: Import the dataset**"
      ],
      "metadata": {
        "id": "EkeO-fU-SqKK"
      }
    },
    {
      "cell_type": "code",
      "execution_count": null,
      "metadata": {
        "id": "5j4aftEgk7TE"
      },
      "outputs": [],
      "source": [
        "import pandas as pd\n",
        "df=pd.read_csv(\"https://raw.githubusercontent.com/SaranyaRavikumar06/ACE-Assessment/main/palm_ffb.csv\")"
      ]
    },
    {
      "cell_type": "markdown",
      "source": [
        "**Step 2: Data Exploration**"
      ],
      "metadata": {
        "id": "Cx-itFPOS3pX"
      }
    },
    {
      "cell_type": "code",
      "source": [
        "df.shape"
      ],
      "metadata": {
        "colab": {
          "base_uri": "https://localhost:8080/"
        },
        "id": "GlvJIQmOxG9_",
        "outputId": "e8abaa56-627e-47e2-af81-4b4e2abfdbf5"
      },
      "execution_count": null,
      "outputs": [
        {
          "output_type": "execute_result",
          "data": {
            "text/plain": [
              "(130, 9)"
            ]
          },
          "metadata": {},
          "execution_count": 6
        }
      ]
    },
    {
      "cell_type": "code",
      "source": [
        "df.head(10)"
      ],
      "metadata": {
        "colab": {
          "base_uri": "https://localhost:8080/",
          "height": 363
        },
        "id": "ZYkWCUDHl_ZT",
        "outputId": "850776ad-0a84-48d7-fa50-b101d2f5074e"
      },
      "execution_count": null,
      "outputs": [
        {
          "output_type": "execute_result",
          "data": {
            "text/html": [
              "\n",
              "  <div id=\"df-676302b2-70a5-423e-80ee-3cba7222a0b5\">\n",
              "    <div class=\"colab-df-container\">\n",
              "      <div>\n",
              "<style scoped>\n",
              "    .dataframe tbody tr th:only-of-type {\n",
              "        vertical-align: middle;\n",
              "    }\n",
              "\n",
              "    .dataframe tbody tr th {\n",
              "        vertical-align: top;\n",
              "    }\n",
              "\n",
              "    .dataframe thead th {\n",
              "        text-align: right;\n",
              "    }\n",
              "</style>\n",
              "<table border=\"1\" class=\"dataframe\">\n",
              "  <thead>\n",
              "    <tr style=\"text-align: right;\">\n",
              "      <th></th>\n",
              "      <th>Date</th>\n",
              "      <th>SoilMoisture</th>\n",
              "      <th>Average_Temp</th>\n",
              "      <th>Min_Temp</th>\n",
              "      <th>Max_Temp</th>\n",
              "      <th>Precipitation</th>\n",
              "      <th>Working_days</th>\n",
              "      <th>HA_Harvested</th>\n",
              "      <th>FFB_Yield</th>\n",
              "    </tr>\n",
              "  </thead>\n",
              "  <tbody>\n",
              "    <tr>\n",
              "      <th>0</th>\n",
              "      <td>01.01.2008</td>\n",
              "      <td>616.4</td>\n",
              "      <td>25.306452</td>\n",
              "      <td>21.3</td>\n",
              "      <td>32.2</td>\n",
              "      <td>184.4</td>\n",
              "      <td>25</td>\n",
              "      <td>777778.3951</td>\n",
              "      <td>1.62</td>\n",
              "    </tr>\n",
              "    <tr>\n",
              "      <th>1</th>\n",
              "      <td>01.02.2008</td>\n",
              "      <td>568.9</td>\n",
              "      <td>26.165517</td>\n",
              "      <td>20.9</td>\n",
              "      <td>35.1</td>\n",
              "      <td>140.2</td>\n",
              "      <td>23</td>\n",
              "      <td>767988.2759</td>\n",
              "      <td>1.45</td>\n",
              "    </tr>\n",
              "    <tr>\n",
              "      <th>2</th>\n",
              "      <td>01.03.2008</td>\n",
              "      <td>577.6</td>\n",
              "      <td>25.448387</td>\n",
              "      <td>21.3</td>\n",
              "      <td>32.9</td>\n",
              "      <td>280.4</td>\n",
              "      <td>25</td>\n",
              "      <td>783951.9231</td>\n",
              "      <td>1.56</td>\n",
              "    </tr>\n",
              "    <tr>\n",
              "      <th>3</th>\n",
              "      <td>01.04.2008</td>\n",
              "      <td>581.1</td>\n",
              "      <td>26.903333</td>\n",
              "      <td>20.6</td>\n",
              "      <td>34.8</td>\n",
              "      <td>173.3</td>\n",
              "      <td>25</td>\n",
              "      <td>788987.0504</td>\n",
              "      <td>1.39</td>\n",
              "    </tr>\n",
              "    <tr>\n",
              "      <th>4</th>\n",
              "      <td>01.05.2008</td>\n",
              "      <td>545.4</td>\n",
              "      <td>27.241935</td>\n",
              "      <td>20.9</td>\n",
              "      <td>35.0</td>\n",
              "      <td>140.6</td>\n",
              "      <td>25</td>\n",
              "      <td>813659.7222</td>\n",
              "      <td>1.44</td>\n",
              "    </tr>\n",
              "    <tr>\n",
              "      <th>5</th>\n",
              "      <td>01.06.2008</td>\n",
              "      <td>532.5</td>\n",
              "      <td>27.116667</td>\n",
              "      <td>21.4</td>\n",
              "      <td>35.5</td>\n",
              "      <td>182.3</td>\n",
              "      <td>24</td>\n",
              "      <td>829817.5676</td>\n",
              "      <td>1.48</td>\n",
              "    </tr>\n",
              "    <tr>\n",
              "      <th>6</th>\n",
              "      <td>01.07.2008</td>\n",
              "      <td>544.7</td>\n",
              "      <td>27.035484</td>\n",
              "      <td>21.2</td>\n",
              "      <td>33.9</td>\n",
              "      <td>201.6</td>\n",
              "      <td>26</td>\n",
              "      <td>814475.3012</td>\n",
              "      <td>1.66</td>\n",
              "    </tr>\n",
              "    <tr>\n",
              "      <th>7</th>\n",
              "      <td>01.08.2008</td>\n",
              "      <td>569.9</td>\n",
              "      <td>27.200000</td>\n",
              "      <td>21.7</td>\n",
              "      <td>34.5</td>\n",
              "      <td>283.2</td>\n",
              "      <td>26</td>\n",
              "      <td>782279.5322</td>\n",
              "      <td>1.71</td>\n",
              "    </tr>\n",
              "    <tr>\n",
              "      <th>8</th>\n",
              "      <td>01.09.2008</td>\n",
              "      <td>571.7</td>\n",
              "      <td>27.556667</td>\n",
              "      <td>21.2</td>\n",
              "      <td>35.1</td>\n",
              "      <td>176.3</td>\n",
              "      <td>25</td>\n",
              "      <td>795237.6543</td>\n",
              "      <td>1.62</td>\n",
              "    </tr>\n",
              "    <tr>\n",
              "      <th>9</th>\n",
              "      <td>01.10.2008</td>\n",
              "      <td>565.3</td>\n",
              "      <td>27.358065</td>\n",
              "      <td>22.1</td>\n",
              "      <td>33.9</td>\n",
              "      <td>217.5</td>\n",
              "      <td>24</td>\n",
              "      <td>765090.8602</td>\n",
              "      <td>1.86</td>\n",
              "    </tr>\n",
              "  </tbody>\n",
              "</table>\n",
              "</div>\n",
              "      <button class=\"colab-df-convert\" onclick=\"convertToInteractive('df-676302b2-70a5-423e-80ee-3cba7222a0b5')\"\n",
              "              title=\"Convert this dataframe to an interactive table.\"\n",
              "              style=\"display:none;\">\n",
              "        \n",
              "  <svg xmlns=\"http://www.w3.org/2000/svg\" height=\"24px\"viewBox=\"0 0 24 24\"\n",
              "       width=\"24px\">\n",
              "    <path d=\"M0 0h24v24H0V0z\" fill=\"none\"/>\n",
              "    <path d=\"M18.56 5.44l.94 2.06.94-2.06 2.06-.94-2.06-.94-.94-2.06-.94 2.06-2.06.94zm-11 1L8.5 8.5l.94-2.06 2.06-.94-2.06-.94L8.5 2.5l-.94 2.06-2.06.94zm10 10l.94 2.06.94-2.06 2.06-.94-2.06-.94-.94-2.06-.94 2.06-2.06.94z\"/><path d=\"M17.41 7.96l-1.37-1.37c-.4-.4-.92-.59-1.43-.59-.52 0-1.04.2-1.43.59L10.3 9.45l-7.72 7.72c-.78.78-.78 2.05 0 2.83L4 21.41c.39.39.9.59 1.41.59.51 0 1.02-.2 1.41-.59l7.78-7.78 2.81-2.81c.8-.78.8-2.07 0-2.86zM5.41 20L4 18.59l7.72-7.72 1.47 1.35L5.41 20z\"/>\n",
              "  </svg>\n",
              "      </button>\n",
              "      \n",
              "  <style>\n",
              "    .colab-df-container {\n",
              "      display:flex;\n",
              "      flex-wrap:wrap;\n",
              "      gap: 12px;\n",
              "    }\n",
              "\n",
              "    .colab-df-convert {\n",
              "      background-color: #E8F0FE;\n",
              "      border: none;\n",
              "      border-radius: 50%;\n",
              "      cursor: pointer;\n",
              "      display: none;\n",
              "      fill: #1967D2;\n",
              "      height: 32px;\n",
              "      padding: 0 0 0 0;\n",
              "      width: 32px;\n",
              "    }\n",
              "\n",
              "    .colab-df-convert:hover {\n",
              "      background-color: #E2EBFA;\n",
              "      box-shadow: 0px 1px 2px rgba(60, 64, 67, 0.3), 0px 1px 3px 1px rgba(60, 64, 67, 0.15);\n",
              "      fill: #174EA6;\n",
              "    }\n",
              "\n",
              "    [theme=dark] .colab-df-convert {\n",
              "      background-color: #3B4455;\n",
              "      fill: #D2E3FC;\n",
              "    }\n",
              "\n",
              "    [theme=dark] .colab-df-convert:hover {\n",
              "      background-color: #434B5C;\n",
              "      box-shadow: 0px 1px 3px 1px rgba(0, 0, 0, 0.15);\n",
              "      filter: drop-shadow(0px 1px 2px rgba(0, 0, 0, 0.3));\n",
              "      fill: #FFFFFF;\n",
              "    }\n",
              "  </style>\n",
              "\n",
              "      <script>\n",
              "        const buttonEl =\n",
              "          document.querySelector('#df-676302b2-70a5-423e-80ee-3cba7222a0b5 button.colab-df-convert');\n",
              "        buttonEl.style.display =\n",
              "          google.colab.kernel.accessAllowed ? 'block' : 'none';\n",
              "\n",
              "        async function convertToInteractive(key) {\n",
              "          const element = document.querySelector('#df-676302b2-70a5-423e-80ee-3cba7222a0b5');\n",
              "          const dataTable =\n",
              "            await google.colab.kernel.invokeFunction('convertToInteractive',\n",
              "                                                     [key], {});\n",
              "          if (!dataTable) return;\n",
              "\n",
              "          const docLinkHtml = 'Like what you see? Visit the ' +\n",
              "            '<a target=\"_blank\" href=https://colab.research.google.com/notebooks/data_table.ipynb>data table notebook</a>'\n",
              "            + ' to learn more about interactive tables.';\n",
              "          element.innerHTML = '';\n",
              "          dataTable['output_type'] = 'display_data';\n",
              "          await google.colab.output.renderOutput(dataTable, element);\n",
              "          const docLink = document.createElement('div');\n",
              "          docLink.innerHTML = docLinkHtml;\n",
              "          element.appendChild(docLink);\n",
              "        }\n",
              "      </script>\n",
              "    </div>\n",
              "  </div>\n",
              "  "
            ],
            "text/plain": [
              "         Date  SoilMoisture  ...  HA_Harvested  FFB_Yield\n",
              "0  01.01.2008         616.4  ...   777778.3951       1.62\n",
              "1  01.02.2008         568.9  ...   767988.2759       1.45\n",
              "2  01.03.2008         577.6  ...   783951.9231       1.56\n",
              "3  01.04.2008         581.1  ...   788987.0504       1.39\n",
              "4  01.05.2008         545.4  ...   813659.7222       1.44\n",
              "5  01.06.2008         532.5  ...   829817.5676       1.48\n",
              "6  01.07.2008         544.7  ...   814475.3012       1.66\n",
              "7  01.08.2008         569.9  ...   782279.5322       1.71\n",
              "8  01.09.2008         571.7  ...   795237.6543       1.62\n",
              "9  01.10.2008         565.3  ...   765090.8602       1.86\n",
              "\n",
              "[10 rows x 9 columns]"
            ]
          },
          "metadata": {},
          "execution_count": 7
        }
      ]
    },
    {
      "cell_type": "code",
      "source": [
        "df.info()"
      ],
      "metadata": {
        "colab": {
          "base_uri": "https://localhost:8080/"
        },
        "id": "N0UZaUgYmEZ5",
        "outputId": "63c6772b-7caf-4c76-beb3-431552454d43"
      },
      "execution_count": null,
      "outputs": [
        {
          "output_type": "stream",
          "name": "stdout",
          "text": [
            "<class 'pandas.core.frame.DataFrame'>\n",
            "RangeIndex: 130 entries, 0 to 129\n",
            "Data columns (total 9 columns):\n",
            " #   Column         Non-Null Count  Dtype  \n",
            "---  ------         --------------  -----  \n",
            " 0   Date           130 non-null    object \n",
            " 1   SoilMoisture   130 non-null    float64\n",
            " 2   Average_Temp   130 non-null    float64\n",
            " 3   Min_Temp       130 non-null    float64\n",
            " 4   Max_Temp       130 non-null    float64\n",
            " 5   Precipitation  130 non-null    float64\n",
            " 6   Working_days   130 non-null    int64  \n",
            " 7   HA_Harvested   130 non-null    float64\n",
            " 8   FFB_Yield      130 non-null    float64\n",
            "dtypes: float64(7), int64(1), object(1)\n",
            "memory usage: 9.3+ KB\n"
          ]
        }
      ]
    },
    {
      "cell_type": "code",
      "source": [
        "#Change the datatype of the \"Date\" column as \"datetime\" datatype\n",
        "df['Date'] = pd.to_datetime(df['Date'])"
      ],
      "metadata": {
        "id": "TWQ6gByF7InT"
      },
      "execution_count": null,
      "outputs": []
    },
    {
      "cell_type": "code",
      "source": [
        "df['Date'].dtype"
      ],
      "metadata": {
        "colab": {
          "base_uri": "https://localhost:8080/"
        },
        "id": "SEyGD7gW7XKq",
        "outputId": "5dbd9d0f-b754-46f0-b324-c9710622d100"
      },
      "execution_count": null,
      "outputs": [
        {
          "output_type": "execute_result",
          "data": {
            "text/plain": [
              "dtype('<M8[ns]')"
            ]
          },
          "metadata": {},
          "execution_count": 10
        }
      ]
    },
    {
      "cell_type": "code",
      "source": [
        "df.describe()"
      ],
      "metadata": {
        "colab": {
          "base_uri": "https://localhost:8080/",
          "height": 300
        },
        "id": "MKJWCTNEmHcN",
        "outputId": "00883e7b-ac10-4511-cf21-b33c8dad5bd3"
      },
      "execution_count": null,
      "outputs": [
        {
          "output_type": "execute_result",
          "data": {
            "text/html": [
              "\n",
              "  <div id=\"df-1d98f10d-63ff-48b0-b51e-9a6b68162d75\">\n",
              "    <div class=\"colab-df-container\">\n",
              "      <div>\n",
              "<style scoped>\n",
              "    .dataframe tbody tr th:only-of-type {\n",
              "        vertical-align: middle;\n",
              "    }\n",
              "\n",
              "    .dataframe tbody tr th {\n",
              "        vertical-align: top;\n",
              "    }\n",
              "\n",
              "    .dataframe thead th {\n",
              "        text-align: right;\n",
              "    }\n",
              "</style>\n",
              "<table border=\"1\" class=\"dataframe\">\n",
              "  <thead>\n",
              "    <tr style=\"text-align: right;\">\n",
              "      <th></th>\n",
              "      <th>SoilMoisture</th>\n",
              "      <th>Average_Temp</th>\n",
              "      <th>Min_Temp</th>\n",
              "      <th>Max_Temp</th>\n",
              "      <th>Precipitation</th>\n",
              "      <th>Working_days</th>\n",
              "      <th>HA_Harvested</th>\n",
              "      <th>FFB_Yield</th>\n",
              "    </tr>\n",
              "  </thead>\n",
              "  <tbody>\n",
              "    <tr>\n",
              "      <th>count</th>\n",
              "      <td>130.000000</td>\n",
              "      <td>130.000000</td>\n",
              "      <td>130.000000</td>\n",
              "      <td>130.000000</td>\n",
              "      <td>130.000000</td>\n",
              "      <td>130.000000</td>\n",
              "      <td>130.000000</td>\n",
              "      <td>130.000000</td>\n",
              "    </tr>\n",
              "    <tr>\n",
              "      <th>mean</th>\n",
              "      <td>527.646923</td>\n",
              "      <td>26.849918</td>\n",
              "      <td>21.379231</td>\n",
              "      <td>33.851538</td>\n",
              "      <td>188.980769</td>\n",
              "      <td>24.753846</td>\n",
              "      <td>793404.491565</td>\n",
              "      <td>1.602231</td>\n",
              "    </tr>\n",
              "    <tr>\n",
              "      <th>std</th>\n",
              "      <td>57.367844</td>\n",
              "      <td>0.651413</td>\n",
              "      <td>0.688971</td>\n",
              "      <td>1.079638</td>\n",
              "      <td>80.237210</td>\n",
              "      <td>1.239289</td>\n",
              "      <td>34440.893854</td>\n",
              "      <td>0.281751</td>\n",
              "    </tr>\n",
              "    <tr>\n",
              "      <th>min</th>\n",
              "      <td>380.700000</td>\n",
              "      <td>25.158065</td>\n",
              "      <td>18.900000</td>\n",
              "      <td>31.100000</td>\n",
              "      <td>2.000000</td>\n",
              "      <td>21.000000</td>\n",
              "      <td>683431.944400</td>\n",
              "      <td>1.080000</td>\n",
              "    </tr>\n",
              "    <tr>\n",
              "      <th>25%</th>\n",
              "      <td>488.625000</td>\n",
              "      <td>26.442285</td>\n",
              "      <td>21.000000</td>\n",
              "      <td>33.100000</td>\n",
              "      <td>140.300000</td>\n",
              "      <td>24.000000</td>\n",
              "      <td>768966.949100</td>\n",
              "      <td>1.390000</td>\n",
              "    </tr>\n",
              "    <tr>\n",
              "      <th>50%</th>\n",
              "      <td>538.300000</td>\n",
              "      <td>26.930645</td>\n",
              "      <td>21.500000</td>\n",
              "      <td>33.900000</td>\n",
              "      <td>182.150000</td>\n",
              "      <td>25.000000</td>\n",
              "      <td>790036.158050</td>\n",
              "      <td>1.585000</td>\n",
              "    </tr>\n",
              "    <tr>\n",
              "      <th>75%</th>\n",
              "      <td>571.025000</td>\n",
              "      <td>27.270726</td>\n",
              "      <td>21.800000</td>\n",
              "      <td>34.600000</td>\n",
              "      <td>226.100000</td>\n",
              "      <td>26.000000</td>\n",
              "      <td>821989.235250</td>\n",
              "      <td>1.807500</td>\n",
              "    </tr>\n",
              "    <tr>\n",
              "      <th>max</th>\n",
              "      <td>647.300000</td>\n",
              "      <td>28.580000</td>\n",
              "      <td>22.600000</td>\n",
              "      <td>36.000000</td>\n",
              "      <td>496.100000</td>\n",
              "      <td>27.000000</td>\n",
              "      <td>882254.225400</td>\n",
              "      <td>2.270000</td>\n",
              "    </tr>\n",
              "  </tbody>\n",
              "</table>\n",
              "</div>\n",
              "      <button class=\"colab-df-convert\" onclick=\"convertToInteractive('df-1d98f10d-63ff-48b0-b51e-9a6b68162d75')\"\n",
              "              title=\"Convert this dataframe to an interactive table.\"\n",
              "              style=\"display:none;\">\n",
              "        \n",
              "  <svg xmlns=\"http://www.w3.org/2000/svg\" height=\"24px\"viewBox=\"0 0 24 24\"\n",
              "       width=\"24px\">\n",
              "    <path d=\"M0 0h24v24H0V0z\" fill=\"none\"/>\n",
              "    <path d=\"M18.56 5.44l.94 2.06.94-2.06 2.06-.94-2.06-.94-.94-2.06-.94 2.06-2.06.94zm-11 1L8.5 8.5l.94-2.06 2.06-.94-2.06-.94L8.5 2.5l-.94 2.06-2.06.94zm10 10l.94 2.06.94-2.06 2.06-.94-2.06-.94-.94-2.06-.94 2.06-2.06.94z\"/><path d=\"M17.41 7.96l-1.37-1.37c-.4-.4-.92-.59-1.43-.59-.52 0-1.04.2-1.43.59L10.3 9.45l-7.72 7.72c-.78.78-.78 2.05 0 2.83L4 21.41c.39.39.9.59 1.41.59.51 0 1.02-.2 1.41-.59l7.78-7.78 2.81-2.81c.8-.78.8-2.07 0-2.86zM5.41 20L4 18.59l7.72-7.72 1.47 1.35L5.41 20z\"/>\n",
              "  </svg>\n",
              "      </button>\n",
              "      \n",
              "  <style>\n",
              "    .colab-df-container {\n",
              "      display:flex;\n",
              "      flex-wrap:wrap;\n",
              "      gap: 12px;\n",
              "    }\n",
              "\n",
              "    .colab-df-convert {\n",
              "      background-color: #E8F0FE;\n",
              "      border: none;\n",
              "      border-radius: 50%;\n",
              "      cursor: pointer;\n",
              "      display: none;\n",
              "      fill: #1967D2;\n",
              "      height: 32px;\n",
              "      padding: 0 0 0 0;\n",
              "      width: 32px;\n",
              "    }\n",
              "\n",
              "    .colab-df-convert:hover {\n",
              "      background-color: #E2EBFA;\n",
              "      box-shadow: 0px 1px 2px rgba(60, 64, 67, 0.3), 0px 1px 3px 1px rgba(60, 64, 67, 0.15);\n",
              "      fill: #174EA6;\n",
              "    }\n",
              "\n",
              "    [theme=dark] .colab-df-convert {\n",
              "      background-color: #3B4455;\n",
              "      fill: #D2E3FC;\n",
              "    }\n",
              "\n",
              "    [theme=dark] .colab-df-convert:hover {\n",
              "      background-color: #434B5C;\n",
              "      box-shadow: 0px 1px 3px 1px rgba(0, 0, 0, 0.15);\n",
              "      filter: drop-shadow(0px 1px 2px rgba(0, 0, 0, 0.3));\n",
              "      fill: #FFFFFF;\n",
              "    }\n",
              "  </style>\n",
              "\n",
              "      <script>\n",
              "        const buttonEl =\n",
              "          document.querySelector('#df-1d98f10d-63ff-48b0-b51e-9a6b68162d75 button.colab-df-convert');\n",
              "        buttonEl.style.display =\n",
              "          google.colab.kernel.accessAllowed ? 'block' : 'none';\n",
              "\n",
              "        async function convertToInteractive(key) {\n",
              "          const element = document.querySelector('#df-1d98f10d-63ff-48b0-b51e-9a6b68162d75');\n",
              "          const dataTable =\n",
              "            await google.colab.kernel.invokeFunction('convertToInteractive',\n",
              "                                                     [key], {});\n",
              "          if (!dataTable) return;\n",
              "\n",
              "          const docLinkHtml = 'Like what you see? Visit the ' +\n",
              "            '<a target=\"_blank\" href=https://colab.research.google.com/notebooks/data_table.ipynb>data table notebook</a>'\n",
              "            + ' to learn more about interactive tables.';\n",
              "          element.innerHTML = '';\n",
              "          dataTable['output_type'] = 'display_data';\n",
              "          await google.colab.output.renderOutput(dataTable, element);\n",
              "          const docLink = document.createElement('div');\n",
              "          docLink.innerHTML = docLinkHtml;\n",
              "          element.appendChild(docLink);\n",
              "        }\n",
              "      </script>\n",
              "    </div>\n",
              "  </div>\n",
              "  "
            ],
            "text/plain": [
              "       SoilMoisture  Average_Temp  ...   HA_Harvested   FFB_Yield\n",
              "count    130.000000    130.000000  ...     130.000000  130.000000\n",
              "mean     527.646923     26.849918  ...  793404.491565    1.602231\n",
              "std       57.367844      0.651413  ...   34440.893854    0.281751\n",
              "min      380.700000     25.158065  ...  683431.944400    1.080000\n",
              "25%      488.625000     26.442285  ...  768966.949100    1.390000\n",
              "50%      538.300000     26.930645  ...  790036.158050    1.585000\n",
              "75%      571.025000     27.270726  ...  821989.235250    1.807500\n",
              "max      647.300000     28.580000  ...  882254.225400    2.270000\n",
              "\n",
              "[8 rows x 8 columns]"
            ]
          },
          "metadata": {},
          "execution_count": 11
        }
      ]
    },
    {
      "cell_type": "code",
      "source": [
        "#Check for missing values\n",
        "df.isnull().sum()"
      ],
      "metadata": {
        "colab": {
          "base_uri": "https://localhost:8080/"
        },
        "id": "or5EefOfmLAI",
        "outputId": "517be7ee-b8ff-4c5c-f337-fb9ecb835dcd"
      },
      "execution_count": null,
      "outputs": [
        {
          "output_type": "execute_result",
          "data": {
            "text/plain": [
              "Date             0\n",
              "SoilMoisture     0\n",
              "Average_Temp     0\n",
              "Min_Temp         0\n",
              "Max_Temp         0\n",
              "Precipitation    0\n",
              "Working_days     0\n",
              "HA_Harvested     0\n",
              "FFB_Yield        0\n",
              "dtype: int64"
            ]
          },
          "metadata": {},
          "execution_count": 12
        }
      ]
    },
    {
      "cell_type": "code",
      "source": [
        "#Create a new column by extracting the year from the date attribute\n",
        "df['year'] = pd.DatetimeIndex(df['Date']).year\n"
      ],
      "metadata": {
        "id": "DGoQDQav2Zhq"
      },
      "execution_count": null,
      "outputs": []
    },
    {
      "cell_type": "code",
      "source": [
        "df['month'] = pd.DatetimeIndex(df['Date']).day"
      ],
      "metadata": {
        "id": "bvyXXEuj2iBx"
      },
      "execution_count": null,
      "outputs": []
    },
    {
      "cell_type": "code",
      "source": [
        "df.head()"
      ],
      "metadata": {
        "colab": {
          "base_uri": "https://localhost:8080/",
          "height": 206
        },
        "id": "oQ6QEH8U2kFk",
        "outputId": "adf73de2-bf01-4b0b-f448-4f1d04f68add"
      },
      "execution_count": null,
      "outputs": [
        {
          "output_type": "execute_result",
          "data": {
            "text/html": [
              "\n",
              "  <div id=\"df-2d272661-7352-4c06-90b5-9c0ba3e5c650\">\n",
              "    <div class=\"colab-df-container\">\n",
              "      <div>\n",
              "<style scoped>\n",
              "    .dataframe tbody tr th:only-of-type {\n",
              "        vertical-align: middle;\n",
              "    }\n",
              "\n",
              "    .dataframe tbody tr th {\n",
              "        vertical-align: top;\n",
              "    }\n",
              "\n",
              "    .dataframe thead th {\n",
              "        text-align: right;\n",
              "    }\n",
              "</style>\n",
              "<table border=\"1\" class=\"dataframe\">\n",
              "  <thead>\n",
              "    <tr style=\"text-align: right;\">\n",
              "      <th></th>\n",
              "      <th>Date</th>\n",
              "      <th>SoilMoisture</th>\n",
              "      <th>Average_Temp</th>\n",
              "      <th>Min_Temp</th>\n",
              "      <th>Max_Temp</th>\n",
              "      <th>Precipitation</th>\n",
              "      <th>Working_days</th>\n",
              "      <th>HA_Harvested</th>\n",
              "      <th>FFB_Yield</th>\n",
              "      <th>year</th>\n",
              "      <th>month</th>\n",
              "    </tr>\n",
              "  </thead>\n",
              "  <tbody>\n",
              "    <tr>\n",
              "      <th>0</th>\n",
              "      <td>2008-01-01</td>\n",
              "      <td>616.4</td>\n",
              "      <td>25.306452</td>\n",
              "      <td>21.3</td>\n",
              "      <td>32.2</td>\n",
              "      <td>184.4</td>\n",
              "      <td>25</td>\n",
              "      <td>777778.3951</td>\n",
              "      <td>1.62</td>\n",
              "      <td>2008</td>\n",
              "      <td>1</td>\n",
              "    </tr>\n",
              "    <tr>\n",
              "      <th>1</th>\n",
              "      <td>2008-01-02</td>\n",
              "      <td>568.9</td>\n",
              "      <td>26.165517</td>\n",
              "      <td>20.9</td>\n",
              "      <td>35.1</td>\n",
              "      <td>140.2</td>\n",
              "      <td>23</td>\n",
              "      <td>767988.2759</td>\n",
              "      <td>1.45</td>\n",
              "      <td>2008</td>\n",
              "      <td>2</td>\n",
              "    </tr>\n",
              "    <tr>\n",
              "      <th>2</th>\n",
              "      <td>2008-01-03</td>\n",
              "      <td>577.6</td>\n",
              "      <td>25.448387</td>\n",
              "      <td>21.3</td>\n",
              "      <td>32.9</td>\n",
              "      <td>280.4</td>\n",
              "      <td>25</td>\n",
              "      <td>783951.9231</td>\n",
              "      <td>1.56</td>\n",
              "      <td>2008</td>\n",
              "      <td>3</td>\n",
              "    </tr>\n",
              "    <tr>\n",
              "      <th>3</th>\n",
              "      <td>2008-01-04</td>\n",
              "      <td>581.1</td>\n",
              "      <td>26.903333</td>\n",
              "      <td>20.6</td>\n",
              "      <td>34.8</td>\n",
              "      <td>173.3</td>\n",
              "      <td>25</td>\n",
              "      <td>788987.0504</td>\n",
              "      <td>1.39</td>\n",
              "      <td>2008</td>\n",
              "      <td>4</td>\n",
              "    </tr>\n",
              "    <tr>\n",
              "      <th>4</th>\n",
              "      <td>2008-01-05</td>\n",
              "      <td>545.4</td>\n",
              "      <td>27.241935</td>\n",
              "      <td>20.9</td>\n",
              "      <td>35.0</td>\n",
              "      <td>140.6</td>\n",
              "      <td>25</td>\n",
              "      <td>813659.7222</td>\n",
              "      <td>1.44</td>\n",
              "      <td>2008</td>\n",
              "      <td>5</td>\n",
              "    </tr>\n",
              "  </tbody>\n",
              "</table>\n",
              "</div>\n",
              "      <button class=\"colab-df-convert\" onclick=\"convertToInteractive('df-2d272661-7352-4c06-90b5-9c0ba3e5c650')\"\n",
              "              title=\"Convert this dataframe to an interactive table.\"\n",
              "              style=\"display:none;\">\n",
              "        \n",
              "  <svg xmlns=\"http://www.w3.org/2000/svg\" height=\"24px\"viewBox=\"0 0 24 24\"\n",
              "       width=\"24px\">\n",
              "    <path d=\"M0 0h24v24H0V0z\" fill=\"none\"/>\n",
              "    <path d=\"M18.56 5.44l.94 2.06.94-2.06 2.06-.94-2.06-.94-.94-2.06-.94 2.06-2.06.94zm-11 1L8.5 8.5l.94-2.06 2.06-.94-2.06-.94L8.5 2.5l-.94 2.06-2.06.94zm10 10l.94 2.06.94-2.06 2.06-.94-2.06-.94-.94-2.06-.94 2.06-2.06.94z\"/><path d=\"M17.41 7.96l-1.37-1.37c-.4-.4-.92-.59-1.43-.59-.52 0-1.04.2-1.43.59L10.3 9.45l-7.72 7.72c-.78.78-.78 2.05 0 2.83L4 21.41c.39.39.9.59 1.41.59.51 0 1.02-.2 1.41-.59l7.78-7.78 2.81-2.81c.8-.78.8-2.07 0-2.86zM5.41 20L4 18.59l7.72-7.72 1.47 1.35L5.41 20z\"/>\n",
              "  </svg>\n",
              "      </button>\n",
              "      \n",
              "  <style>\n",
              "    .colab-df-container {\n",
              "      display:flex;\n",
              "      flex-wrap:wrap;\n",
              "      gap: 12px;\n",
              "    }\n",
              "\n",
              "    .colab-df-convert {\n",
              "      background-color: #E8F0FE;\n",
              "      border: none;\n",
              "      border-radius: 50%;\n",
              "      cursor: pointer;\n",
              "      display: none;\n",
              "      fill: #1967D2;\n",
              "      height: 32px;\n",
              "      padding: 0 0 0 0;\n",
              "      width: 32px;\n",
              "    }\n",
              "\n",
              "    .colab-df-convert:hover {\n",
              "      background-color: #E2EBFA;\n",
              "      box-shadow: 0px 1px 2px rgba(60, 64, 67, 0.3), 0px 1px 3px 1px rgba(60, 64, 67, 0.15);\n",
              "      fill: #174EA6;\n",
              "    }\n",
              "\n",
              "    [theme=dark] .colab-df-convert {\n",
              "      background-color: #3B4455;\n",
              "      fill: #D2E3FC;\n",
              "    }\n",
              "\n",
              "    [theme=dark] .colab-df-convert:hover {\n",
              "      background-color: #434B5C;\n",
              "      box-shadow: 0px 1px 3px 1px rgba(0, 0, 0, 0.15);\n",
              "      filter: drop-shadow(0px 1px 2px rgba(0, 0, 0, 0.3));\n",
              "      fill: #FFFFFF;\n",
              "    }\n",
              "  </style>\n",
              "\n",
              "      <script>\n",
              "        const buttonEl =\n",
              "          document.querySelector('#df-2d272661-7352-4c06-90b5-9c0ba3e5c650 button.colab-df-convert');\n",
              "        buttonEl.style.display =\n",
              "          google.colab.kernel.accessAllowed ? 'block' : 'none';\n",
              "\n",
              "        async function convertToInteractive(key) {\n",
              "          const element = document.querySelector('#df-2d272661-7352-4c06-90b5-9c0ba3e5c650');\n",
              "          const dataTable =\n",
              "            await google.colab.kernel.invokeFunction('convertToInteractive',\n",
              "                                                     [key], {});\n",
              "          if (!dataTable) return;\n",
              "\n",
              "          const docLinkHtml = 'Like what you see? Visit the ' +\n",
              "            '<a target=\"_blank\" href=https://colab.research.google.com/notebooks/data_table.ipynb>data table notebook</a>'\n",
              "            + ' to learn more about interactive tables.';\n",
              "          element.innerHTML = '';\n",
              "          dataTable['output_type'] = 'display_data';\n",
              "          await google.colab.output.renderOutput(dataTable, element);\n",
              "          const docLink = document.createElement('div');\n",
              "          docLink.innerHTML = docLinkHtml;\n",
              "          element.appendChild(docLink);\n",
              "        }\n",
              "      </script>\n",
              "    </div>\n",
              "  </div>\n",
              "  "
            ],
            "text/plain": [
              "        Date  SoilMoisture  Average_Temp  ...  FFB_Yield  year  month\n",
              "0 2008-01-01         616.4     25.306452  ...       1.62  2008      1\n",
              "1 2008-01-02         568.9     26.165517  ...       1.45  2008      2\n",
              "2 2008-01-03         577.6     25.448387  ...       1.56  2008      3\n",
              "3 2008-01-04         581.1     26.903333  ...       1.39  2008      4\n",
              "4 2008-01-05         545.4     27.241935  ...       1.44  2008      5\n",
              "\n",
              "[5 rows x 11 columns]"
            ]
          },
          "metadata": {},
          "execution_count": 15
        }
      ]
    },
    {
      "cell_type": "markdown",
      "source": [
        "**Step 3:Visulaization**"
      ],
      "metadata": {
        "id": "AQEDkc1YyU6a"
      }
    },
    {
      "cell_type": "code",
      "source": [
        "#Plot the quantitative values as group chart using line graph\n",
        "import matplotlib.pyplot as plt\n",
        "values = df.values\n",
        "groups = [1, 2, 3, 4, 5, 6, 7,8]\n",
        "i = 1\n",
        "# plot each column\n",
        "for group in groups:\n",
        "    plt.subplot(len(groups), 1, i)\n",
        "    plt.plot(values[:, group])\n",
        "    plt.title(df.columns[group], y=0.5, loc='right')\n",
        "    i += 1\n",
        "plt.show()"
      ],
      "metadata": {
        "id": "yB_dBkFxoCzS",
        "colab": {
          "base_uri": "https://localhost:8080/",
          "height": 270
        },
        "outputId": "f83d90f7-90af-49b7-f460-c271b318d147"
      },
      "execution_count": null,
      "outputs": [
        {
          "output_type": "display_data",
          "data": {
            "image/png": "[encoded data removed]",
            "text/plain": [
              "<Figure size 432x288 with 8 Axes>"
            ]
          },
          "metadata": {
            "needs_background": "light"
          }
        }
      ]
    },
    {
      "cell_type": "code",
      "source": [
        "#Visulaize the correlation among the data by using the heat map\n",
        "import seaborn as sns\n",
        "sns.heatmap(df.corr(),annot=True)"
      ],
      "metadata": {
        "colab": {
          "base_uri": "https://localhost:8080/",
          "height": 349
        },
        "id": "dImxsO5Pya3R",
        "outputId": "3f47f06f-f23c-4b3d-c377-c08030e4d005"
      },
      "execution_count": null,
      "outputs": [
        {
          "output_type": "execute_result",
          "data": {
            "text/plain": [
              "<matplotlib.axes._subplots.AxesSubplot at 0x7fd70ea4e890>"
            ]
          },
          "metadata": {},
          "execution_count": 17
        },
        {
          "output_type": "display_data",
          "data": {
            "image/png": "[encoded data removed]",
            "text/plain": [
              "<Figure size 432x288 with 2 Axes>"
            ]
          },
          "metadata": {
            "needs_background": "light"
          }
        }
      ]
    },
    {
      "cell_type": "code",
      "source": [
        "df.hist()"
      ],
      "metadata": {
        "colab": {
          "base_uri": "https://localhost:8080/",
          "height": 507
        },
        "id": "TZEZ9AXHyodj",
        "outputId": "b4590cfc-bd85-4418-f115-af41cfa81224"
      },
      "execution_count": null,
      "outputs": [
        {
          "output_type": "execute_result",
          "data": {
            "text/plain": [
              "array([[<matplotlib.axes._subplots.AxesSubplot object at 0x7fd7102da3d0>,\n",
              "        <matplotlib.axes._subplots.AxesSubplot object at 0x7fd710a2b3d0>,\n",
              "        <matplotlib.axes._subplots.AxesSubplot object at 0x7fd7109b4f10>],\n",
              "       [<matplotlib.axes._subplots.AxesSubplot object at 0x7fd710913dd0>,\n",
              "        <matplotlib.axes._subplots.AxesSubplot object at 0x7fd710929950>,\n",
              "        <matplotlib.axes._subplots.AxesSubplot object at 0x7fd71095d090>],\n",
              "       [<matplotlib.axes._subplots.AxesSubplot object at 0x7fd7109bb410>,\n",
              "        <matplotlib.axes._subplots.AxesSubplot object at 0x7fd7108adfd0>,\n",
              "        <matplotlib.axes._subplots.AxesSubplot object at 0x7fd710965d10>],\n",
              "       [<matplotlib.axes._subplots.AxesSubplot object at 0x7fd7109173d0>,\n",
              "        <matplotlib.axes._subplots.AxesSubplot object at 0x7fd7108cbc50>,\n",
              "        <matplotlib.axes._subplots.AxesSubplot object at 0x7fd70c043850>]],\n",
              "      dtype=object)"
            ]
          },
          "metadata": {},
          "execution_count": 18
        },
        {
          "output_type": "display_data",
          "data": {
            "image/png": "[encoded data removed]",
            "text/plain": [
              "<Figure size 432x288 with 12 Axes>"
            ]
          },
          "metadata": {
            "needs_background": "light"
          }
        }
      ]
    },
    {
      "cell_type": "code",
      "source": [
        "#Find how many number of working days contribute more FFB Yield data\n",
        "plt.figure(figsize = (12, 6))\n",
        "sns.countplot(x = 'Working_days', data = df)\n",
        "#Here we explore that the FFB yield data consist of more no of data for working days is 25\n"
      ],
      "metadata": {
        "colab": {
          "base_uri": "https://localhost:8080/",
          "height": 406
        },
        "id": "5esRtCIs06_e",
        "outputId": "67c3a15d-bc01-4a6c-c547-ee9c75209458"
      },
      "execution_count": null,
      "outputs": [
        {
          "output_type": "execute_result",
          "data": {
            "text/plain": [
              "<matplotlib.axes._subplots.AxesSubplot at 0x7fd70bf83650>"
            ]
          },
          "metadata": {},
          "execution_count": 19
        },
        {
          "output_type": "display_data",
          "data": {
            "image/png": "[encoded data removed]",
            "text/plain": [
              "<Figure size 864x432 with 1 Axes>"
            ]
          },
          "metadata": {
            "needs_background": "light"
          }
        }
      ]
    },
    {
      "cell_type": "code",
      "source": [
        "#Visulaise which year produces high average FFB Yield\n",
        "\n",
        "table = pd.pivot_table(df,index='year',columns='month',aggfunc={'FFB_Yield':np.mean})\n",
        "plotting=table.plot(kind=\"bar\")\n",
        "fig = plotting.get_figure()\n",
        "fig.set_size_inches(7, 7)\n",
        "fig.legends\n",
        "lgd = plotting.legend(loc=9, bbox_to_anchor=(1.3,0.5))"
      ],
      "metadata": {
        "colab": {
          "base_uri": "https://localhost:8080/",
          "height": 458
        },
        "id": "ZkFgjw2D1Rk7",
        "outputId": "8020dbea-dd5b-45be-e8c0-f5e51896101a"
      },
      "execution_count": null,
      "outputs": [
        {
          "output_type": "display_data",
          "data": {
            "image/png": "[encoded data removed]",
            "text/plain": [
              "<Figure size 504x504 with 1 Axes>"
            ]
          },
          "metadata": {
            "needs_background": "light"
          }
        }
      ]
    },
    {
      "cell_type": "markdown",
      "source": [
        "We found during the year 2017 the average FFB Yield was more when compared with other years"
      ],
      "metadata": {
        "id": "wSmsyBsmXrlA"
      }
    },
    {
      "cell_type": "markdown",
      "source": [
        "## **Step 4: Feature Selection**"
      ],
      "metadata": {
        "id": "jvm8IXRNA9yP"
      }
    },
    {
      "cell_type": "code",
      "source": [
        "correlation = abs(df.corr()[\"FFB_Yield\"])\n",
        "correlation"
      ],
      "metadata": {
        "id": "p7UJv_quA9i_",
        "colab": {
          "base_uri": "https://localhost:8080/"
        },
        "outputId": "128672e2-33ff-4472-aa27-cc0f8fde9413"
      },
      "execution_count": null,
      "outputs": [
        {
          "output_type": "execute_result",
          "data": {
            "text/plain": [
              "SoilMoisture     0.003183\n",
              "Average_Temp     0.005494\n",
              "Min_Temp         0.103830\n",
              "Max_Temp         0.071201\n",
              "Precipitation    0.289604\n",
              "Working_days     0.116364\n",
              "HA_Harvested     0.350222\n",
              "FFB_Yield        1.000000\n",
              "year             0.051947\n",
              "month            0.671277\n",
              "Name: FFB_Yield, dtype: float64"
            ]
          },
          "metadata": {},
          "execution_count": 18
        }
      ]
    },
    {
      "cell_type": "markdown",
      "source": [
        "Create two dataset \n",
        "('a')with the input features without having the target column(FFB Yield) and \n",
        "also less important features(Date,month,year) for our machine learning model.\n",
        "('b')with target column (FFB_Yield)"
      ],
      "metadata": {
        "id": "Slco7ZIGYJPt"
      }
    },
    {
      "cell_type": "code",
      "source": [
        "a= df.drop(['FFB_Yield','Date','month','year'],axis=1) \n",
        "b = df.FFB_Yield   "
      ],
      "metadata": {
        "id": "X6Np80LsClSP"
      },
      "execution_count": null,
      "outputs": []
    },
    {
      "cell_type": "code",
      "source": [
        "a"
      ],
      "metadata": {
        "colab": {
          "base_uri": "https://localhost:8080/",
          "height": 424
        },
        "id": "TX9jkic5F8ir",
        "outputId": "cdf7fd59-e2b7-423c-8ee8-30a03c4234f4"
      },
      "execution_count": null,
      "outputs": [
        {
          "output_type": "execute_result",
          "data": {
            "text/html": [
              "\n",
              "  <div id=\"df-caa30e3d-04a2-4cd4-b0ab-2e4222fec437\">\n",
              "    <div class=\"colab-df-container\">\n",
              "      <div>\n",
              "<style scoped>\n",
              "    .dataframe tbody tr th:only-of-type {\n",
              "        vertical-align: middle;\n",
              "    }\n",
              "\n",
              "    .dataframe tbody tr th {\n",
              "        vertical-align: top;\n",
              "    }\n",
              "\n",
              "    .dataframe thead th {\n",
              "        text-align: right;\n",
              "    }\n",
              "</style>\n",
              "<table border=\"1\" class=\"dataframe\">\n",
              "  <thead>\n",
              "    <tr style=\"text-align: right;\">\n",
              "      <th></th>\n",
              "      <th>SoilMoisture</th>\n",
              "      <th>Average_Temp</th>\n",
              "      <th>Min_Temp</th>\n",
              "      <th>Max_Temp</th>\n",
              "      <th>Precipitation</th>\n",
              "      <th>Working_days</th>\n",
              "      <th>HA_Harvested</th>\n",
              "    </tr>\n",
              "  </thead>\n",
              "  <tbody>\n",
              "    <tr>\n",
              "      <th>0</th>\n",
              "      <td>616.4</td>\n",
              "      <td>25.306452</td>\n",
              "      <td>21.3</td>\n",
              "      <td>32.2</td>\n",
              "      <td>184.4</td>\n",
              "      <td>25</td>\n",
              "      <td>777778.3951</td>\n",
              "    </tr>\n",
              "    <tr>\n",
              "      <th>1</th>\n",
              "      <td>568.9</td>\n",
              "      <td>26.165517</td>\n",
              "      <td>20.9</td>\n",
              "      <td>35.1</td>\n",
              "      <td>140.2</td>\n",
              "      <td>23</td>\n",
              "      <td>767988.2759</td>\n",
              "    </tr>\n",
              "    <tr>\n",
              "      <th>2</th>\n",
              "      <td>577.6</td>\n",
              "      <td>25.448387</td>\n",
              "      <td>21.3</td>\n",
              "      <td>32.9</td>\n",
              "      <td>280.4</td>\n",
              "      <td>25</td>\n",
              "      <td>783951.9231</td>\n",
              "    </tr>\n",
              "    <tr>\n",
              "      <th>3</th>\n",
              "      <td>581.1</td>\n",
              "      <td>26.903333</td>\n",
              "      <td>20.6</td>\n",
              "      <td>34.8</td>\n",
              "      <td>173.3</td>\n",
              "      <td>25</td>\n",
              "      <td>788987.0504</td>\n",
              "    </tr>\n",
              "    <tr>\n",
              "      <th>4</th>\n",
              "      <td>545.4</td>\n",
              "      <td>27.241935</td>\n",
              "      <td>20.9</td>\n",
              "      <td>35.0</td>\n",
              "      <td>140.6</td>\n",
              "      <td>25</td>\n",
              "      <td>813659.7222</td>\n",
              "    </tr>\n",
              "    <tr>\n",
              "      <th>...</th>\n",
              "      <td>...</td>\n",
              "      <td>...</td>\n",
              "      <td>...</td>\n",
              "      <td>...</td>\n",
              "      <td>...</td>\n",
              "      <td>...</td>\n",
              "      <td>...</td>\n",
              "    </tr>\n",
              "    <tr>\n",
              "      <th>125</th>\n",
              "      <td>498.2</td>\n",
              "      <td>27.213333</td>\n",
              "      <td>21.6</td>\n",
              "      <td>33.6</td>\n",
              "      <td>165.6</td>\n",
              "      <td>24</td>\n",
              "      <td>820758.9147</td>\n",
              "    </tr>\n",
              "    <tr>\n",
              "      <th>126</th>\n",
              "      <td>494.7</td>\n",
              "      <td>27.074194</td>\n",
              "      <td>21.2</td>\n",
              "      <td>33.5</td>\n",
              "      <td>154.7</td>\n",
              "      <td>26</td>\n",
              "      <td>882254.2254</td>\n",
              "    </tr>\n",
              "    <tr>\n",
              "      <th>127</th>\n",
              "      <td>478.8</td>\n",
              "      <td>27.016129</td>\n",
              "      <td>20.4</td>\n",
              "      <td>33.6</td>\n",
              "      <td>127.2</td>\n",
              "      <td>25</td>\n",
              "      <td>829488.8199</td>\n",
              "    </tr>\n",
              "    <tr>\n",
              "      <th>128</th>\n",
              "      <td>481.1</td>\n",
              "      <td>26.946667</td>\n",
              "      <td>21.0</td>\n",
              "      <td>34.2</td>\n",
              "      <td>180.6</td>\n",
              "      <td>23</td>\n",
              "      <td>792101.0471</td>\n",
              "    </tr>\n",
              "    <tr>\n",
              "      <th>129</th>\n",
              "      <td>510.8</td>\n",
              "      <td>26.819355</td>\n",
              "      <td>21.0</td>\n",
              "      <td>34.4</td>\n",
              "      <td>207.0</td>\n",
              "      <td>26</td>\n",
              "      <td>771805.3922</td>\n",
              "    </tr>\n",
              "  </tbody>\n",
              "</table>\n",
              "<p>130 rows × 7 columns</p>\n",
              "</div>\n",
              "      <button class=\"colab-df-convert\" onclick=\"convertToInteractive('df-caa30e3d-04a2-4cd4-b0ab-2e4222fec437')\"\n",
              "              title=\"Convert this dataframe to an interactive table.\"\n",
              "              style=\"display:none;\">\n",
              "        \n",
              "  <svg xmlns=\"http://www.w3.org/2000/svg\" height=\"24px\"viewBox=\"0 0 24 24\"\n",
              "       width=\"24px\">\n",
              "    <path d=\"M0 0h24v24H0V0z\" fill=\"none\"/>\n",
              "    <path d=\"M18.56 5.44l.94 2.06.94-2.06 2.06-.94-2.06-.94-.94-2.06-.94 2.06-2.06.94zm-11 1L8.5 8.5l.94-2.06 2.06-.94-2.06-.94L8.5 2.5l-.94 2.06-2.06.94zm10 10l.94 2.06.94-2.06 2.06-.94-2.06-.94-.94-2.06-.94 2.06-2.06.94z\"/><path d=\"M17.41 7.96l-1.37-1.37c-.4-.4-.92-.59-1.43-.59-.52 0-1.04.2-1.43.59L10.3 9.45l-7.72 7.72c-.78.78-.78 2.05 0 2.83L4 21.41c.39.39.9.59 1.41.59.51 0 1.02-.2 1.41-.59l7.78-7.78 2.81-2.81c.8-.78.8-2.07 0-2.86zM5.41 20L4 18.59l7.72-7.72 1.47 1.35L5.41 20z\"/>\n",
              "  </svg>\n",
              "      </button>\n",
              "      \n",
              "  <style>\n",
              "    .colab-df-container {\n",
              "      display:flex;\n",
              "      flex-wrap:wrap;\n",
              "      gap: 12px;\n",
              "    }\n",
              "\n",
              "    .colab-df-convert {\n",
              "      background-color: #E8F0FE;\n",
              "      border: none;\n",
              "      border-radius: 50%;\n",
              "      cursor: pointer;\n",
              "      display: none;\n",
              "      fill: #1967D2;\n",
              "      height: 32px;\n",
              "      padding: 0 0 0 0;\n",
              "      width: 32px;\n",
              "    }\n",
              "\n",
              "    .colab-df-convert:hover {\n",
              "      background-color: #E2EBFA;\n",
              "      box-shadow: 0px 1px 2px rgba(60, 64, 67, 0.3), 0px 1px 3px 1px rgba(60, 64, 67, 0.15);\n",
              "      fill: #174EA6;\n",
              "    }\n",
              "\n",
              "    [theme=dark] .colab-df-convert {\n",
              "      background-color: #3B4455;\n",
              "      fill: #D2E3FC;\n",
              "    }\n",
              "\n",
              "    [theme=dark] .colab-df-convert:hover {\n",
              "      background-color: #434B5C;\n",
              "      box-shadow: 0px 1px 3px 1px rgba(0, 0, 0, 0.15);\n",
              "      filter: drop-shadow(0px 1px 2px rgba(0, 0, 0, 0.3));\n",
              "      fill: #FFFFFF;\n",
              "    }\n",
              "  </style>\n",
              "\n",
              "      <script>\n",
              "        const buttonEl =\n",
              "          document.querySelector('#df-caa30e3d-04a2-4cd4-b0ab-2e4222fec437 button.colab-df-convert');\n",
              "        buttonEl.style.display =\n",
              "          google.colab.kernel.accessAllowed ? 'block' : 'none';\n",
              "\n",
              "        async function convertToInteractive(key) {\n",
              "          const element = document.querySelector('#df-caa30e3d-04a2-4cd4-b0ab-2e4222fec437');\n",
              "          const dataTable =\n",
              "            await google.colab.kernel.invokeFunction('convertToInteractive',\n",
              "                                                     [key], {});\n",
              "          if (!dataTable) return;\n",
              "\n",
              "          const docLinkHtml = 'Like what you see? Visit the ' +\n",
              "            '<a target=\"_blank\" href=https://colab.research.google.com/notebooks/data_table.ipynb>data table notebook</a>'\n",
              "            + ' to learn more about interactive tables.';\n",
              "          element.innerHTML = '';\n",
              "          dataTable['output_type'] = 'display_data';\n",
              "          await google.colab.output.renderOutput(dataTable, element);\n",
              "          const docLink = document.createElement('div');\n",
              "          docLink.innerHTML = docLinkHtml;\n",
              "          element.appendChild(docLink);\n",
              "        }\n",
              "      </script>\n",
              "    </div>\n",
              "  </div>\n",
              "  "
            ],
            "text/plain": [
              "     SoilMoisture  Average_Temp  ...  Working_days  HA_Harvested\n",
              "0           616.4     25.306452  ...            25   777778.3951\n",
              "1           568.9     26.165517  ...            23   767988.2759\n",
              "2           577.6     25.448387  ...            25   783951.9231\n",
              "3           581.1     26.903333  ...            25   788987.0504\n",
              "4           545.4     27.241935  ...            25   813659.7222\n",
              "..            ...           ...  ...           ...           ...\n",
              "125         498.2     27.213333  ...            24   820758.9147\n",
              "126         494.7     27.074194  ...            26   882254.2254\n",
              "127         478.8     27.016129  ...            25   829488.8199\n",
              "128         481.1     26.946667  ...            23   792101.0471\n",
              "129         510.8     26.819355  ...            26   771805.3922\n",
              "\n",
              "[130 rows x 7 columns]"
            ]
          },
          "metadata": {},
          "execution_count": 21
        }
      ]
    },
    {
      "cell_type": "markdown",
      "source": [
        "Find feature IMportance by boosting ensembling method"
      ],
      "metadata": {
        "id": "LTJx9XaQkctT"
      }
    },
    {
      "cell_type": "code",
      "source": [
        "from xgboost import XGBRegressor\n",
        "model = XGBRegressor()\n",
        "# fit the model\n",
        "model.fit(a, b)\n",
        "# get importance\n",
        "importance = model.feature_importances_\n",
        "# summarize feature importance\n",
        "for i,v in enumerate(importance):\n",
        "\tprint('Feature: %0d, Score: %.5f' % (i,v))\n"
      ],
      "metadata": {
        "colab": {
          "base_uri": "https://localhost:8080/"
        },
        "id": "3zTpPnKqEVtR",
        "outputId": "5a2da01d-2f21-448c-fa77-c85166167538"
      },
      "execution_count": null,
      "outputs": [
        {
          "output_type": "stream",
          "name": "stdout",
          "text": [
            "[01:03:37] WARNING: /workspace/src/objective/regression_obj.cu:152: reg:linear is now deprecated in favor of reg:squarederror.\n",
            "Feature: 0, Score: 0.09442\n",
            "Feature: 1, Score: 0.13203\n",
            "Feature: 2, Score: 0.10492\n",
            "Feature: 3, Score: 0.09676\n",
            "Feature: 4, Score: 0.23888\n",
            "Feature: 5, Score: 0.06003\n",
            "Feature: 6, Score: 0.27297\n"
          ]
        }
      ]
    },
    {
      "cell_type": "code",
      "source": [
        "# plot feature importance\n",
        "plt.bar([x for x in range(len(importance))], importance)\n",
        "plt.show()"
      ],
      "metadata": {
        "colab": {
          "base_uri": "https://localhost:8080/",
          "height": 265
        },
        "id": "dLFYEipGEegM",
        "outputId": "1b2cf3af-fbd3-4da7-e702-b537b18da0ac"
      },
      "execution_count": null,
      "outputs": [
        {
          "output_type": "display_data",
          "data": {
            "image/png": "[encoded data removed]",
            "text/plain": [
              "<Figure size 432x288 with 1 Axes>"
            ]
          },
          "metadata": {
            "needs_background": "light"
          }
        }
      ]
    },
    {
      "cell_type": "markdown",
      "source": [
        "We found that the Precipitation\tand\tHA_Harvested are high important features in analysing the FFB Yield"
      ],
      "metadata": {
        "id": "RKyyUFgRGC0-"
      }
    },
    {
      "cell_type": "markdown",
      "source": [
        "# **Step 5: Build Machine Learning Model: Multiple Linear Regression**"
      ],
      "metadata": {
        "id": "qfe2hqMoJAUP"
      }
    },
    {
      "cell_type": "code",
      "source": [
        "newdf=df.drop(['Date','month','year'],axis=1) \n"
      ],
      "metadata": {
        "id": "rRbqk5KlLHum"
      },
      "execution_count": null,
      "outputs": []
    },
    {
      "cell_type": "code",
      "source": [
        "newdf['Working_days']=newdf['Working_days'].astype('float')"
      ],
      "metadata": {
        "id": "3ti_GueiaF7M"
      },
      "execution_count": null,
      "outputs": []
    },
    {
      "cell_type": "code",
      "source": [
        "newdf.info()"
      ],
      "metadata": {
        "colab": {
          "base_uri": "https://localhost:8080/"
        },
        "id": "6JIdcbBWasXW",
        "outputId": "dddc0bfd-7cd5-46e0-cec6-1306ee1d112c"
      },
      "execution_count": null,
      "outputs": [
        {
          "output_type": "stream",
          "name": "stdout",
          "text": [
            "<class 'pandas.core.frame.DataFrame'>\n",
            "RangeIndex: 130 entries, 0 to 129\n",
            "Data columns (total 8 columns):\n",
            " #   Column         Non-Null Count  Dtype  \n",
            "---  ------         --------------  -----  \n",
            " 0   SoilMoisture   130 non-null    float64\n",
            " 1   Average_Temp   130 non-null    float64\n",
            " 2   Min_Temp       130 non-null    float64\n",
            " 3   Max_Temp       130 non-null    float64\n",
            " 4   Precipitation  130 non-null    float64\n",
            " 5   Working_days   130 non-null    float64\n",
            " 6   HA_Harvested   130 non-null    float64\n",
            " 7   FFB_Yield      130 non-null    float64\n",
            "dtypes: float64(8)\n",
            "memory usage: 8.2 KB\n"
          ]
        }
      ]
    },
    {
      "cell_type": "code",
      "source": [
        "newdf.boxplot()"
      ],
      "metadata": {
        "colab": {
          "base_uri": "https://localhost:8080/",
          "height": 282
        },
        "id": "FLZf1VjNLrsH",
        "outputId": "f0f5642b-9135-4e92-970e-3c60ec49c90b"
      },
      "execution_count": null,
      "outputs": [
        {
          "output_type": "execute_result",
          "data": {
            "text/plain": [
              "<matplotlib.axes._subplots.AxesSubplot at 0x7fdb64651310>"
            ]
          },
          "metadata": {},
          "execution_count": 34
        },
        {
          "output_type": "display_data",
          "data": {
            "image/png": "[encoded data removed]",
            "text/plain": [
              "<Figure size 432x288 with 1 Axes>"
            ]
          },
          "metadata": {
            "needs_background": "light"
          }
        }
      ]
    },
    {
      "cell_type": "code",
      "source": [
        "#Visulaize the spread of FFB Yield vs Harvested \n",
        "plt.scatter( newdf['FFB_Yield'],newdf['HA_Harvested'], color='red')\n",
        "plt.title('HA_Harvested Vs FFB_Yield', fontsize=14)\n",
        "plt.ylabel('FFB_Yield', fontsize=14)\n",
        "plt.xlabel('HA_Harvested', fontsize=14)\n",
        "plt.grid(True)\n",
        "plt.show()"
      ],
      "metadata": {
        "colab": {
          "base_uri": "https://localhost:8080/",
          "height": 300
        },
        "id": "dcqgNZvsbkmy",
        "outputId": "5d8ebe36-56d8-45dc-87e0-1c3cc8ef03a7"
      },
      "execution_count": null,
      "outputs": [
        {
          "output_type": "display_data",
          "data": {
            "image/png": "[encoded data removed]",
            "text/plain": [
              "<Figure size 432x288 with 1 Axes>"
            ]
          },
          "metadata": {
            "needs_background": "light"
          }
        }
      ]
    },
    {
      "cell_type": "code",
      "source": [
        "plt.scatter( newdf['FFB_Yield'],newdf['Precipitation'], color='red')\n",
        "plt.title('Precipitation Vs FFB_Yield', fontsize=14)\n",
        "plt.ylabel('FFB_Yield', fontsize=14)\n",
        "plt.xlabel('Precipitation', fontsize=14)\n",
        "plt.grid(True)\n",
        "plt.show()"
      ],
      "metadata": {
        "colab": {
          "base_uri": "https://localhost:8080/",
          "height": 300
        },
        "id": "jzeUlTYScM5G",
        "outputId": "1b1c9d78-18e7-4025-d31a-239b2d4b3c2e"
      },
      "execution_count": null,
      "outputs": [
        {
          "output_type": "display_data",
          "data": {
            "image/png": "[encoded data removed]",
            "text/plain": [
              "<Figure size 432x288 with 1 Axes>"
            ]
          },
          "metadata": {
            "needs_background": "light"
          }
        }
      ]
    },
    {
      "cell_type": "code",
      "source": [
        "plt.figure(figsize=(8,4))\n",
        "sns.distplot(df['FFB_Yield'])"
      ],
      "metadata": {
        "colab": {
          "base_uri": "https://localhost:8080/",
          "height": 300
        },
        "id": "Hs5SMA7Jh6XT",
        "outputId": "6ff00908-facb-4c20-a0f1-c2084885509a"
      },
      "execution_count": null,
      "outputs": [
        {
          "output_type": "execute_result",
          "data": {
            "text/plain": [
              "<matplotlib.axes._subplots.AxesSubplot at 0x7fda631bd350>"
            ]
          },
          "metadata": {},
          "execution_count": 96
        },
        {
          "output_type": "display_data",
          "data": {
            "image/png": "[encoded data removed]",
            "text/plain": [
              "<Figure size 576x288 with 1 Axes>"
            ]
          },
          "metadata": {
            "needs_background": "light"
          }
        }
      ]
    },
    {
      "cell_type": "markdown",
      "source": [
        "**Feature Scaling**"
      ],
      "metadata": {
        "id": "jdXVXDe7lEdf"
      }
    },
    {
      "cell_type": "code",
      "source": [
        "#Feature Scaling\n",
        "from sklearn.preprocessing import StandardScaler\n",
        "sc_df = StandardScaler()\n",
        "df_std = sc_df.fit_transform(newdf)"
      ],
      "metadata": {
        "id": "IdW_pQb0KxeG"
      },
      "execution_count": null,
      "outputs": []
    },
    {
      "cell_type": "code",
      "source": [
        "newdf_std1=pd.DataFrame(df_std)\n",
        "newdf_std1.boxplot()"
      ],
      "metadata": {
        "colab": {
          "base_uri": "https://localhost:8080/",
          "height": 282
        },
        "id": "SoN04BEBbLXF",
        "outputId": "b14f73e6-68c6-4497-cf21-b81dfba91bb0"
      },
      "execution_count": null,
      "outputs": [
        {
          "output_type": "execute_result",
          "data": {
            "text/plain": [
              "<matplotlib.axes._subplots.AxesSubplot at 0x7fdb6409f390>"
            ]
          },
          "metadata": {},
          "execution_count": 41
        },
        {
          "output_type": "display_data",
          "data": {
            "image/png": "[encoded data removed]",
            "text/plain": [
              "<Figure size 432x288 with 1 Axes>"
            ]
          },
          "metadata": {
            "needs_background": "light"
          }
        }
      ]
    },
    {
      "cell_type": "code",
      "source": [
        "newdf_std1.shape"
      ],
      "metadata": {
        "colab": {
          "base_uri": "https://localhost:8080/"
        },
        "id": "j75LbsJaeDPY",
        "outputId": "aea43355-060a-4a51-91ab-37c4d28cbb3d"
      },
      "execution_count": null,
      "outputs": [
        {
          "output_type": "execute_result",
          "data": {
            "text/plain": [
              "(130, 8)"
            ]
          },
          "metadata": {},
          "execution_count": 73
        }
      ]
    },
    {
      "cell_type": "markdown",
      "source": [
        "**Handle Outliers**"
      ],
      "metadata": {
        "id": "8yxnH5O9lTy2"
      }
    },
    {
      "cell_type": "code",
      "source": [
        "import scipy.stats as stats\n",
        "zscores = stats.zscore(newdf_std1)\n",
        "zscores"
      ],
      "metadata": {
        "id": "krvJFhc7cjsI"
      },
      "execution_count": null,
      "outputs": []
    },
    {
      "cell_type": "code",
      "source": [
        "import numpy as np\n",
        "abs_z_scores = np.abs(zscores)\n",
        "abs_z_scores"
      ],
      "metadata": {
        "id": "7h8Ck1TWco8G"
      },
      "execution_count": null,
      "outputs": []
    },
    {
      "cell_type": "code",
      "source": [
        "filtered_entries = (abs_z_scores < 3).all(axis=1)\n",
        "new_df2 = newdf_std1[filtered_entries]"
      ],
      "metadata": {
        "id": "pxBV7d8Pctoo"
      },
      "execution_count": null,
      "outputs": []
    },
    {
      "cell_type": "code",
      "source": [
        "new_df2.shape"
      ],
      "metadata": {
        "colab": {
          "base_uri": "https://localhost:8080/"
        },
        "id": "bSJQ5Dugctei",
        "outputId": "b2f00b34-f1fb-4ef0-c0c9-c42b9e4b21c1"
      },
      "execution_count": null,
      "outputs": [
        {
          "output_type": "execute_result",
          "data": {
            "text/plain": [
              "(122, 8)"
            ]
          },
          "metadata": {},
          "execution_count": 63
        }
      ]
    },
    {
      "cell_type": "code",
      "source": [
        "new_df2.boxplot()"
      ],
      "metadata": {
        "colab": {
          "base_uri": "https://localhost:8080/",
          "height": 282
        },
        "id": "lzNl4cjtc1xv",
        "outputId": "3311e0c2-cbee-4de4-c4b3-7e5a03e6e7d3"
      },
      "execution_count": null,
      "outputs": [
        {
          "output_type": "execute_result",
          "data": {
            "text/plain": [
              "<matplotlib.axes._subplots.AxesSubplot at 0x7fdb62f67850>"
            ]
          },
          "metadata": {},
          "execution_count": 64
        },
        {
          "output_type": "display_data",
          "data": {
            "image/png": "[encoded data removed]",
            "text/plain": [
              "<Figure size 432x288 with 1 Axes>"
            ]
          },
          "metadata": {
            "needs_background": "light"
          }
        }
      ]
    },
    {
      "cell_type": "code",
      "source": [
        "a= new_df2.drop([7],axis=1)\n"
      ],
      "metadata": {
        "id": "oncUa8vLKw2n"
      },
      "execution_count": null,
      "outputs": []
    },
    {
      "cell_type": "code",
      "source": [
        "b=new_df2[7]"
      ],
      "metadata": {
        "id": "OtfpGe4Cdtjo"
      },
      "execution_count": null,
      "outputs": []
    },
    {
      "cell_type": "code",
      "source": [
        "a= newdf_std1.drop([7],axis=1)\n",
        "b=newdf_std1[7]"
      ],
      "metadata": {
        "id": "S-OzQBQZeOSZ"
      },
      "execution_count": null,
      "outputs": []
    },
    {
      "cell_type": "code",
      "source": [
        "# importing train_test_split from sklearn\n",
        "from sklearn.model_selection import train_test_split\n",
        "# splitting the data\n",
        "x_train, x_test, y_train, y_test = train_test_split(a, b, test_size = 0.2, random_state = 100)"
      ],
      "metadata": {
        "id": "0bzwZV3iGOUl"
      },
      "execution_count": null,
      "outputs": []
    },
    {
      "cell_type": "code",
      "source": [
        "# importing module\n",
        "from sklearn.linear_model import LinearRegression\n",
        "# creating an object of LinearRegression class\n",
        "LR = LinearRegression()\n",
        "# fitting the training data\n",
        "LR.fit(x_train,y_train)"
      ],
      "metadata": {
        "colab": {
          "base_uri": "https://localhost:8080/"
        },
        "id": "n6POEMwBJYNA",
        "outputId": "1d335e74-343e-4560-fb82-4c84630d893f"
      },
      "execution_count": null,
      "outputs": [
        {
          "output_type": "execute_result",
          "data": {
            "text/plain": [
              "LinearRegression()"
            ]
          },
          "metadata": {},
          "execution_count": 76
        }
      ]
    },
    {
      "cell_type": "code",
      "source": [
        "y_prediction =  LR.predict(x_test)\n",
        "y_prediction"
      ],
      "metadata": {
        "colab": {
          "base_uri": "https://localhost:8080/"
        },
        "id": "nH9DHtxBJi7M",
        "outputId": "c4814524-60a8-4bb6-afaf-2bcd27978234"
      },
      "execution_count": null,
      "outputs": [
        {
          "output_type": "execute_result",
          "data": {
            "text/plain": [
              "array([-0.10338514,  0.57831156,  0.35270166, -0.30397543,  0.08152761,\n",
              "        0.10110614, -0.49318977, -0.63500355, -0.8370689 , -0.39898473,\n",
              "       -1.361935  , -0.40082693, -0.09875667,  0.21600415,  0.32022364,\n",
              "        0.97103102, -0.30801675, -0.18391084,  0.12713953,  0.40111215,\n",
              "        0.42988652,  0.32937413, -0.80287446, -0.07866697, -0.13572101,\n",
              "        0.37129007])"
            ]
          },
          "metadata": {},
          "execution_count": 77
        }
      ]
    },
    {
      "cell_type": "code",
      "source": [
        "# importing r2_score module\n",
        "from sklearn.metrics import r2_score\n",
        "from sklearn.metrics import mean_squared_error\n",
        "# predicting the accuracy score\n",
        "score=r2_score(y_test,y_prediction)\n",
        "print(\"r2 socre is\",score)\n",
        "print(\"mean_sqrd_error is==\",mean_squared_error(y_test,y_prediction))\n",
        "print(\"root_mean_squared error of is==\",np.sqrt(mean_squared_error(y_test,y_prediction)))"
      ],
      "metadata": {
        "colab": {
          "base_uri": "https://localhost:8080/"
        },
        "id": "KVCafOY7JrZm",
        "outputId": "149add0b-c397-4969-f6c4-0d6d900c08ee"
      },
      "execution_count": null,
      "outputs": [
        {
          "output_type": "stream",
          "name": "stdout",
          "text": [
            "r2 socre is 0.35389553161651155\n",
            "mean_sqrd_error is== 0.802464878288747\n",
            "root_mean_squared error of is== 0.8958040401163343\n"
          ]
        }
      ]
    },
    {
      "cell_type": "markdown",
      "source": [
        "# **Using Deep Learning Neural Network **"
      ],
      "metadata": {
        "id": "XWcGPImcf9ET"
      }
    },
    {
      "cell_type": "code",
      "source": [
        "X = df.drop(['Date','month','year'],axis=1) \n",
        "y = df['FFB_Yield']\n",
        "from sklearn.model_selection import train_test_split\n",
        "X_train, X_test, y_train, y_test = train_test_split(X,y,test_size=0.3,random_state=42)\n",
        "#Scaling\n",
        "from sklearn.preprocessing import MinMaxScaler\n",
        "scaler = MinMaxScaler()\n",
        "X_train= scaler.fit_transform(X_train)\n",
        "X_test = scaler.transform(X_test)"
      ],
      "metadata": {
        "id": "l4ZkC0F-iM6V"
      },
      "execution_count": null,
      "outputs": []
    },
    {
      "cell_type": "code",
      "source": [
        "#Creating a Model\n",
        "from tensorflow.keras.models import Sequential\n",
        "from tensorflow.keras.layers import Dense\n",
        "from tensorflow.keras.optimizers import Adam\n",
        "from tensorflow.keras.layers import Dropout\n",
        "model = Sequential()\n",
        "\n",
        "model.add(Dense(8,activation='relu'))\n",
        "#model.add(Dropout(0.5))\n",
        "\n",
        "model.add(Dense(3,activation='relu'))\n",
        "#model.add(Dropout(0.5))\n",
        "\n",
        "model.add(Dense(1))\n",
        "\n",
        "model.compile(optimizer='adam', loss='mse')"
      ],
      "metadata": {
        "id": "1mi7uXbVipnK"
      },
      "execution_count": null,
      "outputs": []
    },
    {
      "cell_type": "code",
      "source": [
        "#Training the Model\n",
        "from tensorflow.keras.callbacks import EarlyStopping\n",
        "early_stop = EarlyStopping(monitor='val_loss', mode='min', verbose=1, patience=10)\n",
        "model.fit(x=X_train,y=y_train.values,\n",
        "          validation_data=(X_test,y_test.values),\n",
        "          batch_size=128,epochs=400, callbacks=[early_stop])"
      ],
      "metadata": {
        "colab": {
          "base_uri": "https://localhost:8080/"
        },
        "id": "E2mYqPvcixZ4",
        "outputId": "bf109dc1-4ad9-494e-f916-52f6952da1f7"
      },
      "execution_count": null,
      "outputs": [
        {
          "output_type": "stream",
          "name": "stdout",
          "text": [
            "Epoch 1/400\n",
            "1/1 [==============================] - 1s 1s/step - loss: 1.0945 - val_loss: 1.1022\n",
            "Epoch 2/400\n",
            "1/1 [==============================] - 0s 33ms/step - loss: 1.0551 - val_loss: 1.0623\n",
            "Epoch 3/400\n",
            "1/1 [==============================] - 0s 33ms/step - loss: 1.0163 - val_loss: 1.0230\n",
            "Epoch 4/400\n",
            "1/1 [==============================] - 0s 29ms/step - loss: 0.9782 - val_loss: 0.9843\n",
            "Epoch 5/400\n",
            "1/1 [==============================] - 0s 47ms/step - loss: 0.9408 - val_loss: 0.9464\n",
            "Epoch 6/400\n",
            "1/1 [==============================] - 0s 48ms/step - loss: 0.9039 - val_loss: 0.9088\n",
            "Epoch 7/400\n",
            "1/1 [==============================] - 0s 43ms/step - loss: 0.8676 - val_loss: 0.8720\n",
            "Epoch 8/400\n",
            "1/1 [==============================] - 0s 30ms/step - loss: 0.8320 - val_loss: 0.8359\n",
            "Epoch 9/400\n",
            "1/1 [==============================] - 0s 30ms/step - loss: 0.7971 - val_loss: 0.8007\n",
            "Epoch 10/400\n",
            "1/1 [==============================] - 0s 32ms/step - loss: 0.7628 - val_loss: 0.7662\n",
            "Epoch 11/400\n",
            "1/1 [==============================] - 0s 32ms/step - loss: 0.7293 - val_loss: 0.7326\n",
            "Epoch 12/400\n",
            "1/1 [==============================] - 0s 31ms/step - loss: 0.6966 - val_loss: 0.6999\n",
            "Epoch 13/400\n",
            "1/1 [==============================] - 0s 30ms/step - loss: 0.6646 - val_loss: 0.6679\n",
            "Epoch 14/400\n",
            "1/1 [==============================] - 0s 31ms/step - loss: 0.6336 - val_loss: 0.6367\n",
            "Epoch 15/400\n",
            "1/1 [==============================] - 0s 33ms/step - loss: 0.6032 - val_loss: 0.6063\n",
            "Epoch 16/400\n",
            "1/1 [==============================] - 0s 34ms/step - loss: 0.5738 - val_loss: 0.5767\n",
            "Epoch 17/400\n",
            "1/1 [==============================] - 0s 50ms/step - loss: 0.5450 - val_loss: 0.5479\n",
            "Epoch 18/400\n",
            "1/1 [==============================] - 0s 35ms/step - loss: 0.5172 - val_loss: 0.5200\n",
            "Epoch 19/400\n",
            "1/1 [==============================] - 0s 36ms/step - loss: 0.4902 - val_loss: 0.4931\n",
            "Epoch 20/400\n",
            "1/1 [==============================] - 0s 33ms/step - loss: 0.4641 - val_loss: 0.4671\n",
            "Epoch 21/400\n",
            "1/1 [==============================] - 0s 36ms/step - loss: 0.4390 - val_loss: 0.4421\n",
            "Epoch 22/400\n",
            "1/1 [==============================] - 0s 35ms/step - loss: 0.4149 - val_loss: 0.4180\n",
            "Epoch 23/400\n",
            "1/1 [==============================] - 0s 34ms/step - loss: 0.3917 - val_loss: 0.3947\n",
            "Epoch 24/400\n",
            "1/1 [==============================] - 0s 38ms/step - loss: 0.3693 - val_loss: 0.3721\n",
            "Epoch 25/400\n",
            "1/1 [==============================] - 0s 34ms/step - loss: 0.3479 - val_loss: 0.3504\n",
            "Epoch 26/400\n",
            "1/1 [==============================] - 0s 46ms/step - loss: 0.3274 - val_loss: 0.3296\n",
            "Epoch 27/400\n",
            "1/1 [==============================] - 0s 38ms/step - loss: 0.3077 - val_loss: 0.3098\n",
            "Epoch 28/400\n",
            "1/1 [==============================] - 0s 36ms/step - loss: 0.2890 - val_loss: 0.2909\n",
            "Epoch 29/400\n",
            "1/1 [==============================] - 0s 36ms/step - loss: 0.2712 - val_loss: 0.2730\n",
            "Epoch 30/400\n",
            "1/1 [==============================] - 0s 34ms/step - loss: 0.2542 - val_loss: 0.2559\n",
            "Epoch 31/400\n",
            "1/1 [==============================] - 0s 41ms/step - loss: 0.2381 - val_loss: 0.2398\n",
            "Epoch 32/400\n",
            "1/1 [==============================] - 0s 32ms/step - loss: 0.2229 - val_loss: 0.2247\n",
            "Epoch 33/400\n",
            "1/1 [==============================] - 0s 32ms/step - loss: 0.2088 - val_loss: 0.2105\n",
            "Epoch 34/400\n",
            "1/1 [==============================] - 0s 33ms/step - loss: 0.1955 - val_loss: 0.1971\n",
            "Epoch 35/400\n",
            "1/1 [==============================] - 0s 34ms/step - loss: 0.1832 - val_loss: 0.1845\n",
            "Epoch 36/400\n",
            "1/1 [==============================] - 0s 38ms/step - loss: 0.1717 - val_loss: 0.1727\n",
            "Epoch 37/400\n",
            "1/1 [==============================] - 0s 35ms/step - loss: 0.1610 - val_loss: 0.1617\n",
            "Epoch 38/400\n",
            "1/1 [==============================] - 0s 33ms/step - loss: 0.1512 - val_loss: 0.1515\n",
            "Epoch 39/400\n",
            "1/1 [==============================] - 0s 32ms/step - loss: 0.1421 - val_loss: 0.1421\n",
            "Epoch 40/400\n",
            "1/1 [==============================] - 0s 36ms/step - loss: 0.1339 - val_loss: 0.1336\n",
            "Epoch 41/400\n",
            "1/1 [==============================] - 0s 38ms/step - loss: 0.1265 - val_loss: 0.1258\n",
            "Epoch 42/400\n",
            "1/1 [==============================] - 0s 35ms/step - loss: 0.1198 - val_loss: 0.1186\n",
            "Epoch 43/400\n",
            "1/1 [==============================] - 0s 43ms/step - loss: 0.1138 - val_loss: 0.1122\n",
            "Epoch 44/400\n",
            "1/1 [==============================] - 0s 37ms/step - loss: 0.1084 - val_loss: 0.1064\n",
            "Epoch 45/400\n",
            "1/1 [==============================] - 0s 36ms/step - loss: 0.1037 - val_loss: 0.1013\n",
            "Epoch 46/400\n",
            "1/1 [==============================] - 0s 31ms/step - loss: 0.0996 - val_loss: 0.0967\n",
            "Epoch 47/400\n",
            "1/1 [==============================] - 0s 38ms/step - loss: 0.0960 - val_loss: 0.0926\n",
            "Epoch 48/400\n",
            "1/1 [==============================] - 0s 36ms/step - loss: 0.0928 - val_loss: 0.0891\n",
            "Epoch 49/400\n",
            "1/1 [==============================] - 0s 37ms/step - loss: 0.0901 - val_loss: 0.0860\n",
            "Epoch 50/400\n",
            "1/1 [==============================] - 0s 36ms/step - loss: 0.0878 - val_loss: 0.0833\n",
            "Epoch 51/400\n",
            "1/1 [==============================] - 0s 33ms/step - loss: 0.0858 - val_loss: 0.0810\n",
            "Epoch 52/400\n",
            "1/1 [==============================] - 0s 32ms/step - loss: 0.0842 - val_loss: 0.0790\n",
            "Epoch 53/400\n",
            "1/1 [==============================] - 0s 33ms/step - loss: 0.0829 - val_loss: 0.0773\n",
            "Epoch 54/400\n",
            "1/1 [==============================] - 0s 35ms/step - loss: 0.0818 - val_loss: 0.0759\n",
            "Epoch 55/400\n",
            "1/1 [==============================] - 0s 43ms/step - loss: 0.0809 - val_loss: 0.0747\n",
            "Epoch 56/400\n",
            "1/1 [==============================] - 0s 30ms/step - loss: 0.0802 - val_loss: 0.0737\n",
            "Epoch 57/400\n",
            "1/1 [==============================] - 0s 33ms/step - loss: 0.0797 - val_loss: 0.0728\n",
            "Epoch 58/400\n",
            "1/1 [==============================] - 0s 34ms/step - loss: 0.0792 - val_loss: 0.0720\n",
            "Epoch 59/400\n",
            "1/1 [==============================] - 0s 33ms/step - loss: 0.0789 - val_loss: 0.0714\n",
            "Epoch 60/400\n",
            "1/1 [==============================] - 0s 30ms/step - loss: 0.0786 - val_loss: 0.0708\n",
            "Epoch 61/400\n",
            "1/1 [==============================] - 0s 36ms/step - loss: 0.0784 - val_loss: 0.0703\n",
            "Epoch 62/400\n",
            "1/1 [==============================] - 0s 31ms/step - loss: 0.0782 - val_loss: 0.0698\n",
            "Epoch 63/400\n",
            "1/1 [==============================] - 0s 34ms/step - loss: 0.0780 - val_loss: 0.0694\n",
            "Epoch 64/400\n",
            "1/1 [==============================] - 0s 42ms/step - loss: 0.0778 - val_loss: 0.0691\n",
            "Epoch 65/400\n",
            "1/1 [==============================] - 0s 40ms/step - loss: 0.0776 - val_loss: 0.0687\n",
            "Epoch 66/400\n",
            "1/1 [==============================] - 0s 29ms/step - loss: 0.0774 - val_loss: 0.0684\n",
            "Epoch 67/400\n",
            "1/1 [==============================] - 0s 32ms/step - loss: 0.0771 - val_loss: 0.0680\n",
            "Epoch 68/400\n",
            "1/1 [==============================] - 0s 33ms/step - loss: 0.0768 - val_loss: 0.0677\n",
            "Epoch 69/400\n",
            "1/1 [==============================] - 0s 43ms/step - loss: 0.0765 - val_loss: 0.0674\n",
            "Epoch 70/400\n",
            "1/1 [==============================] - 0s 32ms/step - loss: 0.0761 - val_loss: 0.0670\n",
            "Epoch 71/400\n",
            "1/1 [==============================] - 0s 32ms/step - loss: 0.0757 - val_loss: 0.0667\n",
            "Epoch 72/400\n",
            "1/1 [==============================] - 0s 32ms/step - loss: 0.0753 - val_loss: 0.0663\n",
            "Epoch 73/400\n",
            "1/1 [==============================] - 0s 33ms/step - loss: 0.0748 - val_loss: 0.0660\n",
            "Epoch 74/400\n",
            "1/1 [==============================] - 0s 33ms/step - loss: 0.0743 - val_loss: 0.0656\n",
            "Epoch 75/400\n",
            "1/1 [==============================] - 0s 39ms/step - loss: 0.0738 - val_loss: 0.0653\n",
            "Epoch 76/400\n",
            "1/1 [==============================] - 0s 34ms/step - loss: 0.0733 - val_loss: 0.0649\n",
            "Epoch 77/400\n",
            "1/1 [==============================] - 0s 44ms/step - loss: 0.0728 - val_loss: 0.0646\n",
            "Epoch 78/400\n",
            "1/1 [==============================] - 0s 36ms/step - loss: 0.0723 - val_loss: 0.0643\n",
            "Epoch 79/400\n",
            "1/1 [==============================] - 0s 38ms/step - loss: 0.0717 - val_loss: 0.0639\n",
            "Epoch 80/400\n",
            "1/1 [==============================] - 0s 32ms/step - loss: 0.0712 - val_loss: 0.0636\n",
            "Epoch 81/400\n",
            "1/1 [==============================] - 0s 34ms/step - loss: 0.0707 - val_loss: 0.0633\n",
            "Epoch 82/400\n",
            "1/1 [==============================] - 0s 38ms/step - loss: 0.0702 - val_loss: 0.0630\n",
            "Epoch 83/400\n",
            "1/1 [==============================] - 0s 34ms/step - loss: 0.0696 - val_loss: 0.0627\n",
            "Epoch 84/400\n",
            "1/1 [==============================] - 0s 35ms/step - loss: 0.0691 - val_loss: 0.0624\n",
            "Epoch 85/400\n",
            "1/1 [==============================] - 0s 36ms/step - loss: 0.0686 - val_loss: 0.0621\n",
            "Epoch 86/400\n",
            "1/1 [==============================] - 0s 33ms/step - loss: 0.0682 - val_loss: 0.0619\n",
            "Epoch 87/400\n",
            "1/1 [==============================] - 0s 40ms/step - loss: 0.0677 - val_loss: 0.0616\n",
            "Epoch 88/400\n",
            "1/1 [==============================] - 0s 37ms/step - loss: 0.0672 - val_loss: 0.0613\n",
            "Epoch 89/400\n",
            "1/1 [==============================] - 0s 35ms/step - loss: 0.0667 - val_loss: 0.0611\n",
            "Epoch 90/400\n",
            "1/1 [==============================] - 0s 36ms/step - loss: 0.0663 - val_loss: 0.0608\n",
            "Epoch 91/400\n",
            "1/1 [==============================] - 0s 35ms/step - loss: 0.0658 - val_loss: 0.0606\n",
            "Epoch 92/400\n",
            "1/1 [==============================] - 0s 42ms/step - loss: 0.0654 - val_loss: 0.0603\n",
            "Epoch 93/400\n",
            "1/1 [==============================] - 0s 31ms/step - loss: 0.0650 - val_loss: 0.0601\n",
            "Epoch 94/400\n",
            "1/1 [==============================] - 0s 36ms/step - loss: 0.0645 - val_loss: 0.0598\n",
            "Epoch 95/400\n",
            "1/1 [==============================] - 0s 36ms/step - loss: 0.0641 - val_loss: 0.0595\n",
            "Epoch 96/400\n",
            "1/1 [==============================] - 0s 31ms/step - loss: 0.0637 - val_loss: 0.0593\n",
            "Epoch 97/400\n",
            "1/1 [==============================] - 0s 38ms/step - loss: 0.0633 - val_loss: 0.0590\n",
            "Epoch 98/400\n",
            "1/1 [==============================] - 0s 32ms/step - loss: 0.0629 - val_loss: 0.0587\n",
            "Epoch 99/400\n",
            "1/1 [==============================] - 0s 32ms/step - loss: 0.0625 - val_loss: 0.0584\n",
            "Epoch 100/400\n",
            "1/1 [==============================] - 0s 36ms/step - loss: 0.0621 - val_loss: 0.0581\n",
            "Epoch 101/400\n",
            "1/1 [==============================] - 0s 40ms/step - loss: 0.0617 - val_loss: 0.0578\n",
            "Epoch 102/400\n",
            "1/1 [==============================] - 0s 41ms/step - loss: 0.0613 - val_loss: 0.0575\n",
            "Epoch 103/400\n",
            "1/1 [==============================] - 0s 31ms/step - loss: 0.0609 - val_loss: 0.0572\n",
            "Epoch 104/400\n",
            "1/1 [==============================] - 0s 32ms/step - loss: 0.0605 - val_loss: 0.0569\n",
            "Epoch 105/400\n",
            "1/1 [==============================] - 0s 30ms/step - loss: 0.0601 - val_loss: 0.0566\n",
            "Epoch 106/400\n",
            "1/1 [==============================] - 0s 40ms/step - loss: 0.0597 - val_loss: 0.0563\n",
            "Epoch 107/400\n",
            "1/1 [==============================] - 0s 32ms/step - loss: 0.0593 - val_loss: 0.0559\n",
            "Epoch 108/400\n",
            "1/1 [==============================] - 0s 41ms/step - loss: 0.0589 - val_loss: 0.0556\n",
            "Epoch 109/400\n",
            "1/1 [==============================] - 0s 40ms/step - loss: 0.0585 - val_loss: 0.0553\n",
            "Epoch 110/400\n",
            "1/1 [==============================] - 0s 33ms/step - loss: 0.0581 - val_loss: 0.0549\n",
            "Epoch 111/400\n",
            "1/1 [==============================] - 0s 34ms/step - loss: 0.0577 - val_loss: 0.0546\n",
            "Epoch 112/400\n",
            "1/1 [==============================] - 0s 34ms/step - loss: 0.0573 - val_loss: 0.0543\n",
            "Epoch 113/400\n",
            "1/1 [==============================] - 0s 35ms/step - loss: 0.0569 - val_loss: 0.0539\n",
            "Epoch 114/400\n",
            "1/1 [==============================] - 0s 35ms/step - loss: 0.0566 - val_loss: 0.0536\n",
            "Epoch 115/400\n",
            "1/1 [==============================] - 0s 37ms/step - loss: 0.0562 - val_loss: 0.0532\n",
            "Epoch 116/400\n",
            "1/1 [==============================] - 0s 34ms/step - loss: 0.0558 - val_loss: 0.0529\n",
            "Epoch 117/400\n",
            "1/1 [==============================] - 0s 34ms/step - loss: 0.0554 - val_loss: 0.0526\n",
            "Epoch 118/400\n",
            "1/1 [==============================] - 0s 37ms/step - loss: 0.0551 - val_loss: 0.0522\n",
            "Epoch 119/400\n",
            "1/1 [==============================] - 0s 37ms/step - loss: 0.0547 - val_loss: 0.0519\n",
            "Epoch 120/400\n",
            "1/1 [==============================] - 0s 36ms/step - loss: 0.0543 - val_loss: 0.0516\n",
            "Epoch 121/400\n",
            "1/1 [==============================] - 0s 40ms/step - loss: 0.0540 - val_loss: 0.0512\n",
            "Epoch 122/400\n",
            "1/1 [==============================] - 0s 38ms/step - loss: 0.0536 - val_loss: 0.0509\n",
            "Epoch 123/400\n",
            "1/1 [==============================] - 0s 41ms/step - loss: 0.0532 - val_loss: 0.0506\n",
            "Epoch 124/400\n",
            "1/1 [==============================] - 0s 36ms/step - loss: 0.0529 - val_loss: 0.0503\n",
            "Epoch 125/400\n",
            "1/1 [==============================] - 0s 35ms/step - loss: 0.0525 - val_loss: 0.0500\n",
            "Epoch 126/400\n",
            "1/1 [==============================] - 0s 34ms/step - loss: 0.0521 - val_loss: 0.0496\n",
            "Epoch 127/400\n",
            "1/1 [==============================] - 0s 30ms/step - loss: 0.0518 - val_loss: 0.0493\n",
            "Epoch 128/400\n",
            "1/1 [==============================] - 0s 40ms/step - loss: 0.0514 - val_loss: 0.0490\n",
            "Epoch 129/400\n",
            "1/1 [==============================] - 0s 36ms/step - loss: 0.0511 - val_loss: 0.0487\n",
            "Epoch 130/400\n",
            "1/1 [==============================] - 0s 35ms/step - loss: 0.0507 - val_loss: 0.0484\n",
            "Epoch 131/400\n",
            "1/1 [==============================] - 0s 35ms/step - loss: 0.0504 - val_loss: 0.0481\n",
            "Epoch 132/400\n",
            "1/1 [==============================] - 0s 33ms/step - loss: 0.0500 - val_loss: 0.0478\n",
            "Epoch 133/400\n",
            "1/1 [==============================] - 0s 34ms/step - loss: 0.0497 - val_loss: 0.0475\n",
            "Epoch 134/400\n",
            "1/1 [==============================] - 0s 39ms/step - loss: 0.0493 - val_loss: 0.0472\n",
            "Epoch 135/400\n",
            "1/1 [==============================] - 0s 35ms/step - loss: 0.0490 - val_loss: 0.0469\n",
            "Epoch 136/400\n",
            "1/1 [==============================] - 0s 36ms/step - loss: 0.0487 - val_loss: 0.0467\n",
            "Epoch 137/400\n",
            "1/1 [==============================] - 0s 36ms/step - loss: 0.0483 - val_loss: 0.0464\n",
            "Epoch 138/400\n",
            "1/1 [==============================] - 0s 37ms/step - loss: 0.0480 - val_loss: 0.0461\n",
            "Epoch 139/400\n",
            "1/1 [==============================] - 0s 33ms/step - loss: 0.0477 - val_loss: 0.0458\n",
            "Epoch 140/400\n",
            "1/1 [==============================] - 0s 32ms/step - loss: 0.0474 - val_loss: 0.0456\n",
            "Epoch 141/400\n",
            "1/1 [==============================] - 0s 32ms/step - loss: 0.0470 - val_loss: 0.0453\n",
            "Epoch 142/400\n",
            "1/1 [==============================] - 0s 34ms/step - loss: 0.0467 - val_loss: 0.0450\n",
            "Epoch 143/400\n",
            "1/1 [==============================] - 0s 35ms/step - loss: 0.0464 - val_loss: 0.0448\n",
            "Epoch 144/400\n",
            "1/1 [==============================] - 0s 37ms/step - loss: 0.0461 - val_loss: 0.0445\n",
            "Epoch 145/400\n",
            "1/1 [==============================] - 0s 32ms/step - loss: 0.0458 - val_loss: 0.0443\n",
            "Epoch 146/400\n",
            "1/1 [==============================] - 0s 31ms/step - loss: 0.0455 - val_loss: 0.0440\n",
            "Epoch 147/400\n",
            "1/1 [==============================] - 0s 36ms/step - loss: 0.0451 - val_loss: 0.0438\n",
            "Epoch 148/400\n",
            "1/1 [==============================] - 0s 45ms/step - loss: 0.0448 - val_loss: 0.0435\n",
            "Epoch 149/400\n",
            "1/1 [==============================] - 0s 31ms/step - loss: 0.0445 - val_loss: 0.0433\n",
            "Epoch 150/400\n",
            "1/1 [==============================] - 0s 35ms/step - loss: 0.0442 - val_loss: 0.0430\n",
            "Epoch 151/400\n",
            "1/1 [==============================] - 0s 37ms/step - loss: 0.0439 - val_loss: 0.0428\n",
            "Epoch 152/400\n",
            "1/1 [==============================] - 0s 33ms/step - loss: 0.0436 - val_loss: 0.0425\n",
            "Epoch 153/400\n",
            "1/1 [==============================] - 0s 43ms/step - loss: 0.0433 - val_loss: 0.0423\n",
            "Epoch 154/400\n",
            "1/1 [==============================] - 0s 37ms/step - loss: 0.0430 - val_loss: 0.0421\n",
            "Epoch 155/400\n",
            "1/1 [==============================] - 0s 37ms/step - loss: 0.0428 - val_loss: 0.0418\n",
            "Epoch 156/400\n",
            "1/1 [==============================] - 0s 45ms/step - loss: 0.0425 - val_loss: 0.0416\n",
            "Epoch 157/400\n",
            "1/1 [==============================] - 0s 35ms/step - loss: 0.0422 - val_loss: 0.0414\n",
            "Epoch 158/400\n",
            "1/1 [==============================] - 0s 32ms/step - loss: 0.0419 - val_loss: 0.0411\n",
            "Epoch 159/400\n",
            "1/1 [==============================] - 0s 36ms/step - loss: 0.0416 - val_loss: 0.0409\n",
            "Epoch 160/400\n",
            "1/1 [==============================] - 0s 31ms/step - loss: 0.0413 - val_loss: 0.0407\n",
            "Epoch 161/400\n",
            "1/1 [==============================] - 0s 35ms/step - loss: 0.0411 - val_loss: 0.0404\n",
            "Epoch 162/400\n",
            "1/1 [==============================] - 0s 30ms/step - loss: 0.0408 - val_loss: 0.0402\n",
            "Epoch 163/400\n",
            "1/1 [==============================] - 0s 34ms/step - loss: 0.0405 - val_loss: 0.0400\n",
            "Epoch 164/400\n",
            "1/1 [==============================] - 0s 38ms/step - loss: 0.0402 - val_loss: 0.0398\n",
            "Epoch 165/400\n",
            "1/1 [==============================] - 0s 37ms/step - loss: 0.0400 - val_loss: 0.0395\n",
            "Epoch 166/400\n",
            "1/1 [==============================] - 0s 37ms/step - loss: 0.0397 - val_loss: 0.0393\n",
            "Epoch 167/400\n",
            "1/1 [==============================] - 0s 31ms/step - loss: 0.0394 - val_loss: 0.0391\n",
            "Epoch 168/400\n",
            "1/1 [==============================] - 0s 30ms/step - loss: 0.0392 - val_loss: 0.0389\n",
            "Epoch 169/400\n",
            "1/1 [==============================] - 0s 35ms/step - loss: 0.0389 - val_loss: 0.0387\n",
            "Epoch 170/400\n",
            "1/1 [==============================] - 0s 36ms/step - loss: 0.0387 - val_loss: 0.0385\n",
            "Epoch 171/400\n",
            "1/1 [==============================] - 0s 34ms/step - loss: 0.0384 - val_loss: 0.0382\n",
            "Epoch 172/400\n",
            "1/1 [==============================] - 0s 35ms/step - loss: 0.0382 - val_loss: 0.0380\n",
            "Epoch 173/400\n",
            "1/1 [==============================] - 0s 30ms/step - loss: 0.0379 - val_loss: 0.0378\n",
            "Epoch 174/400\n",
            "1/1 [==============================] - 0s 40ms/step - loss: 0.0377 - val_loss: 0.0376\n",
            "Epoch 175/400\n",
            "1/1 [==============================] - 0s 34ms/step - loss: 0.0374 - val_loss: 0.0374\n",
            "Epoch 176/400\n",
            "1/1 [==============================] - 0s 34ms/step - loss: 0.0372 - val_loss: 0.0372\n",
            "Epoch 177/400\n",
            "1/1 [==============================] - 0s 38ms/step - loss: 0.0369 - val_loss: 0.0370\n",
            "Epoch 178/400\n",
            "1/1 [==============================] - 0s 35ms/step - loss: 0.0367 - val_loss: 0.0368\n",
            "Epoch 179/400\n",
            "1/1 [==============================] - 0s 34ms/step - loss: 0.0364 - val_loss: 0.0366\n",
            "Epoch 180/400\n",
            "1/1 [==============================] - 0s 34ms/step - loss: 0.0362 - val_loss: 0.0364\n",
            "Epoch 181/400\n",
            "1/1 [==============================] - 0s 37ms/step - loss: 0.0360 - val_loss: 0.0362\n",
            "Epoch 182/400\n",
            "1/1 [==============================] - 0s 33ms/step - loss: 0.0357 - val_loss: 0.0360\n",
            "Epoch 183/400\n",
            "1/1 [==============================] - 0s 34ms/step - loss: 0.0355 - val_loss: 0.0358\n",
            "Epoch 184/400\n",
            "1/1 [==============================] - 0s 36ms/step - loss: 0.0353 - val_loss: 0.0356\n",
            "Epoch 185/400\n",
            "1/1 [==============================] - 0s 37ms/step - loss: 0.0351 - val_loss: 0.0354\n",
            "Epoch 186/400\n",
            "1/1 [==============================] - 0s 36ms/step - loss: 0.0348 - val_loss: 0.0352\n",
            "Epoch 187/400\n",
            "1/1 [==============================] - 0s 51ms/step - loss: 0.0346 - val_loss: 0.0350\n",
            "Epoch 188/400\n",
            "1/1 [==============================] - 0s 33ms/step - loss: 0.0344 - val_loss: 0.0348\n",
            "Epoch 189/400\n",
            "1/1 [==============================] - 0s 29ms/step - loss: 0.0342 - val_loss: 0.0346\n",
            "Epoch 190/400\n",
            "1/1 [==============================] - 0s 31ms/step - loss: 0.0340 - val_loss: 0.0345\n",
            "Epoch 191/400\n",
            "1/1 [==============================] - 0s 33ms/step - loss: 0.0337 - val_loss: 0.0343\n",
            "Epoch 192/400\n",
            "1/1 [==============================] - 0s 32ms/step - loss: 0.0335 - val_loss: 0.0341\n",
            "Epoch 193/400\n",
            "1/1 [==============================] - 0s 33ms/step - loss: 0.0333 - val_loss: 0.0339\n",
            "Epoch 194/400\n",
            "1/1 [==============================] - 0s 32ms/step - loss: 0.0331 - val_loss: 0.0337\n",
            "Epoch 195/400\n",
            "1/1 [==============================] - 0s 39ms/step - loss: 0.0329 - val_loss: 0.0335\n",
            "Epoch 196/400\n",
            "1/1 [==============================] - 0s 34ms/step - loss: 0.0327 - val_loss: 0.0334\n",
            "Epoch 197/400\n",
            "1/1 [==============================] - 0s 31ms/step - loss: 0.0325 - val_loss: 0.0332\n",
            "Epoch 198/400\n",
            "1/1 [==============================] - 0s 34ms/step - loss: 0.0323 - val_loss: 0.0330\n",
            "Epoch 199/400\n",
            "1/1 [==============================] - 0s 32ms/step - loss: 0.0321 - val_loss: 0.0329\n",
            "Epoch 200/400\n",
            "1/1 [==============================] - 0s 33ms/step - loss: 0.0319 - val_loss: 0.0327\n",
            "Epoch 201/400\n",
            "1/1 [==============================] - 0s 42ms/step - loss: 0.0317 - val_loss: 0.0325\n",
            "Epoch 202/400\n",
            "1/1 [==============================] - 0s 34ms/step - loss: 0.0315 - val_loss: 0.0324\n",
            "Epoch 203/400\n",
            "1/1 [==============================] - 0s 33ms/step - loss: 0.0313 - val_loss: 0.0322\n",
            "Epoch 204/400\n",
            "1/1 [==============================] - 0s 36ms/step - loss: 0.0311 - val_loss: 0.0320\n",
            "Epoch 205/400\n",
            "1/1 [==============================] - 0s 48ms/step - loss: 0.0309 - val_loss: 0.0319\n",
            "Epoch 206/400\n",
            "1/1 [==============================] - 0s 39ms/step - loss: 0.0307 - val_loss: 0.0317\n",
            "Epoch 207/400\n",
            "1/1 [==============================] - 0s 34ms/step - loss: 0.0305 - val_loss: 0.0315\n",
            "Epoch 208/400\n",
            "1/1 [==============================] - 0s 32ms/step - loss: 0.0303 - val_loss: 0.0314\n",
            "Epoch 209/400\n",
            "1/1 [==============================] - 0s 32ms/step - loss: 0.0301 - val_loss: 0.0312\n",
            "Epoch 210/400\n",
            "1/1 [==============================] - 0s 36ms/step - loss: 0.0300 - val_loss: 0.0311\n",
            "Epoch 211/400\n",
            "1/1 [==============================] - 0s 31ms/step - loss: 0.0298 - val_loss: 0.0309\n",
            "Epoch 212/400\n",
            "1/1 [==============================] - 0s 33ms/step - loss: 0.0296 - val_loss: 0.0308\n",
            "Epoch 213/400\n",
            "1/1 [==============================] - 0s 31ms/step - loss: 0.0294 - val_loss: 0.0306\n",
            "Epoch 214/400\n",
            "1/1 [==============================] - 0s 32ms/step - loss: 0.0292 - val_loss: 0.0305\n",
            "Epoch 215/400\n",
            "1/1 [==============================] - 0s 36ms/step - loss: 0.0290 - val_loss: 0.0303\n",
            "Epoch 216/400\n",
            "1/1 [==============================] - 0s 31ms/step - loss: 0.0289 - val_loss: 0.0302\n",
            "Epoch 217/400\n",
            "1/1 [==============================] - 0s 32ms/step - loss: 0.0287 - val_loss: 0.0300\n",
            "Epoch 218/400\n",
            "1/1 [==============================] - 0s 34ms/step - loss: 0.0285 - val_loss: 0.0299\n",
            "Epoch 219/400\n",
            "1/1 [==============================] - 0s 32ms/step - loss: 0.0284 - val_loss: 0.0297\n",
            "Epoch 220/400\n",
            "1/1 [==============================] - 0s 37ms/step - loss: 0.0282 - val_loss: 0.0296\n",
            "Epoch 221/400\n",
            "1/1 [==============================] - 0s 33ms/step - loss: 0.0280 - val_loss: 0.0295\n",
            "Epoch 222/400\n",
            "1/1 [==============================] - 0s 30ms/step - loss: 0.0278 - val_loss: 0.0293\n",
            "Epoch 223/400\n",
            "1/1 [==============================] - 0s 52ms/step - loss: 0.0277 - val_loss: 0.0292\n",
            "Epoch 224/400\n",
            "1/1 [==============================] - 0s 36ms/step - loss: 0.0275 - val_loss: 0.0290\n",
            "Epoch 225/400\n",
            "1/1 [==============================] - 0s 45ms/step - loss: 0.0274 - val_loss: 0.0289\n",
            "Epoch 226/400\n",
            "1/1 [==============================] - 0s 41ms/step - loss: 0.0272 - val_loss: 0.0288\n",
            "Epoch 227/400\n",
            "1/1 [==============================] - 0s 47ms/step - loss: 0.0270 - val_loss: 0.0286\n",
            "Epoch 228/400\n",
            "1/1 [==============================] - 0s 36ms/step - loss: 0.0269 - val_loss: 0.0285\n",
            "Epoch 229/400\n",
            "1/1 [==============================] - 0s 33ms/step - loss: 0.0267 - val_loss: 0.0284\n",
            "Epoch 230/400\n",
            "1/1 [==============================] - 0s 34ms/step - loss: 0.0266 - val_loss: 0.0282\n",
            "Epoch 231/400\n",
            "1/1 [==============================] - 0s 38ms/step - loss: 0.0264 - val_loss: 0.0281\n",
            "Epoch 232/400\n",
            "1/1 [==============================] - 0s 39ms/step - loss: 0.0262 - val_loss: 0.0280\n",
            "Epoch 233/400\n",
            "1/1 [==============================] - 0s 39ms/step - loss: 0.0261 - val_loss: 0.0279\n",
            "Epoch 234/400\n",
            "1/1 [==============================] - 0s 45ms/step - loss: 0.0259 - val_loss: 0.0277\n",
            "Epoch 235/400\n",
            "1/1 [==============================] - 0s 37ms/step - loss: 0.0258 - val_loss: 0.0276\n",
            "Epoch 236/400\n",
            "1/1 [==============================] - 0s 41ms/step - loss: 0.0256 - val_loss: 0.0275\n",
            "Epoch 237/400\n",
            "1/1 [==============================] - 0s 33ms/step - loss: 0.0255 - val_loss: 0.0274\n",
            "Epoch 238/400\n",
            "1/1 [==============================] - 0s 37ms/step - loss: 0.0254 - val_loss: 0.0272\n",
            "Epoch 239/400\n",
            "1/1 [==============================] - 0s 39ms/step - loss: 0.0252 - val_loss: 0.0271\n",
            "Epoch 240/400\n",
            "1/1 [==============================] - 0s 33ms/step - loss: 0.0251 - val_loss: 0.0270\n",
            "Epoch 241/400\n",
            "1/1 [==============================] - 0s 35ms/step - loss: 0.0249 - val_loss: 0.0269\n",
            "Epoch 242/400\n",
            "1/1 [==============================] - 0s 34ms/step - loss: 0.0248 - val_loss: 0.0267\n",
            "Epoch 243/400\n",
            "1/1 [==============================] - 0s 32ms/step - loss: 0.0246 - val_loss: 0.0266\n",
            "Epoch 244/400\n",
            "1/1 [==============================] - 0s 35ms/step - loss: 0.0245 - val_loss: 0.0265\n",
            "Epoch 245/400\n",
            "1/1 [==============================] - 0s 63ms/step - loss: 0.0244 - val_loss: 0.0264\n",
            "Epoch 246/400\n",
            "1/1 [==============================] - 0s 44ms/step - loss: 0.0242 - val_loss: 0.0263\n",
            "Epoch 247/400\n",
            "1/1 [==============================] - 0s 51ms/step - loss: 0.0241 - val_loss: 0.0262\n",
            "Epoch 248/400\n",
            "1/1 [==============================] - 0s 40ms/step - loss: 0.0240 - val_loss: 0.0261\n",
            "Epoch 249/400\n",
            "1/1 [==============================] - 0s 37ms/step - loss: 0.0238 - val_loss: 0.0259\n",
            "Epoch 250/400\n",
            "1/1 [==============================] - 0s 38ms/step - loss: 0.0237 - val_loss: 0.0258\n",
            "Epoch 251/400\n",
            "1/1 [==============================] - 0s 43ms/step - loss: 0.0236 - val_loss: 0.0257\n",
            "Epoch 252/400\n",
            "1/1 [==============================] - 0s 39ms/step - loss: 0.0234 - val_loss: 0.0256\n",
            "Epoch 253/400\n",
            "1/1 [==============================] - 0s 37ms/step - loss: 0.0233 - val_loss: 0.0255\n",
            "Epoch 254/400\n",
            "1/1 [==============================] - 0s 39ms/step - loss: 0.0232 - val_loss: 0.0254\n",
            "Epoch 255/400\n",
            "1/1 [==============================] - 0s 38ms/step - loss: 0.0231 - val_loss: 0.0253\n",
            "Epoch 256/400\n",
            "1/1 [==============================] - 0s 48ms/step - loss: 0.0229 - val_loss: 0.0252\n",
            "Epoch 257/400\n",
            "1/1 [==============================] - 0s 33ms/step - loss: 0.0228 - val_loss: 0.0251\n",
            "Epoch 258/400\n",
            "1/1 [==============================] - 0s 33ms/step - loss: 0.0227 - val_loss: 0.0250\n",
            "Epoch 259/400\n",
            "1/1 [==============================] - 0s 38ms/step - loss: 0.0226 - val_loss: 0.0249\n",
            "Epoch 260/400\n",
            "1/1 [==============================] - 0s 44ms/step - loss: 0.0224 - val_loss: 0.0248\n",
            "Epoch 261/400\n",
            "1/1 [==============================] - 0s 37ms/step - loss: 0.0223 - val_loss: 0.0247\n",
            "Epoch 262/400\n",
            "1/1 [==============================] - 0s 36ms/step - loss: 0.0222 - val_loss: 0.0246\n",
            "Epoch 263/400\n",
            "1/1 [==============================] - 0s 34ms/step - loss: 0.0221 - val_loss: 0.0245\n",
            "Epoch 264/400\n",
            "1/1 [==============================] - 0s 36ms/step - loss: 0.0220 - val_loss: 0.0244\n",
            "Epoch 265/400\n",
            "1/1 [==============================] - 0s 34ms/step - loss: 0.0219 - val_loss: 0.0243\n",
            "Epoch 266/400\n",
            "1/1 [==============================] - 0s 34ms/step - loss: 0.0217 - val_loss: 0.0242\n",
            "Epoch 267/400\n",
            "1/1 [==============================] - 0s 37ms/step - loss: 0.0216 - val_loss: 0.0241\n",
            "Epoch 268/400\n",
            "1/1 [==============================] - 0s 39ms/step - loss: 0.0215 - val_loss: 0.0240\n",
            "Epoch 269/400\n",
            "1/1 [==============================] - 0s 37ms/step - loss: 0.0214 - val_loss: 0.0239\n",
            "Epoch 270/400\n",
            "1/1 [==============================] - 0s 38ms/step - loss: 0.0213 - val_loss: 0.0238\n",
            "Epoch 271/400\n",
            "1/1 [==============================] - 0s 45ms/step - loss: 0.0212 - val_loss: 0.0237\n",
            "Epoch 272/400\n",
            "1/1 [==============================] - 0s 40ms/step - loss: 0.0211 - val_loss: 0.0236\n",
            "Epoch 273/400\n",
            "1/1 [==============================] - 0s 38ms/step - loss: 0.0210 - val_loss: 0.0235\n",
            "Epoch 274/400\n",
            "1/1 [==============================] - 0s 38ms/step - loss: 0.0209 - val_loss: 0.0234\n",
            "Epoch 275/400\n",
            "1/1 [==============================] - 0s 36ms/step - loss: 0.0208 - val_loss: 0.0233\n",
            "Epoch 276/400\n",
            "1/1 [==============================] - 0s 39ms/step - loss: 0.0207 - val_loss: 0.0233\n",
            "Epoch 277/400\n",
            "1/1 [==============================] - 0s 56ms/step - loss: 0.0205 - val_loss: 0.0232\n",
            "Epoch 278/400\n",
            "1/1 [==============================] - 0s 36ms/step - loss: 0.0204 - val_loss: 0.0231\n",
            "Epoch 279/400\n",
            "1/1 [==============================] - 0s 39ms/step - loss: 0.0203 - val_loss: 0.0230\n",
            "Epoch 280/400\n",
            "1/1 [==============================] - 0s 48ms/step - loss: 0.0202 - val_loss: 0.0229\n",
            "Epoch 281/400\n",
            "1/1 [==============================] - 0s 44ms/step - loss: 0.0201 - val_loss: 0.0228\n",
            "Epoch 282/400\n",
            "1/1 [==============================] - 0s 35ms/step - loss: 0.0200 - val_loss: 0.0227\n",
            "Epoch 283/400\n",
            "1/1 [==============================] - 0s 38ms/step - loss: 0.0199 - val_loss: 0.0227\n",
            "Epoch 284/400\n",
            "1/1 [==============================] - 0s 40ms/step - loss: 0.0198 - val_loss: 0.0226\n",
            "Epoch 285/400\n",
            "1/1 [==============================] - 0s 38ms/step - loss: 0.0198 - val_loss: 0.0225\n",
            "Epoch 286/400\n",
            "1/1 [==============================] - 0s 41ms/step - loss: 0.0197 - val_loss: 0.0224\n",
            "Epoch 287/400\n",
            "1/1 [==============================] - 0s 39ms/step - loss: 0.0196 - val_loss: 0.0223\n",
            "Epoch 288/400\n",
            "1/1 [==============================] - 0s 40ms/step - loss: 0.0195 - val_loss: 0.0222\n",
            "Epoch 289/400\n",
            "1/1 [==============================] - 0s 36ms/step - loss: 0.0194 - val_loss: 0.0222\n",
            "Epoch 290/400\n",
            "1/1 [==============================] - 0s 39ms/step - loss: 0.0193 - val_loss: 0.0221\n",
            "Epoch 291/400\n",
            "1/1 [==============================] - 0s 38ms/step - loss: 0.0192 - val_loss: 0.0220\n",
            "Epoch 292/400\n",
            "1/1 [==============================] - 0s 33ms/step - loss: 0.0191 - val_loss: 0.0219\n",
            "Epoch 293/400\n",
            "1/1 [==============================] - 0s 35ms/step - loss: 0.0190 - val_loss: 0.0218\n",
            "Epoch 294/400\n",
            "1/1 [==============================] - 0s 38ms/step - loss: 0.0189 - val_loss: 0.0218\n",
            "Epoch 295/400\n",
            "1/1 [==============================] - 0s 34ms/step - loss: 0.0188 - val_loss: 0.0217\n",
            "Epoch 296/400\n",
            "1/1 [==============================] - 0s 34ms/step - loss: 0.0187 - val_loss: 0.0216\n",
            "Epoch 297/400\n",
            "1/1 [==============================] - 0s 39ms/step - loss: 0.0187 - val_loss: 0.0215\n",
            "Epoch 298/400\n",
            "1/1 [==============================] - 0s 37ms/step - loss: 0.0186 - val_loss: 0.0215\n",
            "Epoch 299/400\n",
            "1/1 [==============================] - 0s 33ms/step - loss: 0.0185 - val_loss: 0.0214\n",
            "Epoch 300/400\n",
            "1/1 [==============================] - 0s 47ms/step - loss: 0.0184 - val_loss: 0.0213\n",
            "Epoch 301/400\n",
            "1/1 [==============================] - 0s 39ms/step - loss: 0.0183 - val_loss: 0.0212\n",
            "Epoch 302/400\n",
            "1/1 [==============================] - 0s 38ms/step - loss: 0.0182 - val_loss: 0.0212\n",
            "Epoch 303/400\n",
            "1/1 [==============================] - 0s 40ms/step - loss: 0.0181 - val_loss: 0.0211\n",
            "Epoch 304/400\n",
            "1/1 [==============================] - 0s 36ms/step - loss: 0.0181 - val_loss: 0.0210\n",
            "Epoch 305/400\n",
            "1/1 [==============================] - 0s 34ms/step - loss: 0.0180 - val_loss: 0.0210\n",
            "Epoch 306/400\n",
            "1/1 [==============================] - 0s 35ms/step - loss: 0.0179 - val_loss: 0.0209\n",
            "Epoch 307/400\n",
            "1/1 [==============================] - 0s 33ms/step - loss: 0.0178 - val_loss: 0.0208\n",
            "Epoch 308/400\n",
            "1/1 [==============================] - 0s 43ms/step - loss: 0.0177 - val_loss: 0.0207\n",
            "Epoch 309/400\n",
            "1/1 [==============================] - 0s 42ms/step - loss: 0.0177 - val_loss: 0.0207\n",
            "Epoch 310/400\n",
            "1/1 [==============================] - 0s 40ms/step - loss: 0.0176 - val_loss: 0.0206\n",
            "Epoch 311/400\n",
            "1/1 [==============================] - 0s 35ms/step - loss: 0.0175 - val_loss: 0.0205\n",
            "Epoch 312/400\n",
            "1/1 [==============================] - 0s 42ms/step - loss: 0.0174 - val_loss: 0.0205\n",
            "Epoch 313/400\n",
            "1/1 [==============================] - 0s 35ms/step - loss: 0.0174 - val_loss: 0.0204\n",
            "Epoch 314/400\n",
            "1/1 [==============================] - 0s 34ms/step - loss: 0.0173 - val_loss: 0.0203\n",
            "Epoch 315/400\n",
            "1/1 [==============================] - 0s 39ms/step - loss: 0.0172 - val_loss: 0.0202\n",
            "Epoch 316/400\n",
            "1/1 [==============================] - 0s 36ms/step - loss: 0.0171 - val_loss: 0.0202\n",
            "Epoch 317/400\n",
            "1/1 [==============================] - 0s 48ms/step - loss: 0.0171 - val_loss: 0.0201\n",
            "Epoch 318/400\n",
            "1/1 [==============================] - 0s 40ms/step - loss: 0.0170 - val_loss: 0.0200\n",
            "Epoch 319/400\n",
            "1/1 [==============================] - 0s 43ms/step - loss: 0.0169 - val_loss: 0.0200\n",
            "Epoch 320/400\n",
            "1/1 [==============================] - 0s 37ms/step - loss: 0.0169 - val_loss: 0.0199\n",
            "Epoch 321/400\n",
            "1/1 [==============================] - 0s 39ms/step - loss: 0.0168 - val_loss: 0.0198\n",
            "Epoch 322/400\n",
            "1/1 [==============================] - 0s 54ms/step - loss: 0.0167 - val_loss: 0.0198\n",
            "Epoch 323/400\n",
            "1/1 [==============================] - 0s 39ms/step - loss: 0.0167 - val_loss: 0.0197\n",
            "Epoch 324/400\n",
            "1/1 [==============================] - 0s 55ms/step - loss: 0.0166 - val_loss: 0.0196\n",
            "Epoch 325/400\n",
            "1/1 [==============================] - 0s 39ms/step - loss: 0.0165 - val_loss: 0.0196\n",
            "Epoch 326/400\n",
            "1/1 [==============================] - 0s 49ms/step - loss: 0.0165 - val_loss: 0.0195\n",
            "Epoch 327/400\n",
            "1/1 [==============================] - 0s 39ms/step - loss: 0.0164 - val_loss: 0.0194\n",
            "Epoch 328/400\n",
            "1/1 [==============================] - 0s 37ms/step - loss: 0.0163 - val_loss: 0.0194\n",
            "Epoch 329/400\n",
            "1/1 [==============================] - 0s 41ms/step - loss: 0.0163 - val_loss: 0.0193\n",
            "Epoch 330/400\n",
            "1/1 [==============================] - 0s 38ms/step - loss: 0.0162 - val_loss: 0.0193\n",
            "Epoch 331/400\n",
            "1/1 [==============================] - 0s 40ms/step - loss: 0.0161 - val_loss: 0.0192\n",
            "Epoch 332/400\n",
            "1/1 [==============================] - 0s 37ms/step - loss: 0.0161 - val_loss: 0.0191\n",
            "Epoch 333/400\n",
            "1/1 [==============================] - 0s 39ms/step - loss: 0.0160 - val_loss: 0.0191\n",
            "Epoch 334/400\n",
            "1/1 [==============================] - 0s 35ms/step - loss: 0.0160 - val_loss: 0.0190\n",
            "Epoch 335/400\n",
            "1/1 [==============================] - 0s 38ms/step - loss: 0.0159 - val_loss: 0.0190\n",
            "Epoch 336/400\n",
            "1/1 [==============================] - 0s 39ms/step - loss: 0.0158 - val_loss: 0.0189\n",
            "Epoch 337/400\n",
            "1/1 [==============================] - 0s 42ms/step - loss: 0.0158 - val_loss: 0.0189\n",
            "Epoch 338/400\n",
            "1/1 [==============================] - 0s 44ms/step - loss: 0.0157 - val_loss: 0.0188\n",
            "Epoch 339/400\n",
            "1/1 [==============================] - 0s 37ms/step - loss: 0.0156 - val_loss: 0.0188\n",
            "Epoch 340/400\n",
            "1/1 [==============================] - 0s 40ms/step - loss: 0.0156 - val_loss: 0.0187\n",
            "Epoch 341/400\n",
            "1/1 [==============================] - 0s 41ms/step - loss: 0.0155 - val_loss: 0.0186\n",
            "Epoch 342/400\n",
            "1/1 [==============================] - 0s 36ms/step - loss: 0.0155 - val_loss: 0.0186\n",
            "Epoch 343/400\n",
            "1/1 [==============================] - 0s 41ms/step - loss: 0.0154 - val_loss: 0.0185\n",
            "Epoch 344/400\n",
            "1/1 [==============================] - 0s 35ms/step - loss: 0.0154 - val_loss: 0.0185\n",
            "Epoch 345/400\n",
            "1/1 [==============================] - 0s 38ms/step - loss: 0.0153 - val_loss: 0.0184\n",
            "Epoch 346/400\n",
            "1/1 [==============================] - 0s 36ms/step - loss: 0.0152 - val_loss: 0.0184\n",
            "Epoch 347/400\n",
            "1/1 [==============================] - 0s 40ms/step - loss: 0.0152 - val_loss: 0.0183\n",
            "Epoch 348/400\n",
            "1/1 [==============================] - 0s 53ms/step - loss: 0.0151 - val_loss: 0.0183\n",
            "Epoch 349/400\n",
            "1/1 [==============================] - 0s 38ms/step - loss: 0.0151 - val_loss: 0.0182\n",
            "Epoch 350/400\n",
            "1/1 [==============================] - 0s 35ms/step - loss: 0.0150 - val_loss: 0.0182\n",
            "Epoch 351/400\n",
            "1/1 [==============================] - 0s 39ms/step - loss: 0.0150 - val_loss: 0.0181\n",
            "Epoch 352/400\n",
            "1/1 [==============================] - 0s 42ms/step - loss: 0.0149 - val_loss: 0.0181\n",
            "Epoch 353/400\n",
            "1/1 [==============================] - 0s 37ms/step - loss: 0.0149 - val_loss: 0.0180\n",
            "Epoch 354/400\n",
            "1/1 [==============================] - 0s 39ms/step - loss: 0.0148 - val_loss: 0.0179\n",
            "Epoch 355/400\n",
            "1/1 [==============================] - 0s 42ms/step - loss: 0.0147 - val_loss: 0.0179\n",
            "Epoch 356/400\n",
            "1/1 [==============================] - 0s 35ms/step - loss: 0.0147 - val_loss: 0.0178\n",
            "Epoch 357/400\n",
            "1/1 [==============================] - 0s 35ms/step - loss: 0.0146 - val_loss: 0.0178\n",
            "Epoch 358/400\n",
            "1/1 [==============================] - 0s 41ms/step - loss: 0.0146 - val_loss: 0.0177\n",
            "Epoch 359/400\n",
            "1/1 [==============================] - 0s 37ms/step - loss: 0.0145 - val_loss: 0.0177\n",
            "Epoch 360/400\n",
            "1/1 [==============================] - 0s 34ms/step - loss: 0.0145 - val_loss: 0.0176\n",
            "Epoch 361/400\n",
            "1/1 [==============================] - 0s 41ms/step - loss: 0.0144 - val_loss: 0.0176\n",
            "Epoch 362/400\n",
            "1/1 [==============================] - 0s 42ms/step - loss: 0.0144 - val_loss: 0.0175\n",
            "Epoch 363/400\n",
            "1/1 [==============================] - 0s 36ms/step - loss: 0.0143 - val_loss: 0.0175\n",
            "Epoch 364/400\n",
            "1/1 [==============================] - 0s 38ms/step - loss: 0.0143 - val_loss: 0.0174\n",
            "Epoch 365/400\n",
            "1/1 [==============================] - 0s 34ms/step - loss: 0.0142 - val_loss: 0.0174\n",
            "Epoch 366/400\n",
            "1/1 [==============================] - 0s 39ms/step - loss: 0.0142 - val_loss: 0.0173\n",
            "Epoch 367/400\n",
            "1/1 [==============================] - 0s 44ms/step - loss: 0.0141 - val_loss: 0.0173\n",
            "Epoch 368/400\n",
            "1/1 [==============================] - 0s 35ms/step - loss: 0.0141 - val_loss: 0.0172\n",
            "Epoch 369/400\n",
            "1/1 [==============================] - 0s 36ms/step - loss: 0.0140 - val_loss: 0.0172\n",
            "Epoch 370/400\n",
            "1/1 [==============================] - 0s 34ms/step - loss: 0.0140 - val_loss: 0.0171\n",
            "Epoch 371/400\n",
            "1/1 [==============================] - 0s 37ms/step - loss: 0.0139 - val_loss: 0.0171\n",
            "Epoch 372/400\n",
            "1/1 [==============================] - 0s 43ms/step - loss: 0.0139 - val_loss: 0.0171\n",
            "Epoch 373/400\n",
            "1/1 [==============================] - 0s 46ms/step - loss: 0.0138 - val_loss: 0.0170\n",
            "Epoch 374/400\n",
            "1/1 [==============================] - 0s 39ms/step - loss: 0.0138 - val_loss: 0.0170\n",
            "Epoch 375/400\n",
            "1/1 [==============================] - 0s 38ms/step - loss: 0.0138 - val_loss: 0.0169\n",
            "Epoch 376/400\n",
            "1/1 [==============================] - 0s 40ms/step - loss: 0.0137 - val_loss: 0.0169\n",
            "Epoch 377/400\n",
            "1/1 [==============================] - 0s 38ms/step - loss: 0.0137 - val_loss: 0.0168\n",
            "Epoch 378/400\n",
            "1/1 [==============================] - 0s 36ms/step - loss: 0.0136 - val_loss: 0.0168\n",
            "Epoch 379/400\n",
            "1/1 [==============================] - 0s 48ms/step - loss: 0.0136 - val_loss: 0.0167\n",
            "Epoch 380/400\n",
            "1/1 [==============================] - 0s 49ms/step - loss: 0.0135 - val_loss: 0.0167\n",
            "Epoch 381/400\n",
            "1/1 [==============================] - 0s 36ms/step - loss: 0.0135 - val_loss: 0.0166\n",
            "Epoch 382/400\n",
            "1/1 [==============================] - 0s 38ms/step - loss: 0.0134 - val_loss: 0.0166\n",
            "Epoch 383/400\n",
            "1/1 [==============================] - 0s 41ms/step - loss: 0.0134 - val_loss: 0.0165\n",
            "Epoch 384/400\n",
            "1/1 [==============================] - 0s 39ms/step - loss: 0.0133 - val_loss: 0.0165\n",
            "Epoch 385/400\n",
            "1/1 [==============================] - 0s 38ms/step - loss: 0.0133 - val_loss: 0.0165\n",
            "Epoch 386/400\n",
            "1/1 [==============================] - 0s 35ms/step - loss: 0.0133 - val_loss: 0.0164\n",
            "Epoch 387/400\n",
            "1/1 [==============================] - 0s 41ms/step - loss: 0.0132 - val_loss: 0.0164\n",
            "Epoch 388/400\n",
            "1/1 [==============================] - 0s 38ms/step - loss: 0.0132 - val_loss: 0.0163\n",
            "Epoch 389/400\n",
            "1/1 [==============================] - 0s 44ms/step - loss: 0.0131 - val_loss: 0.0163\n",
            "Epoch 390/400\n",
            "1/1 [==============================] - 0s 41ms/step - loss: 0.0131 - val_loss: 0.0162\n",
            "Epoch 391/400\n",
            "1/1 [==============================] - 0s 44ms/step - loss: 0.0130 - val_loss: 0.0162\n",
            "Epoch 392/400\n",
            "1/1 [==============================] - 0s 42ms/step - loss: 0.0130 - val_loss: 0.0162\n",
            "Epoch 393/400\n",
            "1/1 [==============================] - 0s 37ms/step - loss: 0.0130 - val_loss: 0.0161\n",
            "Epoch 394/400\n",
            "1/1 [==============================] - 0s 47ms/step - loss: 0.0129 - val_loss: 0.0161\n",
            "Epoch 395/400\n",
            "1/1 [==============================] - 0s 39ms/step - loss: 0.0129 - val_loss: 0.0160\n",
            "Epoch 396/400\n",
            "1/1 [==============================] - 0s 50ms/step - loss: 0.0128 - val_loss: 0.0160\n",
            "Epoch 397/400\n",
            "1/1 [==============================] - 0s 45ms/step - loss: 0.0128 - val_loss: 0.0159\n",
            "Epoch 398/400\n",
            "1/1 [==============================] - 0s 40ms/step - loss: 0.0127 - val_loss: 0.0159\n",
            "Epoch 399/400\n",
            "1/1 [==============================] - 0s 39ms/step - loss: 0.0127 - val_loss: 0.0159\n",
            "Epoch 400/400\n",
            "1/1 [==============================] - 0s 37ms/step - loss: 0.0127 - val_loss: 0.0158\n"
          ]
        },
        {
          "output_type": "execute_result",
          "data": {
            "text/plain": [
              "<keras.callbacks.History at 0x7fda5ee3f710>"
            ]
          },
          "metadata": {},
          "execution_count": 117
        }
      ]
    },
    {
      "cell_type": "code",
      "source": [
        "losses = pd.DataFrame(model.history.history)\n",
        "losses.plot()"
      ],
      "metadata": {
        "colab": {
          "base_uri": "https://localhost:8080/",
          "height": 282
        },
        "id": "LtZjsgzdi6Lp",
        "outputId": "3c43debb-75a3-48a1-b932-40615b3a0e49"
      },
      "execution_count": null,
      "outputs": [
        {
          "output_type": "execute_result",
          "data": {
            "text/plain": [
              "<matplotlib.axes._subplots.AxesSubplot at 0x7fda5efb7e50>"
            ]
          },
          "metadata": {},
          "execution_count": 118
        },
        {
          "output_type": "display_data",
          "data": {
            "image/png": "[encoded data removed]",
            "text/plain": [
              "<Figure size 432x288 with 1 Axes>"
            ]
          },
          "metadata": {
            "needs_background": "light"
          }
        }
      ]
    },
    {
      "cell_type": "code",
      "source": [
        "#Evaluation\n",
        "from sklearn.metrics import mean_squared_error,mean_absolute_error,explained_variance_score\n",
        "predictions = model.predict(X_test)\n",
        "predictions"
      ],
      "metadata": {
        "colab": {
          "base_uri": "https://localhost:8080/"
        },
        "id": "Dn1we9rIjBQ1",
        "outputId": "91f512fb-8d72-4ab7-dc8d-db6ab3a8d449"
      },
      "execution_count": null,
      "outputs": [
        {
          "output_type": "execute_result",
          "data": {
            "text/plain": [
              "array([[1.6406418 ],\n",
              "       [1.8862704 ],\n",
              "       [1.414092  ],\n",
              "       [1.899971  ],\n",
              "       [1.8532008 ],\n",
              "       [1.8563603 ],\n",
              "       [1.9401783 ],\n",
              "       [1.8862597 ],\n",
              "       [1.8717378 ],\n",
              "       [1.6214403 ],\n",
              "       [1.4843733 ],\n",
              "       [1.6060034 ],\n",
              "       [1.4263173 ],\n",
              "       [1.5259633 ],\n",
              "       [0.97307414],\n",
              "       [1.3855283 ],\n",
              "       [1.1671228 ],\n",
              "       [1.7756294 ],\n",
              "       [1.8365095 ],\n",
              "       [1.1933368 ],\n",
              "       [1.6065677 ],\n",
              "       [2.1020172 ],\n",
              "       [1.7931089 ],\n",
              "       [1.6236771 ],\n",
              "       [1.493519  ],\n",
              "       [2.0252717 ],\n",
              "       [1.7894933 ],\n",
              "       [1.5655117 ],\n",
              "       [1.6287348 ],\n",
              "       [1.5864803 ],\n",
              "       [1.3959068 ],\n",
              "       [1.6538447 ],\n",
              "       [1.1683373 ],\n",
              "       [1.1534503 ],\n",
              "       [1.5085937 ],\n",
              "       [1.3422594 ],\n",
              "       [1.5866942 ],\n",
              "       [1.322396  ],\n",
              "       [1.4786538 ]], dtype=float32)"
            ]
          },
          "metadata": {},
          "execution_count": 119
        }
      ]
    },
    {
      "cell_type": "code",
      "source": [
        "print('MAE: ',mean_absolute_error(y_test,predictions))\n",
        "print('MSE: ',mean_squared_error(y_test,predictions))"
      ],
      "metadata": {
        "colab": {
          "base_uri": "https://localhost:8080/"
        },
        "id": "7TuKH7d9jFOS",
        "outputId": "cc87fae6-e44a-419e-f39e-d04f289ebb4c"
      },
      "execution_count": null,
      "outputs": [
        {
          "output_type": "stream",
          "name": "stdout",
          "text": [
            "MAE:  0.10604931776340192\n",
            "MSE:  0.015820854464723023\n"
          ]
        }
      ]
    },
    {
      "cell_type": "code",
      "source": [
        "print('RMSE: ',np.sqrt(mean_squared_error(y_test,predictions)))"
      ],
      "metadata": {
        "colab": {
          "base_uri": "https://localhost:8080/"
        },
        "id": "jlyCKSUhjEvB",
        "outputId": "40c72dc6-2e14-4d9e-dcfd-b99cd5e1a9f8"
      },
      "execution_count": null,
      "outputs": [
        {
          "output_type": "stream",
          "name": "stdout",
          "text": [
            "RMSE:  0.12578097815140024\n"
          ]
        }
      ]
    },
    {
      "cell_type": "code",
      "source": [
        "print('Variance Regression Score: ',explained_variance_score(y_test,predictions))\n"
      ],
      "metadata": {
        "colab": {
          "base_uri": "https://localhost:8080/"
        },
        "id": "BM7p3Vn3mN5c",
        "outputId": "a353d991-be2d-45f3-e82e-e1cb3dc1200e"
      },
      "execution_count": null,
      "outputs": [
        {
          "output_type": "stream",
          "name": "stdout",
          "text": [
            "Variance Regression Score:  0.7947275496727729\n"
          ]
        }
      ]
    },
    {
      "cell_type": "code",
      "source": [
        "f, axes = plt.subplots(1, 2,figsize=(15,5))\n",
        "\n",
        "# Our model predictions\n",
        "plt.scatter(y_test,predictions)\n",
        "\n",
        "# Perfect predictions\n",
        "plt.plot(y_test,y_test,'r')\n",
        "\n",
        "errors = y_test.values.reshape(39, 1) - predictions\n",
        "sns.distplot(errors, ax=axes[0])\n",
        "\n",
        "sns.despine(left=True, bottom=True)\n",
        "axes[0].set(xlabel='Error', ylabel='', title='Error Histogram')\n",
        "axes[1].set(xlabel='Test True Y', ylabel='Model Predictions', title='Model Predictions vs Perfect Fit')"
      ],
      "metadata": {
        "colab": {
          "base_uri": "https://localhost:8080/",
          "height": 406
        },
        "id": "e_ocfa7opQCl",
        "outputId": "5347cd23-2b4d-4a20-a867-cfe7c9978c75"
      },
      "execution_count": null,
      "outputs": [
        {
          "output_type": "execute_result",
          "data": {
            "text/plain": [
              "[Text(0, 0.5, 'Model Predictions'),\n",
              " Text(0.5, 0, 'Test True Y'),\n",
              " Text(0.5, 1.0, 'Model Predictions vs Perfect Fit')]"
            ]
          },
          "metadata": {},
          "execution_count": 129
        },
        {
          "output_type": "display_data",
          "data": {
            "image/png": "[encoded data removed]",
            "text/plain": [
              "<Figure size 1080x360 with 2 Axes>"
            ]
          },
          "metadata": {
            "needs_background": "light"
          }
        }
      ]
    },
    {
      "cell_type": "code",
      "source": [
        "# Predicting on a brand new house\n",
        "# fueatures of new house\n",
        "FFB_prev = df.drop(['Date','year','month'],axis=1).iloc[0]\n",
        "print(f'Features of new FFB:\\n{FFB_prev}')\n",
        "\n"
      ],
      "metadata": {
        "colab": {
          "base_uri": "https://localhost:8080/"
        },
        "id": "fj7gwObJpoEq",
        "outputId": "778e73f0-3108-4fac-a3b0-b15ade7fbca3"
      },
      "execution_count": null,
      "outputs": [
        {
          "output_type": "stream",
          "name": "stdout",
          "text": [
            "Features of new FFB:\n",
            "SoilMoisture        616.400000\n",
            "Average_Temp         25.306452\n",
            "Min_Temp             21.300000\n",
            "Max_Temp             32.200000\n",
            "Precipitation       184.400000\n",
            "Working_days         25.000000\n",
            "HA_Harvested     777778.395100\n",
            "FFB_Yield             1.620000\n",
            "Name: 0, dtype: float64\n"
          ]
        }
      ]
    },
    {
      "cell_type": "code",
      "source": [
        "# reshape the numpy array and scale the features\n",
        "FFB_prev = scaler.transform(FFB_prev.values.reshape(-1,8))\n",
        "\n"
      ],
      "metadata": {
        "id": "Cpur2TEKqphe"
      },
      "execution_count": null,
      "outputs": []
    },
    {
      "cell_type": "code",
      "source": [
        "# run the model and get the price prediction\n",
        "print('\\nPrediction Price:',model.predict(FFB_prev)[0,0])\n",
        "\n",
        "# original price\n",
        "print('\\nOriginal Price:',df.iloc[0]['FFB_Yield'])"
      ],
      "metadata": {
        "colab": {
          "base_uri": "https://localhost:8080/"
        },
        "id": "0IRBJiPasBxQ",
        "outputId": "cf33bef6-05f3-4c3c-8c8c-8fc7dba80948"
      },
      "execution_count": null,
      "outputs": [
        {
          "output_type": "stream",
          "name": "stdout",
          "text": [
            "\n",
            "Prediction Price: 1.5864803\n",
            "\n",
            "Original Price: 1.62\n"
          ]
        }
      ]
    },
    {
      "cell_type": "markdown",
      "source": [
        "**From the previous discussion , we applied both Multiple lInear Regression and Deep learning model and found that the Deep Learning model produces high accuracy**"
      ],
      "metadata": {
        "id": "LEdvkzXqmn1Z"
      }
    }
  ]
}